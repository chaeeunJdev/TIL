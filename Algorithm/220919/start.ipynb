{
 "cells": [
  {
   "cell_type": "markdown",
   "metadata": {},
   "source": [
    "## Today I Learned\n",
    "---"
   ]
  },
  {
   "cell_type": "markdown",
   "metadata": {},
   "source": [
    "### 💡알고리즘  \n",
    "\n",
    "개념 \n",
    "- 유한한 단계를 통해 문제를 해결하기 위한 절차나 방법  \n",
    "\n",
    "\n",
    "알고리즘의 효율  \n",
    "- 공간적 효율성 : 연산량 대비 얼마나 작은 메모리 공간을 요하는 가  \n",
    "- 시간적 효율성 : 연산량 대비 얼마나 적은 시간을 요하는 가  \n",
    "- 효율성을 뒤집어 표현하면 복잡도(Complexity)가 된다. 복답도가 높을수록 효율성은 저하된다. 복잡도가 높을수록 효율성은 저하된다.\n",
    "\n",
    "\n",
    "복잡도  \n",
    "- 시간(또는 공간)복잡도는 입력 크기에 대한 함수로 표기하는데, 이 함수는 주로 여러 개의 항을 가지는 다항식이다.  \n",
    "- 이를 단순한 함수로 표현하기 위해 점근적 표기를 사용한다.  \n",
    "- 입력의 크기 n이 무한대로 커질 때의 복잡도를 간단히 표현하기 위해 사용하는 표기법이다.  \n",
    "    - 빅 오 표기  \n",
    "        - 복잡도의 점근적 상한을 나타낸다  \n",
    "        - 복잡도가 f(n) = 2n^2 -7n +4 라면, f(n)의 O-펴기는 O(n^2)이다.  \n",
    "        - 다른 항들, 혹은 상수들도 영향을 주겠지만, 가장 단순화된 표현은 n^2  \n",
    "    - 오메가 표기  \n",
    "        - 복잡도의 점근적 하한을 의미한다  \n",
    "        - 같은 f(n) 식에서 오메가 표기는(n^2)이다.  \n",
    "        - n이 증가함에 따라 2n^2 - 7n +4이 cn^2 보다 작을 수 없다라는 의미로 이때 상수 c=1로 놓으면 된다.    \n",
    "        - 빅오표기법과 마찬가지로 `다항식의 최고차항만 계수 없이` 취하면 된다.\n",
    "        - `최소한 이만한 시간은 걸린다.`    \n",
    "    - Theta 표기  \n",
    "        - 빅오 표기와 오메가 표기가 같은 경우에 사용한다  \n",
    "        - 현재 f(n) 식의 빅오 표기와 오메가 표기가 같으므로 theta표기도 n^2이 되며, `\"f(n)은 n이 증가함에 따라 n^2과 동일한 증가율을 가진다\"` 라는 의미이다.  "
   ]
  },
  {
   "cell_type": "markdown",
   "metadata": {},
   "source": [
    "### 💡Python3 표준 입출력  \n",
    "\n",
    "입력  \n",
    "- Raw 값의 입력 : input()\n",
    "    받은 입력값을 문자열로 취급  \n",
    "\n",
    "- Evaluated된 값 입력 : eval(input())\n",
    "    받은 입력값을 평가된 데이터 형으로 취급  \n",
    "\n",
    "\n",
    "파일의 내용을 표준 입력으로 읽어오는 방법\n",
    "\n",
    "```python\n",
    "import sys\n",
    "sys.stdin = open(\"a.txt\", \"r\")\n",
    "text = input()\n",
    "print(text)\n",
    "```"
   ]
  },
  {
   "cell_type": "markdown",
   "metadata": {},
   "source": [
    "### 💡비트 연산자  \n",
    "\n",
    "- & : AND  \n",
    "- | : OR  \n",
    "- ^ : XOR(두 피연산자가 같으면 0 다르면)  \n",
    "- ~ : 비트 반전  \n",
    "- << : 피연산자의 비트 열을 왼쪽으로 이동시킨다.\n",
    "- '>> : 피연산자의 비트 열을 오른쪽으로 이동시킨다."
   ]
  },
  {
   "cell_type": "markdown",
   "metadata": {},
   "source": [
    "### 💡엔디안(Endianness)\n",
    "\n",
    "엔디안은 크게 두 가지로 나뉨  \n",
    "- 빅 엔디안  \n",
    "    - 보통은 큰 단위가 앞에 나옴. 네트워크  \n",
    "- 리틀 엔디안  \n",
    "    - 작은 단위가 앞에 나옴. 대다수 데스크탑 컴퓨터"
   ]
  },
  {
   "cell_type": "markdown",
   "metadata": {},
   "source": []
  }
 ],
 "metadata": {
  "kernelspec": {
   "display_name": "Python 3.10.5 ('venv': venv)",
   "language": "python",
   "name": "python3"
  },
  "language_info": {
   "name": "python",
   "version": "3.10.5"
  },
  "orig_nbformat": 4,
  "vscode": {
   "interpreter": {
    "hash": "5f2ec6bafec7af61e4afafbd35d4179b6a58552b2c3768487d3d1688a34a24d7"
   }
  }
 },
 "nbformat": 4,
 "nbformat_minor": 2
}
