{
 "cells": [
  {
   "cell_type": "markdown",
   "metadata": {},
   "source": [
    "## Today I Learned  \n",
    "\n",
    "---"
   ]
  },
  {
   "cell_type": "markdown",
   "metadata": {},
   "source": [
    "### 💡반복을 이용한 선택정렬\n",
    "```\n",
    "def SelectionSort(A):\n",
    "    n = len(A)\n",
    "    for i in range(0, n-1):\n",
    "        minI = i\n",
    "        for j in range(i+1, n):\n",
    "            if A[j] < A[minI] :\n",
    "                minI = j\n",
    "        A[minI], A[i] = A[i], A[minI] \n",
    "```"
   ]
  },
  {
   "cell_type": "markdown",
   "metadata": {},
   "source": [
    "### 💡팩토리얼 재귀함수  \n",
    "```\n",
    "def fact(n):\n",
    "    if n <= 1:\n",
    "        return 1\n",
    "    else :\n",
    "        return n * fact(n-1)\n",
    "```"
   ]
  },
  {
   "cell_type": "markdown",
   "metadata": {},
   "source": [
    "### 💡Brute-force  \n",
    "```\n",
    "SequentialSearch(A[0,,,n], k)\n",
    "    A[n] <- k\n",
    "    i <- 0\n",
    "    while i < n and A[i] != k\n",
    "        i++\n",
    "    if i < n : return i\n",
    "    else : return -1\n",
    "```"
   ]
  },
  {
   "cell_type": "markdown",
   "metadata": {},
   "source": [
    "### 💡완전 검색  \n",
    "\n",
    "- 많은 종류의 문제들이 특정 조건을 만족하는 경우나 요소를 찾는 것  \n",
    "- 또한, 이들은 전형적으로 순열, 조합, 그리고 부분집합과 같은 조합적 문제들과 연관된다.  \n",
    "- 완전검색은 조합적 문제에 대한 brute-force 방법이다."
   ]
  },
  {
   "cell_type": "markdown",
   "metadata": {},
   "source": [
    "### 💡재귀 호출을 통한 순열 생성  \n",
    "\n",
    "```\n",
    "perm(n, k):\n",
    "    if n == k:\n",
    "        print array  \n",
    "    else :\n",
    "        for i : n -> k-1\n",
    "            p[n] <-> p[i]\n",
    "            perm(n+1, k)\n",
    "            p[n] <=> p[i]\n",
    "```"
   ]
  },
  {
   "cell_type": "markdown",
   "metadata": {},
   "source": [
    "### 💡부분집합 생성  \n",
    "```\n",
    "arr = [3, 6, 7, 1, 5, 4]\n",
    "n = len(arr)\n",
    "for i in range(1<<n):\n",
    "    for j in range(n):\n",
    "        if i & (1 << j):\n",
    "            print(arr[j], end=' ')\n",
    "    print()\n",
    "```"
   ]
  },
  {
   "cell_type": "markdown",
   "metadata": {},
   "source": [
    "### 💡탐욕 기법 알고리즘  \n",
    "\n",
    "- Prim : N개의 노드에 대한 최소 신장 트리(NST)를 찾는다.(서브트리 확장하면서 찾는다)  \n",
    "- Kruskal : N개의 노드에 대한 최소 신장 트리(NST)를 찾는다(싸이클이 없는 서브 그래프를 확장하면서 찾는다).  \n",
    "- Dijkstra : 주어진 정점에서 다른 정점들에 대한 최단 경로를 찾는다.(주어진 정점에서 가장 가까운 정점을 찾고, 그 다음 정점을 반복해서 찾는다)  \n",
    "- Huffman tree & code : 문서의 압축을 위해 문자들의 빈도수에 따라 코드값을 부여한다.(출혈 빈도가 낮은 문자부터 선택해서 이진 트리를 완성하고 코드값을 부여한다.)"
   ]
  },
  {
   "cell_type": "markdown",
   "metadata": {},
   "source": []
  }
 ],
 "metadata": {
  "kernelspec": {
   "display_name": "Python 3.10.5 64-bit",
   "language": "python",
   "name": "python3"
  },
  "language_info": {
   "name": "python",
   "version": "3.10.5"
  },
  "orig_nbformat": 4,
  "vscode": {
   "interpreter": {
    "hash": "fb4569285eef3a3450cb62085a5b1e0da4bce0af555edc33dcf29baf3acc1368"
   }
  }
 },
 "nbformat": 4,
 "nbformat_minor": 2
}
