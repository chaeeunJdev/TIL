{
 "cells": [
  {
   "cell_type": "markdown",
   "metadata": {},
   "source": [
    "## Today I Learned\n",
    "\n",
    "---\n",
    "### 스택"
   ]
  },
  {
   "cell_type": "markdown",
   "metadata": {},
   "source": [
    "### 💡스택  \n",
    "특성  \n",
    "- 물건을 쌓아 올리듯 자료를 쌓아 올린 형태의 자료구조 \n",
    "- 스택에 저장된 자료는 선형 구조를 갖는다.  \n",
    "    - 선형 구조 : 자료 간의 관계가 1:1의 관계를 갖는다.  \n",
    "    - 비선형 구조 : 자료 간의 관계가 1대 다의 관계를 갖는다.(예 : 트리)  \n",
    "- 스택에 자료를 삽입하거나 스택에서 자료를 꺼낼 수 있다.  \n",
    "- `마지막에 삽입한 자료를 가장 먼저 꺼낸다. 후입선출(LIFO, Last in First Out)`\n",
    "\n",
    "스택의 구현  \n",
    "- 자료구조 : 자료를 선형으로 저장할 저장소   \n",
    "- 배열을 사용할 수 있다  \n",
    "- 저장소 자체를 스택이라 부르기도 한다.  \n",
    "- 스택에서 마지막 삽입된 원소를 `top 혹은 스택포인터` 라고 부른다  \n",
    "\n",
    "연산  \n",
    "- 삽입 : 저장소에 자료를 저장한다 = push   \n",
    "- 삭제 : 저장소에서 자료를 꺼낸다. 꺼낸 자료는 삽입한 자료의 역순으로 꺼낸다 = pop\n",
    "- 스택이 공백인지 아닌지를 확인하는 연산 = isEmpty  \n",
    "- 스택의 top에 있는 item을 반환하는 연산 = peek  \n",
    "\n",
    "빈 스택에 push A를 하면 top을 스택의 맨 아래 자리로 올려주고(빈 스택에서 top은 -1에 위치함!) 그 자리에 A 삽입.    \n",
    "push B 를 해주면 A의 위에 자리로 top을 올려주고 그 자리에 B 삽입.   \n",
    "pop B하면 top자리에 있던 B를 없애고 top을 한 칸 아래로 내려줌."
   ]
  },
  {
   "cell_type": "code",
   "execution_count": 2,
   "metadata": {},
   "outputs": [],
   "source": [
    "# 스택의 push 알고리즘\n",
    "\n",
    "# 기본\n",
    "def push(item):\n",
    "    s.append(item)\n",
    "\n",
    "# 더 정확하게 구현  \n",
    "def push(item, size):\n",
    "    global top\n",
    "    top += 1\n",
    "    if top == size:\n",
    "        print(\"overflow!\") # 디버깅용! 없어도 됨\n",
    "    else:\n",
    "        stack[top] = item\n",
    "\n",
    "size = 10  \n",
    "stack = [0] * size  \n",
    "top = -1  \n",
    "\n",
    "push(10, size)  \n",
    "\n",
    "# 그냥 아래 두 줄 처럼 구현해도 되긴 함!\n",
    "top += 1   # push(20)\n",
    "stack[top] = 20\n"
   ]
  },
  {
   "cell_type": "code",
   "execution_count": 4,
   "metadata": {},
   "outputs": [
    {
     "name": "stdout",
     "output_type": "stream",
     "text": [
      "20\n",
      "0\n"
     ]
    }
   ],
   "source": [
    "# 스택의 pop 알고리즘 \n",
    "\n",
    "# 기본\n",
    "def pop():\n",
    "    if len(s) ==0 :\n",
    "        return\n",
    "    else : \n",
    "        return s.pop(-1)\n",
    "\n",
    "# 더 정확하게 구현  \n",
    "def pop() :\n",
    "    global top\n",
    "    if top == -1:\n",
    "        print('underflow') # top이 -1이면 비어있는 스택이니까 디버깅용으로 출력\n",
    "        return 0\n",
    "    else :\n",
    "        top -= 1\n",
    "        return stack[top+1] # 현재 top에 있는 걸 꺼내고 top -1을 해줘야하니까 return에서는 top+1에 있는걸 꺼내줌\n",
    "print(pop())\n",
    "\n",
    "# 아래 세 줄 처럼 구현해도 됨\n",
    "if top > -1 :  #pop()\n",
    "    top -= 1\n",
    "    print(stack[top+1]) # 지우는 동작이 없어도 push할 때 top이 올라가고 그 자리에 새로운 값을 넣어주니까 자료를 지우는 것처럼 됨!"
   ]
  },
  {
   "cell_type": "markdown",
   "metadata": {},
   "source": [
    "### 💡스택 구현 고려 사항  \n",
    "* 1차원 배열을 사용하여 구현할 경우 용이하다는 장점이 있지만 스택의 크기를 변경하기가 어렵다는 단점이 있다.  \n",
    "\n",
    "* 이를 해결하기 위한 방법으로 저장소를 동적으로 할당하여 스택을 구현하는 방법이 있다. 동적 연결리스트를 이용하여 구현하는 방법을 의미한디. 구현이 복잡하지만 메모리를 효율적으로 사용할 수 있다.  "
   ]
  },
  {
   "cell_type": "markdown",
   "metadata": {},
   "source": [
    "### 💡스택의 응용  \n",
    "1. 괄호\n",
    "    괄호의 종류 : 대괄호, 중괄호, 소괄호  \n",
    "\n",
    "    조건  \n",
    "    - 왼쪽 괄호의 개수와 오른쪽 괄호의 개수는 같아야 한다.  \n",
    "    - 같은 괄호에서 왼쪽 괄호는 오른쪽 괄호보다 먼저 나와야 한다.  \n",
    "    - 괄호 사이에는 포함 관계만 존재한다.\n",
    "    \n",
    "<br>\n",
    "2. Function call  \n",
    "\n",
    "- 프로그램에서의 함수 호출과 복귀에 따른 수행 순서를 관리  \n",
    "- 후입선출 구조의 스택을 이용하여 수행순서 관리  \n",
    "- 함수 호출이 발생하면 호출한 함수 수행에 필요한 지역변수,  매개변수 및 수행 후 복귀할 주소 등의 정보를 스택 프레임에 저장하여 시스템 스택에 삽입  \n",
    "- 함수의 실행이 끝나면 시스템 스택의 top원소(스택 프레임)를 삭제(pop)하면서 프레임에 저장되어있던 복귀주소를 확인하고 복귀  \n",
    "- 함수 호출과 복귀에 따라 이 과정을 반복하여 전체 프로그램 수행이 종료되면 시스템 스택은 공백 스택이 된다."
   ]
  },
  {
   "cell_type": "markdown",
   "metadata": {},
   "source": [
    "---\n"
   ]
  },
  {
   "cell_type": "markdown",
   "metadata": {},
   "source": [
    "### 💡재귀호출  \n",
    "일반적인 호출방식보다 재귀호출방식을 사용하여 함수를 만들면 프로그램의 크기를 줄이고 간단하게 작성 가능  \n",
    "\n",
    "예) 팩토리얼 / 피보나치 수열(0과 1로 시작하고 이전의 두 수의 합을 다음 항으로 하는 수열)"
   ]
  },
  {
   "cell_type": "code",
   "execution_count": null,
   "metadata": {},
   "outputs": [],
   "source": [
    "# 피보나치\n",
    "def fibo(n) :\n",
    "    if n < 2 :\n",
    "        return n\n",
    "    else : \n",
    "        return fibo(n-1) + fibo(n-2)"
   ]
  },
  {
   "cell_type": "markdown",
   "metadata": {},
   "source": [
    "### 💡Memoization  \n",
    "\n",
    "- 메모이제이션은 컴퓨터 프로그램을 실행할 때 이전에 계산한 값을 메모리에 저장해서 매번 다시 계산하지 않도록 하여 전체적인 실행속도를 빠르게 하는 기술이다. 동적 계획법의 핵심!  \n"
   ]
  },
  {
   "cell_type": "code",
   "execution_count": null,
   "metadata": {},
   "outputs": [],
   "source": [
    "# memoization 을 적용한 알고리즘\n",
    "\n",
    "# memo를 위한 배열을 할당하고, 모두 0으로 초기화한다.\n",
    "# memo[0]을 0으로 memo[1]는 1로 초기화 한다.\n",
    "def fibo1(n) :\n",
    "    global meno\n",
    "    if n >= 2 and len(memo) <= n :\n",
    "        memo.append(fibo(n-1) + fibo(n-2))\n",
    "    return memo[n]\n",
    "memo = [0, 1]"
   ]
  },
  {
   "cell_type": "markdown",
   "metadata": {},
   "source": [
    "---\n"
   ]
  },
  {
   "cell_type": "markdown",
   "metadata": {},
   "source": [
    "### 💡동적계획(Dynamic Programming)  \n",
    "- 동적계획법은 그리디 알고리즘과 같이 최적화 문제를 해결하는 알고리즘이다.\n",
    "\n",
    "- 먼저 입력 크기가 작은 부분 문제들을 모두 해결한 후에 그 해들을 이용하여 보다 큰 크기의부분 문제 들을 해결하여, 최종적으로 원래 주어진 입력의 문제를 해결하는 알고리즘이다.\n",
    "\n",
    "\n",
    "피보나치 수 DP 적용  \n",
    "- 문제를 부분 문제로 분할  \n",
    "- 가장 작은 문제부터 해를 구한다  \n",
    "- 결과를 테이블에 저장하고, 테이블에 저장된 부분 문제의 해를 이용하여 상위 문제의 해를 구한다"
   ]
  },
  {
   "cell_type": "code",
   "execution_count": null,
   "metadata": {},
   "outputs": [],
   "source": [
    "# 피보나치 수 DP 적용 알고리즘  \n",
    "def fibo2(n) :\n",
    "    f = [0, 1]\n",
    "\n",
    "    for i in range(2, n+1):\n",
    "        f.append(f[i-1] + f[i-2])\n",
    "\n",
    "    return f[n]"
   ]
  },
  {
   "cell_type": "markdown",
   "metadata": {},
   "source": [
    "---"
   ]
  },
  {
   "cell_type": "markdown",
   "metadata": {},
   "source": [
    "### 💡DFS(깊이우선탐색)  \n",
    "- 비선형구조인 그래프 구조는 그래프로 표현된 모든 자료를 빠짐없이 검색하는 것이 중요  \n",
    "- 두가지 방법\n",
    "    - 깊이 우선 탐색(Depth Frist Search, DFS)\n",
    "    - 너비 우선 탐색(Breadth First Search, BFS)\n",
    "\n",
    "깊이 우선 탐색  \n",
    "- 시작 정점의 한 방향으로 갈 수 있는 경로가 잇는 곳까지 깊이 탐색해 가다가 더 이상 갈 곳이 업섹 되면, 가장 마지막에 만났던 갈림길 간선이 있는 정점으로 되돌아와서 다른 방향의 정점으로 탐색을 계속 반복 => 결국 모든 정점을 순회\n",
    "\n",
    "- 가장 마지막에 만났던 갈림길의 정점으로 되돌아가서 다시 DFS를 반복해야 하므로 후입선출 구조의 스택 사용\n",
    "\n",
    "\n",
    "알고리즘 방법  \n",
    "1. 시작 정점 v를 결정하여 방문한다.  \n",
    "2. 정점 v에 인접한 정점 중에서  \n",
    "    - 방문하지 않은 정점 w가 있다면, 정점 v를 스택에 push하고 정점 w를 방문한다. 그리고 w를 v로 하여 다시 2를 반복한다.  \n",
    "    - 방문하지 않은 정점이 없으면, 탐색의 방향을 바꾸기 위해서 스택을 pop하여 받은 가장 마지막 방문 정점을 v로 하여 다시 2를 반복한다.\n",
    "3. 스택이 공백이 될 때까지 2를 반복한다."
   ]
  },
  {
   "cell_type": "markdown",
   "metadata": {},
   "source": [
    "```\n",
    "visited[], stack[] \n",
    "DFS(v)\n",
    "    시작점 v 방문;\n",
    "    visited[v] <- true;\n",
    "    while {\n",
    "        if (v의 인접 정점 중 방문 안 한 정점 w가 있으면)\n",
    "            push(v)\n",
    "            v <- w;\n",
    "            visited[w] <- true;\n",
    "        else \n",
    "            if (스택이 비어 있지 않으면)\n",
    "                v <- pop(stack);\n",
    "            else \n",
    "                break\n",
    "    }\n",
    "end DFS()\n",
    "```"
   ]
  },
  {
   "cell_type": "markdown",
   "metadata": {},
   "source": []
  }
 ],
 "metadata": {
  "kernelspec": {
   "display_name": "Python 3.10.5 64-bit",
   "language": "python",
   "name": "python3"
  },
  "language_info": {
   "codemirror_mode": {
    "name": "ipython",
    "version": 3
   },
   "file_extension": ".py",
   "mimetype": "text/x-python",
   "name": "python",
   "nbconvert_exporter": "python",
   "pygments_lexer": "ipython3",
   "version": "3.10.5"
  },
  "orig_nbformat": 4,
  "vscode": {
   "interpreter": {
    "hash": "fb4569285eef3a3450cb62085a5b1e0da4bce0af555edc33dcf29baf3acc1368"
   }
  }
 },
 "nbformat": 4,
 "nbformat_minor": 2
}
