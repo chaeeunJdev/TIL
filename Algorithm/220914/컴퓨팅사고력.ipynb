{
 "cells": [
  {
   "cell_type": "markdown",
   "metadata": {},
   "source": [
    "## Today I Learned  \n",
    "---"
   ]
  },
  {
   "cell_type": "markdown",
   "metadata": {},
   "source": [
    "### 💡프로그래밍과 논리/수학  \n",
    "\n",
    "- 논리곱 AND : p, q 모두 참이어야 참\n",
    "- 논리합 OR : p, q 모두 거짓이어야만 거짓\n",
    "- 배타적 논리합 XOR : p, q 중 하나만 참일 때 참\n",
    "\n",
    "조건명제 p이면 q이다  \n",
    "p   q   p->q  \n",
    "T   T    T  \n",
    "T   F    F  \n",
    "F   T    T  \n",
    "F   F    T  \n",
    "\n",
    "\n",
    "쌍방조건명제 p<->q. P면 q고, q면 p이다  \n",
    "p   q   p<->q  \n",
    "T   T    T  \n",
    "T   F    F  \n",
    "F   T    F  \n",
    "F   F    T  "
   ]
  },
  {
   "cell_type": "markdown",
   "metadata": {},
   "source": []
  }
 ],
 "metadata": {
  "language_info": {
   "name": "python"
  },
  "orig_nbformat": 4
 },
 "nbformat": 4,
 "nbformat_minor": 2
}
