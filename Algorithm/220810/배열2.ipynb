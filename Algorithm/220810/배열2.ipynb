{
 "cells": [
  {
   "cell_type": "markdown",
   "metadata": {},
   "source": [
    "## Today I Learned\n",
    "---\n",
    "### 배열:2차원 배열"
   ]
  },
  {
   "cell_type": "markdown",
   "metadata": {},
   "source": [
    "### 💡2차원 배열의 선언  \n",
    "* 1차원 list를 묶어놓은 list  \n",
    "* 2차원 이상의 다차원 list는 차원에 따라 index르 ㄹ선언  \n",
    "* 2차원 list의 선언 : 세로길이(행의 개수), 가로길이(열의 개수)를 필요로 함  \n",
    "* python에서는 데이터 초기화를 통해 변수선언과 초기화가 가능함\n",
    "\n",
    "```\n",
    "# N,N배열을 만드는 경우\n",
    "N  = int(input())\n",
    "arr = [list(map(int, input().split())) for _ in range(N)]\n",
    "# 개별 원소 접근\n",
    "for i in range(N) : \n",
    "    for j in range(N) : \n",
    "        print(arr[i][j], end=' ')\n",
    "    print()\n",
    "\n",
    "# N,M 배열을 만드는 경우\n",
    "N, M  = map(int,input().split())\n",
    "arr = [list(map(int, input().split())) for _ in range(N)]\n",
    "# 개별 원소 접근\n",
    "for i in range(N) : # N 대신 len(arr)을 써도 됨\n",
    "    for j in range(M) : # M 대신 len(arr[0])을 써도 됨\n",
    "        print(arr[i][j], end=' ')\n",
    "    print()\n",
    "\n",
    "# 열 우선 순회\n",
    "for j in range(M) : \n",
    "    for i in range(N) : \n",
    "        Array[i][j] # 필요한 연산 수행\n",
    "\n",
    "# 열 거꾸로 순회 (3 2 1 6 5 4 9 8 7 순서로 읽어짐)\n",
    "for i in range(N) : \n",
    "    for j in range(N) : \n",
    "        Array[i][m-1-j] # 고정되어있는 값에서 j를 빼주면서 거꾸로 읽게 함\n",
    "\n",
    "# 지그재그 순회 (1 2 3 6 5 4 7 8 9 순서로 읽어짐)\n",
    "for i in range(N) : \n",
    "    for j in range(M) : \n",
    "        Array[i][j + (M-1-2*j) * (i%2)] # 짝수 홀수일때로 나눠서 짝수일 때는 i%2가 0이니까 j만 남게되므로 평소와 같은 방향으로 읽게 됨\n",
    "\n",
    "\n",
    "# 델타를 이용한 2차원 배열 탐색\n",
    "di = [0, 1, 0, -1]\n",
    "dj = [1, 0, -1, 0]\n",
    "N = 3\n",
    "M = 4\n",
    "arr = [[1,2,3,4],[5,6,7,8]]\n",
    "for i in range(N) : \n",
    "    for j in range(M):\n",
    "        for k in range(4):\n",
    "            # for d in range(1,3): # 두칸씩 보고싶은 경우 추가\n",
    "            ni = i + di[k] # 두칸씩 보고싶은 경우 i + di[k]*d\n",
    "            nj = j + dj[k] # 두칸씩 보고싶은 경우 i + dj[k]*d\n",
    "            if 0<=ni<N and 0<=nj<M:\n",
    "                print(ni, nj)\n",
    "\n",
    "\n",
    "# 전치 행렬\n",
    "for i in range(3) :\n",
    "    for j in range(3) :\n",
    "        if i < j :\n",
    "            arr[i][j], arr[j][i] = arr[j][i], arr[i][j]\n",
    "\n",
    "```\n"
   ]
  },
  {
   "cell_type": "markdown",
   "metadata": {},
   "source": [
    "### 💡부분집합 만들기  \n",
    "\n",
    "* 집합의 원소가 n개일 때, 공집합을 포함한 부분집합의 수는 2^n개이다.  \n",
    "* 이는 각 원소를 부분집합에 포함시키거나 포함시키지 않는 2가지 경우를 모든 원소에 적용한 경우의 수와 같다.\n",
    "\n",
    "* 각 원소가 부분집합에 포함되었는지 확인하고 부분집합을 생성하는 방법\n",
    "```\n",
    "bit = [0,0,0,0] # 각 원소가 포함되어있으면 1 아니면 0\n",
    "for i in range(2) :\n",
    "    bit[0] = i # 0번째 원소\n",
    "    for j in range(2) :\n",
    "        bit[1] = j # 1번째 원소\n",
    "        for j in range(2) :\n",
    "            bit[1] = j # 2번째 원소\n",
    "            for j in range(2) :\n",
    "                bit[1] = j # 3번째 원소\n",
    "                print(_subset(bit)) # 생성된 부분집합\n",
    "```"
   ]
  },
  {
   "cell_type": "markdown",
   "metadata": {},
   "source": [
    "### 💡비트 연산자  \n",
    "* & : AND (i&j로 1111& 1001 => 1001이 됨)  \n",
    "* I : OR  \n",
    "* '<<' : 피연산자의 비트 열을 왼쪽으로 이동시킨다.\n",
    "* '>>' : 피연산자의 비트 열을 오른쪽으로 이동시킨다."
   ]
  },
  {
   "cell_type": "markdown",
   "metadata": {},
   "source": [
    "### 💡<<연산자와 &연산자\n",
    "* 1 << n : 2^n 즉, n개일 경우의 모든 부분집합의 수를 의미한다.  \n",
    "    ex) 0001을 3만큼 왼쪽으로 넘기면 1000이되는데 이 4자리는 2^3 2^2 2^1 2^0을 의미하므로 1000은 2^3이 된다.)\n",
    "* i & (1 << j) : 비트 j만 남기고 나머지를 0으로 바꾼다 ==> i의 j번째 비트가 1인지 아닌지를 검사한다. => j번째비트가 0이면 결과가 0이 나옴  \n"
   ]
  },
  {
   "cell_type": "markdown",
   "metadata": {},
   "source": [
    "### 💡비트 연산자를 활용하여 간결하게 부분집합 생성하는 방법  \n",
    "\n",
    "```\n",
    "arr = [3,6,7,1,5,4]\n",
    "\n",
    "n = len(arr) # 원소의 개수\n",
    "\n",
    "for i in range(1<<n) : # 1<<n = 부분 집합의 개수\n",
    "    for j in range(n): # 원소의 수만큼 비트를 비교함\n",
    "        if i & (1<<j): # i의 j번 비트가 1인 경우\n",
    "            print(arr[j], end=\", \") # j번 원소 출력\n",
    "    print()\n",
    "print()\n",
    "```"
   ]
  },
  {
   "cell_type": "markdown",
   "metadata": {},
   "source": [
    "---\n",
    "## 검색(Search)"
   ]
  },
  {
   "cell_type": "markdown",
   "metadata": {},
   "source": [
    "### 💡검색  \n",
    "개념  \n",
    "* 저장되어 있는 자료 중에서 원하는 항목을 찾는 작업  \n",
    "* 목적하는 탐색 키를 가진 항목을 찾는 것 \n",
    "    * 탐색 키(search key) : 자료를 구별하여 인식할 수 있는 키\n",
    "\n",
    "검색의 종류  \n",
    "* 순차 검색(sequential search)  \n",
    "* 이진 검색(binary search)  \n",
    "* 해쉬(hash)"
   ]
  },
  {
   "cell_type": "markdown",
   "metadata": {},
   "source": [
    "### 💡순차 검색  \n",
    "\n",
    "일렬로 되어 있는 자료를 순서대로 검색하는 방법  \n",
    "* 가장 간단하고 직관적인 검색 방법  \n",
    "* 배열이나 연결 리스트 등 순차구조로 구현된 자료구조에서 원하는 항목을 찾을 때 유용함  \n",
    "* 알고리즘이 단순하여 구현이 쉽지만, 검색 대상의 수가 많은 경우에는 수행시간이 급격히 증가하여 비효울적임  \n",
    "\n",
    "2가지 경우  \n",
    "* 정렬되어 있지 않은 경우  \n",
    "    검색과정  \n",
    "    * 첫 번째 원소부터 순서대로 검색 대상과 키 값이 같은 원소가 있는지 비교하며 찾는다.  \n",
    "    * 키 값이 동일한 원소를 찾으면 그 원소의 인덱스를 반환한다.  \n",
    "    * 자료구조의 마지막에 이를 때까지 검색 대상을 찾지 못하면 검색 실패  \n",
    "    찾고자 하는 원소의 순서에 따라 비교횟수가 결정됨  \n",
    "    * 첫 번째 원소를 찾을 때는 1번 비교, 두 번째 원소를 찾을 때는 2번 비교  \n",
    "     \n",
    "    순차겸색 평균 회수  \n",
    "    * (1/n)*(1+2+3...+n) = (n+1)/2 \n",
    "\n",
    "    구현 예)\n",
    "    ```\n",
    "    def sequentialSearch(a, n, key)\n",
    "        i <- 0\n",
    "        while i < n and a[i] != key :\n",
    "            i <- i+1\n",
    "        if i< n  : return i\n",
    "        else : reutrn -1\n",
    "    ```\n",
    "\n",
    "\n",
    "* 정렬되어 있는 경우  \n",
    "    검색 과정  \n",
    "    * 자료가 오름차순으로 정렬된 상태에서 검색을 실시한다고 가정하자.  \n",
    "    * 자료를 순차적으로 검색하면서 키 값을 비교하여, 원소의 키 값이 검색 대상의 키 값보다 크면 찾는 원소가 없다는 것이므로 더 이상 검색하지 않고 검색을 종료한다.  \n",
    "\n",
    "    찾고자 하는 원소의 순서에 따라 비교회수가 결정됨  \n",
    "    * 정렬이 되어있으므로, 검색 실패를 반환하는 경우 평균 비교 회수가 반으로 줄어든다.  \n",
    "\n",
    "    구현 예)  \n",
    "    ```\n",
    "    def sequentialSearch(a, n, key)\n",
    "        i <- 0\n",
    "        while i < n and a[i] < key :\n",
    "            i <- i+1\n",
    "        if i< n and a[i] ==key : \n",
    "            return i\n",
    "        else : \n",
    "            reutrn -1\n",
    "    ```\n"
   ]
  },
  {
   "cell_type": "markdown",
   "metadata": {},
   "source": [
    "### 💡이진 검색  \n",
    "개념  \n",
    "* 자료의 가운데에 있는 항목의 키 값과 비교하여 다음 검색의 위치를 결정하고 검색을 계속 진행하는 방법  \n",
    "    * 목적 키를 찾을 때까지 이진 검색을 순환적으로 반복 수행함으로써 검색 범위를 반으로 줄여가면서 보다 빠르게 검색을 수행함  \n",
    "\n",
    "* `이진 검색을 하기 위해서는 자료가 정렬된 상태여야 한다.`\n",
    "\n",
    "검색 과정  \n",
    "* 자료의 중앙에 있는 원소를 고른다.  \n",
    "* 중앙 원소의 값과 찾고자 하는 목표 값을 비교한다.  \n",
    "* 목표 값이 중앙 원소의 값보다 작으면 자료의 왼쪽 반에 대해서 새로 검색을 수행하고 크다면 자료의 오른쪽 반에 대해서 새로 검색을 수행한다.  \n",
    "* 원하는 값을 찾을때까지 위의 과정을 반복한다.  \n",
    "* `짝수일때와 홀수일때를 고려하지 않아도 됨!`  \n",
    "\n",
    "구현  \n",
    "* 검색 범위의 시작점과 종료점을 이용하여 검색을 반복 수행한다.  \n",
    "* 이진 검색의 경우, 자료의 삽입니나 삭제가 발생했을 때 배열의 상태를 항상 정렬 상태로 유지하는 추가 작업이 필요하다.\n",
    "\n",
    "구현 예) \n",
    "```\n",
    "def binarySearch(a, N, key)\n",
    "    start = 0\n",
    "    end = N-1\n",
    "    while start <= end : #검색구간의 원소가 하나 남았을 때도 key값이랑 일치하는지 봐야하기 때문에 <가 아니라 <=이 되어야 함\n",
    "        middle = (start + end) // 2\n",
    "        if a[middle] == key : # 검색 성공\n",
    "            return true\n",
    "        elif a[middle] > key :\n",
    "            end = middle -1 # middle이 키 값보다 큰 경우는 오른쪽을 버려야 하기 때문에 end를 새로 설정\n",
    "        else : \n",
    "            start = middle + 1 # middle이 키 값보다 작은 경우에는 왼쪽을 버려야 하기 때문에 start를 새로 설정\n",
    "    return false # 검색 실패 \n",
    "```\n"
   ]
  },
  {
   "cell_type": "markdown",
   "metadata": {},
   "source": [
    "---\n",
    "### 인덱스"
   ]
  },
  {
   "cell_type": "markdown",
   "metadata": {},
   "source": [
    "### 💡인덱스  \n",
    "* 인덱스라는 용어는 Database에서 유래했으며, 테이블에 대한 동작 속도를 높여주는 자료 구조를 일컫는다.  \n",
    "\n"
   ]
  },
  {
   "cell_type": "markdown",
   "metadata": {},
   "source": [
    "---\n",
    "### 선택 정렬"
   ]
  },
  {
   "cell_type": "markdown",
   "metadata": {},
   "source": [
    "### 💡선택 정렬  \n",
    "개념  \n",
    "* 주어진 자료들 중 가장 작은 값의 원소부터 차례대로 선택하여 위치를 교환하는 방식  \n",
    "\n",
    "정렬 과정  \n",
    "* (오름차순) 주어진 리스트 중에서 최소값을 찾는다.  \n",
    "* 그 값을 리스트의 맨 앞에 위치한 값과 교환한다.  \n",
    "* 맨 처음 위치를 제외한 나머지 리스트를 대상으로 위의 과정을 반복한다.  \n",
    "\n",
    "알고리즘  \n",
    "```\n",
    "def SelectionSort(a, N):\n",
    "    for i in range(N-1) :\n",
    "        minIdx = i\n",
    "        for j in range(i+1, N) :\n",
    "            if a[minIdx] > a[j]:\n",
    "                minIdx = j\n",
    "        a[i], a[minIdx] = a[minIdx], a[i]\n",
    "```"
   ]
  },
  {
   "cell_type": "markdown",
   "metadata": {},
   "source": [
    "### 💡셀렉션 알고리즘  \n",
    "개념  \n",
    "* 저장되어 있는 자료로부터 k번째로 큰 혹은 작은 원소를 찾는 방법  \n",
    "    * 최솟갑스 최댓값 혹은 중간값을 찾는 알고리즘을 의미하기도 한다.  \n",
    "* 교환의 회수가 버블, 삽입 정렬보다 작다.\n",
    "\n",
    "선택 과정  \n",
    "* 정렬 알고리즘을 이용하여 자료 정렬하기  \n",
    "* 원하는 순서에 있는 원소 가져오기  \n",
    "* 위의 선택 정렬을 k(원하는 값)번 만 수행하면 됨!\n",
    "\n",
    "\n",
    "```\n",
    "def select(arr, k):\n",
    "    for i in range(0, k) :\n",
    "        minIdx = i\n",
    "        for j in range(i+1, len(arr)) :\n",
    "            if arr[minIdx] > arr[j]:\n",
    "                minIdx = j\n",
    "        arr[i], arr[minIdx] = arr[minIdx], arr[i]\n",
    "    return arr[k-1]\n",
    "```\n",
    "\n"
   ]
  },
  {
   "cell_type": "markdown",
   "metadata": {},
   "source": []
  }
 ],
 "metadata": {
  "kernelspec": {
   "display_name": "Python 3.10.5 64-bit",
   "language": "python",
   "name": "python3"
  },
  "language_info": {
   "name": "python",
   "version": "3.10.5"
  },
  "orig_nbformat": 4,
  "vscode": {
   "interpreter": {
    "hash": "fb4569285eef3a3450cb62085a5b1e0da4bce0af555edc33dcf29baf3acc1368"
   }
  }
 },
 "nbformat": 4,
 "nbformat_minor": 2
}
