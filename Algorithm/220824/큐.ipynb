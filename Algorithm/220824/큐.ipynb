{
 "cells": [
  {
   "cell_type": "markdown",
   "metadata": {},
   "source": [
    "## Today I Learned\n",
    "---"
   ]
  },
  {
   "cell_type": "markdown",
   "metadata": {},
   "source": [
    "### 💡큐\n",
    "큐의 특성  \n",
    "- 스택과 마찬가지로 삽입과 삭제의 위치가 제한적인 자료구조  \n",
    "- 큐의 뒤에서는 삽입만 하고, 큐의 앞에서는 삭제만 이루어지는 구조\n",
    "- 선입선출구조(FIFO)  \n",
    "\n",
    "기본 연산  \n",
    "- 삽입 : enQueue(item)  \n",
    "- 삭제 : deQueue()  \n",
    "- 공백 상태의 큐를 생성 : createQueue()  \n",
    "- 큐가 공백상태인지 확인 : isEmpty()  \n",
    "- 큐가 포화상태인지 확인 : isFull()  \n",
    "- 큐의 앞쪽에서 원소를 삭제없이 반환 : Qpeek()  \n",
    "\n",
    "\n",
    "선형 큐  \n",
    "- 1차원 배열을 이용한 큐  \n",
    "- front : 저장된 첫 번째 원소의 인덱스  \n",
    "- rear : 저장된 마지막 원소의 인덱스  \n",
    "    - 초기상태 : front = rear = -1  \n",
    "    - 공백상태 : front == rear  \n",
    "    - 포화상태 : rear = n-1(n:배열의 크기)  "
   ]
  },
  {
   "cell_type": "markdown",
   "metadata": {},
   "source": [
    "### 💡선형 큐의 구현\n",
    "삽입\n",
    "```\n",
    "def enQueue(item):\n",
    "    global rear\n",
    "    if isFull() : print(\"Queue_full\") # 디버깅용  \n",
    "    else : \n",
    "        rear <- rear + 1\n",
    "        Q[rear] <- item ;\n",
    "        \n",
    "```\n",
    "\n",
    "삭제\n",
    "```\n",
    "def deQueue():\n",
    "    if (isEmpty()) them Queue_Empty();\n",
    "    else{ \n",
    "        front <- front + 1 ;\n",
    "        return Q[front] ;\n",
    "    }\n",
    "        \n",
    "```\n",
    "\n",
    "검색\n",
    "```\n",
    "def Qpeek():\n",
    "    if isEmpty() : print(\"Queue_Empty\")\n",
    "    else : return Q[front+1]\n",
    "```        "
   ]
  },
  {
   "cell_type": "markdown",
   "metadata": {},
   "source": [
    "### 💡선형 큐 이용시 문제점  \n",
    "잘못된 포화상태 인식   \n",
    "- rear가 n-1에 도착했고 그 전까지의 값을 계속 삭제했을 경우, 앞 부분에 공간이 남아있음에도 불구하고 포화상태로 인식하여 더이상 삽입을 수행하지 않게 됨  \n",
    "    해결방법  \n",
    "    - 매 연산이 이루어질 때마다 저장된 원소들을 배열의 앞부분으로 모두 이동 --> 효율성은 떨어짐  \n",
    "    - 배열의 처음과 끝이 연결된 원형 형태의 큐를 이룬다고 가정하고 사용  \n"
   ]
  },
  {
   "cell_type": "markdown",
   "metadata": {},
   "source": [
    "---\n",
    "### 💡원형 큐의 구조  \n",
    "초기 공백 상태  \n",
    "- front = rear = 0  \n",
    "\n",
    "인덱스의 순환  \n",
    "- front와 rear의 위치가 배열의 마지막 인덱스인 n-1을 가리킨 후, 그 다음에는 순환을 이루어 처음 인덱스인 0으로 이동  \n",
    "\n",
    "front 변수   \n",
    "- 공백상태와 포화상태 구분을 쉽게하기 위해 front가 있는 자리는 사용하지않고 항상 빈자리로 둠  \n",
    "\n",
    "삽입 위치 및 삭제 위치  \n",
    "-  삽입위치  \n",
    "    - 선형 큐 : rear = rear + 1  \n",
    "    - 원형 큐 : rear = (rear + 1) mod n  \n",
    "\n",
    "- 삭제 위치  \n",
    "    - 선형 큐 : front = front + 1\n",
    "    - 원형 큐 : front = (front + 1) mod n"
   ]
  },
  {
   "cell_type": "markdown",
   "metadata": {},
   "source": [
    "### 💡원형 큐의 구현\n",
    "삽입\n",
    "- rear 값을 조정하여 새로운 원소를 삽입할 자리 마련 ( rear <- (rear+1) mod n)  \n",
    "- 그 인덱스에 해당하는 배열원소 cQ[rear]에 item을 저장\n",
    "```\n",
    "def enQueue(item):\n",
    "    global rear\n",
    "    if isFull() : \n",
    "        print(\"Queue_full\") # 디버깅용  \n",
    "    else : \n",
    "        rear = (rear + 1) % len(cQ)\n",
    "        cQ[rear] = item ;\n",
    "        \n",
    "```\n",
    "\n",
    "삭제\n",
    "```\n",
    "def deQueue():\n",
    "    global front\n",
    "    if isEmpty() :\n",
    "        print(\"Queue_Empty\")\n",
    "    else{ \n",
    "        front = (front + 1) % len(cQ)\n",
    "        return cQ[front] ;\n",
    "    }\n",
    "        \n",
    "```\n",
    "\n",
    "```\n",
    "def is Empty():\n",
    "    return front == rear \n",
    "\n",
    "def isFull():\n",
    "    return (rear + 1) % len(cQ) == front\n",
    "```"
   ]
  },
  {
   "cell_type": "markdown",
   "metadata": {},
   "source": [
    "---\n",
    "### 💡우선순위 큐(Priority Queue)  \n",
    "\n",
    "우선순위 큐의 특성  \n",
    "- 우선순위를 가진 항목들을 저장하는 큐  \n",
    "- FIFO 순서가 아니라 우선순위가 높은 순서대로 먼저 나가게 된다.   \n",
    "\n"
   ]
  },
  {
   "cell_type": "markdown",
   "metadata": {},
   "source": [
    "### 💡큐의 활용 : 버퍼  \n",
    "개념  \n",
    "- 데이터를 한 곳에서 다른 한 곳으로 전송하는 동안 일시적으로 그 데이터를 보관하는 메모리의 영역  \n",
    "- 버퍼링 : 버퍼를 활용하는 방식 또는 버퍼를 채우는 동작을 의미한다.  \n",
    "\n",
    "자료구조  \n",
    "- 버퍼는 일반적으로 입출력 및 네트워크와 관련된 기능에서 이용된다  \n",
    "- 순서대로 입력/출력/전달 되어야 하므로 FIFO방식의 자료구조인 큐를 활용  "
   ]
  },
  {
   "cell_type": "markdown",
   "metadata": {},
   "source": [
    "---\n",
    "### 💡BFS(Breadth First Search)  \n",
    "- A -> B 경로가 있는가? = DFS, BFS  \n",
    "- A -> B 경로의 가지수는? = DFS  \n",
    "- A -> B 최단 경로 길이는? = 둘 다 가능하지만 주로 BFS 사용\n",
    "\n",
    "너비우선탐색\n",
    "- 시작점의 인접한 정점들을 먼저 모두 차례로 방문한 후에, 방문했던 정점을 시작점으로 하여 다시 인접한 정점들을 차례로 방문하는 방식  \n",
    "- 인접한 정점들에 대해 탐색한 후, 차례대로 다시 너비우선탐색을 해야하므로 선입선출 형태의 자료구조인 큐를 활용해야 함\n",
    "\n",
    "```\n",
    "def BFS(G, v):  # 그래프 G, 탐색 시작점 v\n",
    "    visited = [0] * (n+1)           #  n : 정점 개수\n",
    "    queue = []                      # 큐 생성\n",
    "    queue.append(v)                 # 시작점 v를 큐에 삽입\n",
    "    while queue :                   # 큐가 비어있지 않은 경우\n",
    "        t = queue.pop()             # 큐의 첫번째 원소 반환\n",
    "        if not visited[t]:          # 방문되지 않은 곳이라면\n",
    "            visited[t] = True       # 방문한 것으로 표시\n",
    "            visit(t)                # 정점 t에서 할 일\n",
    "            for i in G[t]:          # t와 연결된 모든 정점에 대해\n",
    "                if not visited[i]:  # 방문되지 않은 곳이라면\n",
    "                    queue.append(i) # 큐에 넣기\n",
    "\n",
    "```"
   ]
  },
  {
   "cell_type": "markdown",
   "metadata": {},
   "source": []
  }
 ],
 "metadata": {
  "kernelspec": {
   "display_name": "Python 3.10.5 64-bit",
   "language": "python",
   "name": "python3"
  },
  "language_info": {
   "name": "python",
   "version": "3.10.5"
  },
  "orig_nbformat": 4,
  "vscode": {
   "interpreter": {
    "hash": "fb4569285eef3a3450cb62085a5b1e0da4bce0af555edc33dcf29baf3acc1368"
   }
  }
 },
 "nbformat": 4,
 "nbformat_minor": 2
}
