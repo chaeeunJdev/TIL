{
 "cells": [
  {
   "cell_type": "markdown",
   "metadata": {},
   "source": [
    "## Today I Learned \n",
    "\n",
    "---\n",
    "### 계산기1"
   ]
  },
  {
   "cell_type": "markdown",
   "metadata": {},
   "source": [
    "### 💡계산기\n",
    "\n",
    "문자열로 된 계산식이 주어질 때, 스택을 이용하여 계산식의 값을 계산할 수 있다.\n",
    "\n",
    "step1 : 중위 표기법의 수식을 후위 표기법으로 변경한다.(스택이용)  \n",
    "step2 : 후위 표기법의 수식을 스택을 이용하여 계산한다.\n",
    "\n",
    "후위표기법\n",
    "- 연산자를 피연산자 뒤에 표기하는 방법  \n",
    "    예) AB +\n",
    "\n",
    "즁위표기법  \n",
    "- 연산자를 피연산자의 가운데에 표기하는 방법  \n",
    "    예 ) A + B\n"
   ]
  },
  {
   "cell_type": "markdown",
   "metadata": {},
   "source": [
    "### 💡중위표기식의 후위표기식 변환 방법1  \n",
    "- 수식의 각 연산자에 대해서 우선순위에 따라 괄호를 사용하여 다시 표현  \n",
    "- 각 연산자를 그에 대응하는 오른쪽 괄호의 뒤로 이동시킨다.  \n",
    "- 괄호를 제거한다.  \n",
    "\n",
    "예) A*B-C/D  \n",
    "1단계 : ( (A*B) - (C/D) )  \n",
    "2단계 : ( (A B)* (C D)/ )-  \n",
    "3단계 : AB*CD/-"
   ]
  },
  {
   "cell_type": "markdown",
   "metadata": {},
   "source": [
    "### 💡중위표기법에서 후위표기법으로의 변환 알고리즘2(스택이용)  \n",
    "1. 입력 받은 중위 표기식에서 토큰을 읽는다.  \n",
    "2. 토큰이 피연산자이면 토큰을 출력한다.  \n",
    "3. 토큰이 연산자(괄호포함)일 때, 이 토큰이 스택의 top에 저장되어있는 연산자보다 우선순위가 높으면 스택에 push하고, 그렇지 않다면 스택 top의 연산자의 우선순위가 토큰의 우선순위보다 작을 때까지 스택에서 pop 한 후 토큰의 연산자를 push한다. 만약 top에 연산자가 없으면 push한다"
   ]
  },
  {
   "cell_type": "markdown",
   "metadata": {},
   "source": [
    "---\n",
    "### 계산기2"
   ]
  },
  {
   "cell_type": "markdown",
   "metadata": {},
   "source": [
    "### 💡계산기2  \n",
    "\n",
    "후위표기법으로 표현된 수식을 계산하기  \n",
    "\n",
    "- 피연산자이면 스택에 넣고  연산자이면 스택에서 피연산자를 두 번 pop하여 꺼낸다.  \n",
    "- 이때 먼저 꺼낸 피연산자를 연산자의 오른쪽에 위치시키기!  \n",
    "- 계산 결과를 다시 스택에 push  \n",
    "- 수식에 더이상 토큰이 없으면 스택의 최종 결과값을 pop하여 출력  \n",
    "\n",
    "후위표기법으로 바꾼 후 계산을 한다면 연산자의 우선순위를 고려하지 않아도 돼서 간편함!  "
   ]
  },
  {
   "cell_type": "markdown",
   "metadata": {},
   "source": [
    "---\n",
    "### 백트래킹  "
   ]
  },
  {
   "cell_type": "markdown",
   "metadata": {},
   "source": [
    "### 💡백트래킹   \n",
    "개념  \n",
    "- 해를 찾는 도중에 '막히면' (즉, 해가 아니면) 되돌아가서 다시 해를 찾아 가는 기법  \n",
    "- 백트래킹 기법은 최적화 문제와 결정문제를 해결할 수 있다  \n",
    "- 결정문제 : 문제의 조건을 만족하는 해가 존재하는지의 여부를 'yes' 또는 'no'가 답하는 문제  \n",
    "    - 미로  \n",
    "    - n-Queen  \n",
    "    - Map Coloring  \n",
    "    - 부분집합의 합 문제 등\n",
    "\n",
    "백트래킹과 깊이우선탐색의 차이  \n",
    "- 어떤 노드에서 출발하는 경로가 해결책으로 이어질 것 같지 않으면 더 이상 그 경로를 따라가지 않음  \n",
    "- 백트래킹은 불필요한 경로를 조기에 차단!  "
   ]
  },
  {
   "cell_type": "code",
   "execution_count": null,
   "metadata": {},
   "outputs": [],
   "source": [
    "# 일반 백트래킹 알고리즘 \n",
    "def checknode(v) :\n",
    "    if promising(v):\n",
    "        if there is  a solution at v:\n",
    "            write the solution\n",
    "        else : \n",
    "            for u in each child of v: # 현재 자리의 자식노드들에 대해서 각각 유망한지 검사\n",
    "                checknode(u)"
   ]
  },
  {
   "cell_type": "code",
   "execution_count": null,
   "metadata": {},
   "outputs": [],
   "source": [
    "# powerset을 구하는 백트래킹 알고리즘 \n",
    "def backtrack(a, k, input):\n",
    "    global MAXANDIDATES\n",
    "    c = [0] * MAXANDIDATES\n",
    "\n",
    "    if k == input :\n",
    "        process_solution(a, k)\n",
    "    else :\n",
    "        k += 1\n",
    "        ncandidates = construct_candidates(a, k, input, c)\n",
    "        for i in range(ncandidates):\n",
    "            a[k] = c[i]\n",
    "            backtrack(a, k, input)\n",
    "\n",
    "def construct_candidates(a, k, input, c):\n",
    "    c[0] = True\n",
    "    c[1] = False\n",
    "    return 2\n",
    "\n",
    "MAXANDIDATES = 2\n",
    "NMAX = 3\n",
    "a = [0] * NMAX\n",
    "backtrack(a,0,3)"
   ]
  },
  {
   "cell_type": "code",
   "execution_count": null,
   "metadata": {},
   "outputs": [],
   "source": [
    "# 백트래킹을 이용하여 순열 구하기\n",
    "def backtrack(a, k, input):\n",
    "    global MAXANDIDATES\n",
    "    c = [0] * MAXANDIDATES\n",
    "\n",
    "    if k == input :\n",
    "        for i in range(1, k+1):\n",
    "            print(a[i], end=\" \")\n",
    "        print()\n",
    "    else :\n",
    "        k += 1\n",
    "        ncandidates = construct_candidates(a, k, input, c)\n",
    "        for i in range(ncandidates):\n",
    "            a[k] = c[i]\n",
    "            backtrack(a, k, input)\n",
    "\n",
    "def construct_candidates(a, k, input, c):\n",
    "    in_perm = [False] * NMAX\n",
    "\n",
    "    for i in range(1, k) :\n",
    "        in_perm[a[i]] = True\n",
    "    \n",
    "    ncandidates = 0\n",
    "    for i in range(1, input+1):\n",
    "        if in_perm[i] == False :\n",
    "            c[ncandidates] = i\n",
    "            ncandidates += 1\n",
    "\n",
    "    return ncandidates"
   ]
  }
 ],
 "metadata": {
  "kernelspec": {
   "display_name": "Python 3.10.5 64-bit",
   "language": "python",
   "name": "python3"
  },
  "language_info": {
   "name": "python",
   "version": "3.10.5"
  },
  "orig_nbformat": 4,
  "vscode": {
   "interpreter": {
    "hash": "fb4569285eef3a3450cb62085a5b1e0da4bce0af555edc33dcf29baf3acc1368"
   }
  }
 },
 "nbformat": 4,
 "nbformat_minor": 2
}
