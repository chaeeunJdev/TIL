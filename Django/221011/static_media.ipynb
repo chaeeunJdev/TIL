{
 "cells": [
  {
   "cell_type": "markdown",
   "metadata": {},
   "source": [
    "## Today I Learned"
   ]
  },
  {
   "cell_type": "markdown",
   "metadata": {},
   "source": [
    "### 💡Managing static files  \n",
    "- 개발자가 서버에 미리 준비한 정적파일을 클라이언트에게 제공하는 방법   \n",
    "\n",
    "정적파일  \n",
    "- 사용자의 요청에 따라 내용이 바뀌는 것이 아니라 요청한 것을 그대로 보여주는 파일로 파일 자체가 고정되어있으며 변경되지 않음  \n",
    "\n",
    "\n",
    "Media File  \n",
    "- 사용자가 웹에서 업로드하는 정적 파일  \n",
    "- 정적파일에 포함됨  \n"
   ]
  },
  {
   "cell_type": "markdown",
   "metadata": {},
   "source": [
    "### 💡Django에서 정적파일 구성하고 사용하기  \n",
    "- INSTALLED_AAPS에 staticsfiles가 포함되어 있는지 확인하기(원래 포함되어 있음)  \n",
    "- settings.py에 STATIC.URLS을 정의하기(원래 되어있음)  \n",
    "- 앱의 static 폴더에 정적 파일을 위치하기  \n",
    "- 템플릿에서 static 템플릿 태그를 사용하여 지정된 경로에 있는 정적 파일의 URL 만들기  \n",
    "\n",
    "static tag  \n",
    "- static_root에 저장된 정적 파일에 연결  \n",
    "- load해야 사용할 수 있음  \n",
    "\n",
    "static root  \n",
    "- 기본값 : none  \n",
    "- django 프로젝트에서 사용하는 모든 정적 파일을 한곳에 모아 넣는 경로  \n",
    "- collectstatic이 배포를 위해 정적 파일을 수집하는 디렉토리의 절대 경로  \n",
    "\n",
    "\n",
    "static_url   \n",
    "- 기본값 : none  \n",
    "- static_root에 있는 정적 파일을 참조할 때 사용할 url  \n",
    "- 실제 파일이나 디렉토리가 아니며, url로만 존재  \n",
    "- 비어 있지 않은 값으로 설정 한다면 반드시 슬래시 '/' 로 끝내야 함  "
   ]
  },
  {
   "cell_type": "markdown",
   "metadata": {},
   "source": [
    "### 💡ImageField  \n",
    "FileField / ImageField를 사용하기 위한 단계  \n",
    "- settings.py에 MEDIA_ROOT, MEDIA_URL 설정  \n",
    "- upload_to 속성을 정의하여 업로드 된 파일에 사용할 MEDIA_ROOT의 하위 경로를 지정(선택사항)  \n",
    "\n",
    "media_root  \n",
    "- 기본값 : ''  \n",
    "- 사용자가 업로드 한 미디어파일들을 보관할 디렉토리의 절대 경로  \n",
    "- Django는 성능을 위해 업로드 파일은 데이터베이스에 저장하지 않음. 데이터베이스에 저장되는 것은 `파일 경로`!   \n",
    "- media_root는 static_root와 반드시 다른 경로로 지정해야 함  \n",
    "\n",
    "media_url  \n",
    "- 기본값 : ''  \n",
    "- media_root에서 제공되는 미디어 파일을 처리하는 url  \n",
    "- 업로드 도니 파일의 주소를 만들어 주는 역할  \n",
    "- 비어 있지 않은 값으로 설정 한다면 반드시 슬래시 '/'로 끝나야 함  \n",
    "- media_url는 static_url와 반드시 다른 경로로 지정해야 함  \n",
    "\n",
    "\n",
    "blank 옵션  \n",
    "- True로 해놓으면 사용자가 게시글을 작성하면서 이미지는 넣지 않아도 되지만 만약 이 속성값을 안넣으면 무조건 이미지를 넣어야 하게 됨(''빈 문자열이 저장됨) is_valid에 걸리지 않음  \n",
    "\n",
    "null 옵션  \n",
    "- 빈 값을 DB에 NULL로 저장함 -> is_valid에 걸림  "
   ]
  },
  {
   "cell_type": "markdown",
   "metadata": {},
   "source": [
    "### 💡null 주의사항  \n",
    "- 문자열 필드에 빈값을 주고싶으면 ''을 주면 되지만, 그 이외의 필드는 null을 통해 빈값을 주어야 함.  \n",
    "- charfield, textfield와 같은 문자열 기반 필드에는 null옵션 사용 피하기  "
   ]
  },
  {
   "cell_type": "markdown",
   "metadata": {},
   "source": [
    "### 💡이미지필드 사용 단계  \n",
    "- settings에 실제 디렉토리 경로 MEDIA_ROOT설정, 제공하기위한 주소인 MEDIA_URL 설정  \n",
    "- Pillow 라이브러리 설치 \n",
    "- blank = True를 통해 빈 문자열 입력  \n",
    "- 이미지는 request.FILES로 가기 때문에 뷰함수에 추가로 적어줘야함  \n",
    "- html에서 method옆에 enctype=\"multipart/form-data\" 설정을 해줘야 함  "
   ]
  },
  {
   "cell_type": "markdown",
   "metadata": {},
   "source": [
    " ### 💡shell_plus에서 데이터 출력\n",
    "\n",
    "- and  \n",
    "```\n",
    "User.objects.filter(first_name__endswith='서준').values('first_name')\n",
    "```\n",
    "\n",
    " - or  \n",
    " ```\n",
    "from django.db.models import Q\n",
    "User.objects.filter(Q(age=30) | Q(last_name='김'))\n",
    "```\n",
    "\n",
    "- order_by와 원하는 개수만큼만 출력하기  \n",
    "```\n",
    "User.objects.order_by('age').values('first_name','age')[:10] \n",
    "```\n",
    "\n",
    "- 해당조건을 만족하는 데이터를 제외하고 출력  \n",
    "```\n",
    "User.objects.exclude(first_name__endswith='서준').values('first_name')\n",
    "```  \n",
    "\n",
    "- filter 이상, 초과  \n",
    "```\n",
    "User.objects.filter(age__gte=30, balance__gt=500000).values('first_name','age','balance')\n",
    "```\n",
    "\n",
    "- startswith  \n",
    "```\n",
    "User.objects.filter(phone__startswith='010-').values('first_name', 'phone')\n",
    "```\n",
    "\n",
    "- 조건을 만족하는 사람들의 평균(값을 딕셔너리로 반환함)  \n",
    "```\n",
    "from django.db.models import Avg\n",
    "User.objects.filter(age__gte=30).aggregate(Avg('age')) \n",
    "User.objects.filter(age__gte=30).aggregate(ssafy=Avg('age')) \n",
    "# 바로 위의 코드처럼 키를 원하는 이름으로 수정해줄 수 있음\n",
    "```\n",
    "\n",
    "- 최댓값  \n",
    "```\n",
    "from django.db.models import Max\n",
    "\n",
    "User.objects.aggregate(Max('balance'))\n",
    "Out[34]: {'balance__max': 1000000}\n",
    "```\n",
    "\n",
    "- 지역별로 count  \n",
    "```\n",
    "from django.db.models import Count\n",
    "User.objects.values('country').annotate(count=Count('country'))\n",
    "```\n",
    "\n",
    "- 지역별로 count, 지역의 평균 계좌 잔액  \n",
    "```\n",
    "User.objects.values('country').annotate(count=Count('country'), avg_balance=Avg('balance'))\n",
    "```"
   ]
  },
  {
   "cell_type": "markdown",
   "metadata": {},
   "source": []
  }
 ],
 "metadata": {
  "kernelspec": {
   "display_name": "Python 3.10.5 64-bit",
   "language": "python",
   "name": "python3"
  },
  "language_info": {
   "codemirror_mode": {
    "name": "ipython",
    "version": 3
   },
   "file_extension": ".py",
   "mimetype": "text/x-python",
   "name": "python",
   "nbconvert_exporter": "python",
   "pygments_lexer": "ipython3",
   "version": "3.10.5"
  },
  "orig_nbformat": 4,
  "vscode": {
   "interpreter": {
    "hash": "fb4569285eef3a3450cb62085a5b1e0da4bce0af555edc33dcf29baf3acc1368"
   }
  }
 },
 "nbformat": 4,
 "nbformat_minor": 2
}
