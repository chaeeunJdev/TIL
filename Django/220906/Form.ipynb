{
 "cells": [
  {
   "cell_type": "markdown",
   "metadata": {},
   "source": [
    "## Today I Learned\n",
    "---\n",
    "## Django Form"
   ]
  },
  {
   "cell_type": "markdown",
   "metadata": {},
   "source": [
    "### 💡Django Form  \n",
    "\n",
    "- 우리는 지금까지 form, input 태그를 통해 사용자로부터 데이터를 받았음  \n",
    "- 현재 Django 서버는 들어오는 요청을 모두 수용하고 있는데, 악의적인 요청이 있을 수 있음  \n",
    "- 이처럼 사용자가 입력한 데이터에 대한 유효성 검증이 필요  \n",
    "- Django Form은 이 과정에서 훨씬 쉽게 유효성 검증을 진행할 수 있도록 해줌  "
   ]
  },
  {
   "cell_type": "markdown",
   "metadata": {},
   "source": [
    "### 💡Django Form Class\n",
    "- Model Class를 선언하는 것과 비슷  \n",
    "- Model과 마찬가지로 상속을 통해 선언  \n",
    "- 파일이름이 달라도 되고 models.py나 다른 어디에도 작성 가능하지만 앱폴더 아래에 forms.py를 작성하는 것을 추천  \n",
    "- forms에서는 TextField()가 없음  \n",
    "- 또한 CharField()의 max_length옵션이 필수가 아님  \n",
    "\n",
    "- .html파일에 `input과 label을 직접 적어주지 않아도` form을 이용하면 자동으로 form class와 연동하여 생기게 됨!  \n",
    "\n",
    "- .as_p 옵션을 통해 <br>을 한 것처럼 줄바꿈을 해줄 수 있음. 사실은 각각을 p태그로 감싸져서 렌더링 되는 것!(개발자도구 확인)  "
   ]
  },
  {
   "cell_type": "markdown",
   "metadata": {},
   "source": [
    "### 💡Django의 2가지 HTML input요소 표현  \n",
    "\n",
    "Forms fields  \n",
    "- 입력에 대한 유효성 검사 로직을 처리  \n",
    "- 템플릿에서 직접 사용됨  \n",
    "\n",
    "Widgets  \n",
    "- 웹 페이지에서 HTML input 요소 렌더링을 담당  \n",
    "    - input 요소의 단순한 출력 부분을 담당  \n",
    "- Widgets은 반드시 form fields에 할당됨  \n",
    "- 💥단순히 렌더링을 처리하는 것이며 유효성 검증과 아무런 관계가 없음  \n",
    "- forms.py의 CharField 옵션에 widget=forms.Textarea 를 통해 옵션을 줄 수 있음\n",
    "\n",
    "더 중요한건 Forms fields이고 Widgets은 표현을 바꿔주는 용도로 사용! 예를들면 textarea,,ㅎ  \n"
   ]
  },
  {
   "cell_type": "markdown",
   "metadata": {},
   "source": [
    "---\n",
    "## Django ModelForm"
   ]
  },
  {
   "cell_type": "markdown",
   "metadata": {},
   "source": [
    "### 💡Django ModelForm  \n",
    "\n",
    "- 지금까지 Model과 Form은 너무 중첩되는 내용이 많았음  \n",
    "- 이를 합쳐서 Model을 통해 Form Class를 만들수 있는 helper class인 ModelForm을 사용  \n",
    "\n",
    "- ModelForm 클래스를 상속받음  \n",
    "- 정의한 ModelForm 클래스 안에 Meta 클래스를 선언  \n",
    "- 어떤 모델을 기반으로 form을 작성할 것인지를  `Meta`클래스에 지정  \n",
    "\n",
    "- class Form에서는 위젯을 통해 textarea를 지정해줫지만 ModelForm은 Models.py에서 두 필드가 CharField, TextField로 형식이 다르다면 자동으로 인식해서 textarea로 표현해줌"
   ]
  },
  {
   "cell_type": "markdown",
   "metadata": {},
   "source": [
    "### 💡Meta Class  \n",
    "- ModelForm의 정보를 작성하는 곳  \n",
    "- ModelForm을 사용할 경우 참조 할 모델이 있어야 하는데, Meta class의 model 속성이 이를 구성 함  \n",
    "- `__all__`를 사용하여 모델의 사용자로부터 입력 받아야하는 모든 필드를 포함할 수 있음  \n",
    "- `exclude=('title',)`를 사용하여 포함하지 않을 필드를 설정할 수도 있음"
   ]
  },
  {
   "cell_type": "markdown",
   "metadata": {},
   "source": [
    "---\n",
    "## Model Form with view functions"
   ]
  },
  {
   "cell_type": "markdown",
   "metadata": {},
   "source": [
    "### 💡is_valid() method\n",
    "- 내부적인 기준 + 우리가 설정한 옵션(ex. max_length)을 바탕으로 `is_valid`를 통해 유효성 검증을 할 수 있음  \n",
    "- 유효한지 여부를 boolean으로 반환"
   ]
  },
  {
   "cell_type": "markdown",
   "metadata": {},
   "source": [
    "### 💡save() method\n",
    "\n",
    "- form 인스턴스에 바인딩 된(들어간) 데이터를 통해 데이터베이스 객체를 만들고 저장  \n",
    "- ModelFrom의 하위 클래스는 키워드 인자 `instance 여부를 통해 생성할 지, 수정할 지를 결정`함  \n",
    "    - 제공되지 않은 경우 save()는 지정된 모델이ㅡ 새 인스턴스를 만듦(CREATE)  \n",
    "    - 제공되면 save()는 해당 인스턴스를 수정 (UPDATE)"
   ]
  },
  {
   "cell_type": "markdown",
   "metadata": {},
   "source": [
    "### 💡form 인스턴스의 errors 속성  \n",
    "\n",
    "- is_valid()의 반환 값이 False인 경우 form 인스턴스의 errors 속성에 갑싱 작성되는데, 유효성 `검증을 실패한 원인`이 딕셔너리 형태로 저장됨  \n",
    "\n",
    "- print(f\"에러: {form.errors}\")를 통해 확인 가능하며 유효성 검증 결과 True인 경우에는 아무 값도 없음  "
   ]
  },
  {
   "cell_type": "markdown",
   "metadata": {},
   "source": [
    "### 💡UPDATE  \n",
    "- ModelForm의 인자 instance는 수정 대상이 되는 객체(기존 객체)를 지정  \n",
    "\n",
    "1. request.POST  \n",
    "- 사용자가 form을 통해 전송한 데이터(새로운 데이터)  \n",
    "\n",
    "2. instance  \n",
    "- 수정이 되는 대상"
   ]
  },
  {
   "cell_type": "markdown",
   "metadata": {},
   "source": [
    "### 💡Form과 ModelForm  \n",
    "두 가지의 역할이 다름  \n",
    "\n",
    "\n",
    "Form  \n",
    "- 사용자로부터 받는 데이터가 DB와 연관되어 있지 않는 경우에 사용  \n",
    "- DB에 영향을 미치지 않고 단순 데이터만 사용되는 경우(ex. 로그인, 사용자의 데이터를 받아 인증 과정에서만 사용 후 별도로 DB에 저장하지 않음)   \n",
    "\n",
    "ModelForm  \n",
    "- 사용자로부터 받는 데이터가 DB와 연관되어 있는 경우에 사용  \n",
    "- 데이터의 유효성 검사가 끝나면 데이터를 각각 어떤 레코드에 맵핑해야할지 이미 알고있기 때문에 곧바로 save() 호출이 가능  "
   ]
  },
  {
   "cell_type": "markdown",
   "metadata": {},
   "source": [
    "---\n",
    "## Handling HTTP requests  "
   ]
  },
  {
   "cell_type": "markdown",
   "metadata": {},
   "source": [
    "### 💡Handling HTTP requests  \n",
    "\n",
    "- HTTP requests 처리에 따른 view함수 구조 변화  \n",
    "\n",
    "new-create 와 edit-update의 공통점과 차이점\n",
    "\n",
    "공통점  \n",
    "- new-create는 모두 create 로직을 구현하기 위한 공통 목적  \n",
    "- edit-update는 모두 update 로직을 구현하기 위한 공통 목적  \n",
    "\n",
    "차이점  \n",
    "- new와 edit는 GET 요청에 대한 처리만을, create와 update는 POST 요청에 대한 처리만을 진행  \n",
    "\n",
    "이 공통점과 차이점을 기반으로, 하나의 view 함수에서 method에 따라 로직이 분리되도록 변경\n",
    "\n",
    "\n",
    "\n",
    "if문을 사용하여 분리  \n",
    "```\n",
    "if request.method ==\"POST\":\n",
    "        pass\n",
    "    else :\n",
    "```\n",
    "\n",
    "💥new를 create에 포함시키고 edit을 update에 포함시켜준 뒤 new와 edit을 삭제함으로써 `create와 update는 method에 따라 POST와 GET을 모두 처리할 수 있는 url이 되었다.`\n",
    "\n",
    "💥CRUD에서 R만 GET방식 나머지는 모두 POST!!!!!\n",
    "\n"
   ]
  },
  {
   "cell_type": "markdown",
   "metadata": {},
   "source": [
    "---\n",
    "## View decorators"
   ]
  },
  {
   "cell_type": "markdown",
   "metadata": {},
   "source": [
    "### 💡데코레이터  \n",
    "- 기존에 작성된 함수에 기능을 추가하고 싶을 때, 해당 함수를 수정하지 않고 기능을 추가해주는 함수"
   ]
  },
  {
   "cell_type": "markdown",
   "metadata": {},
   "source": [
    "### 💡Allowed HTTP methods\n",
    "\n",
    "1. require_safe()\n",
    "- GET인 요청에 대해서만 뷰함수 실행  \n",
    "- require_GET이 있지만 safe를 권장\n",
    "\n",
    "2. require_http_methods()\n",
    "- 값을 줄 수 있음  \n",
    "- ['GET', 'POST']로 주면 두 개의 요청에 대한 함수 실행\n",
    "\n",
    "3. require_POST \n",
    "- POST만 받도록 처리"
   ]
  },
  {
   "cell_type": "markdown",
   "metadata": {},
   "source": [
    "```\n",
    "attrs={ \n",
    "                'class' : 'my-title form-control'\n",
    "# from-control 부트스트랩 기능을 통해 조금 더 부드럽게 표현 가능\n",
    "```"
   ]
  },
  {
   "cell_type": "markdown",
   "metadata": {},
   "source": []
  }
 ],
 "metadata": {
  "language_info": {
   "name": "python"
  },
  "orig_nbformat": 4
 },
 "nbformat": 4,
 "nbformat_minor": 2
}
