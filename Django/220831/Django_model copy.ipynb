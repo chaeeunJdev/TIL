{
 "cells": [
  {
   "cell_type": "markdown",
   "metadata": {},
   "source": [
    "## Today I Leared\n",
    "---"
   ]
  },
  {
   "cell_type": "markdown",
   "metadata": {},
   "source": [
    "### 💡namespace 주의사항\n",
    "\n",
    "namespace \n",
    "- 서로 다른 앱에서 동일한 url이름을 사용하면 문제 발생!  \n",
    "- `app_name 속성을 이용해서 url tag를 '앱이름:원하는페이지이름'으로 사용`하면 해결 가능! \n",
    "- 또한 `각각의 앱 > templates안에 앱이름과 같은 폴더`를 만들고 그 안에 html 파일들을 넣어서 강제로 물리주소를 바뀌게 함!  --> 왜냐하면 장고는 templates 아래의 경로만 찾기때문에 이름이 같은 다른앱의 html 파일들을 구분할 수 없음. 그래서 templates 아래에 다시 폴더를 하나 생성해서 구분할 수 있게끔 만들기!  \n",
    "- 마지막으로 views에 정의된 함수들의 return값의 html파일들 주소 수정해주면 됨  \n",
    " \n",
    "\n",
    "\n",
    "NoReverseMatch 에러  \n",
    "- 해당 페이지의 url태그만 확인해보면 됨!!"
   ]
  },
  {
   "cell_type": "markdown",
   "metadata": {},
   "source": [
    "---\n",
    "## Model"
   ]
  },
  {
   "cell_type": "markdown",
   "metadata": {},
   "source": [
    "### 💡데이터베이스  \n",
    "\n",
    "- 스키마 : 뼈대  \n",
    "- 테이블 : 필드와 레코드를 사용해 조직된 데이터 요소들의 집합. 관계라고도 부름  \n",
    "    - 필드 : 속성, 컴럼  \n",
    "    - 레코드 : 튜플, 행  \n",
    "\n",
    "PK  \n",
    "- 기본 키  \n",
    "- 각 레코드의 고유한 값  \n",
    "- 다른 항목들과 절대로 중복될 수 없는 단일 값(unique)\n",
    "\n",
    "쿼리  \n",
    "- 데이터를 조회하기 위한 명령어  \n",
    "- 쿼리를 날린다 = 데이터베이스를 조작한다.  "
   ]
  },
  {
   "cell_type": "markdown",
   "metadata": {},
   "source": [
    "### 💡Django Model\n",
    "장고는 웹 애플리케이션의 데이터를 구조화하고 조작화하기 위한 추상적인 계층(모델)을 제공\n",
    "\n",
    "- Django는 Model을 통해 데이터에 접근하고 조작  \n",
    "- 사용하는 데이터들의 필수적인 필드들과 동작들을 포함  \n",
    "- 저장된 데이터베이스의 구조 (layout)  \n",
    "- 일반적으로 각각의 모델은 하나의 데이터베이스 테이블에 매핑  \n",
    "\n",
    "\n",
    "테이블 제작 \n",
    "- models.py에서 스키마의 뼈대를 제작  \n",
    "- class 이름(models.Model): # 클래스를 상속받아서 제작  \n",
    "- CharField(options) : max_length옵션에 대한 유효성을 검사 함  \n",
    "- TextField(options) : 제한을 두고 싶지 않을 때 사용. 유효성 검사 x  "
   ]
  },
  {
   "cell_type": "markdown",
   "metadata": {},
   "source": [
    "### 💡Migrations  \n",
    "\n",
    "- python manage.py makemigrations를 하면 0001_initial.py 파일이 생김!  \n",
    "- 여기들어가 보면 우리가 models.py에서 만든 스키마가 더욱 자세하게 구조화되어서 나옴 == `파이썬으로 작성된 설계도`  \n",
    "- python manage.py migrate : 결과적으로 모델의 변경사항과 데이터베이스를 동기화  \n",
    "- python manage.py showmigrations : migrate되었는지 확인하는 용도로 [X] 표시가 있으면 migrate가 완료되었음을 의미  \n",
    "- python manage.py sqlmigrate articles 0001 : 해당 migrations 파일이 sql문으로 어떻게 해석 될 지 미리 확인할 수 있음\n",
    "\n",
    "![showmigrations](showmigrations.jpg)\n",
    "\n",
    "- 디폴트값이 없는상태로 필드를 추가하고 makemigrations를 하면 기본값을 넣으라는 문구가 출력됨.   \n",
    "    1. 1번은 대화창에서 바로 입력  \n",
    "    2. 대화창을 빠져나와서 코드에서 직접 입력  \n",
    "    \n",
    "<br>\n",
    "\n",
    "- DateTimeField클래스를 사용하고 1번을 누르고 디폴트 값을 대화창에서 넣는 경우 엔터만 누르면 장고가 timezone.now라는 것을 사용하여 알아서 값을 채워줌!  \n",
    "\n",
    "- 원래 설계도가 있고 변경사항을 migrate해서 0002~파일이 생기면 여기는 dependencies가 추가됨!(맨 처음 설계도를 변경한 것이기때문에!)\n",
    "\n",
    "\n",
    "\n",
    "sqlite\n",
    "- sqlite확장 설치하고  \n",
    "- db.splite3 우클릭 -> open database해보면  \n",
    "- 지금까지 만든 테이블을 볼 수 있음 !  \n",
    "\n",
    "정리  \n",
    "- 우리가 models에 만든 설계도는 데이터베이스를 만들기엔 부족함  \n",
    "- 그래서 makemigrations를 통해 정식 설계도를 만든 것임!  \n",
    "- `마지막엔 migrate를 통해 동기화를 해줘야함!!`\n",
    "\n",
    "💥models.py에서 변경사항 발생 => makemigrations로 migration생성 => migrate로 모델과 DB 동기화💥"
   ]
  },
  {
   "cell_type": "markdown",
   "metadata": {},
   "source": [
    "### 💡필드 정의 추가  \n",
    "\n",
    "DateTimeField()  \n",
    "- 날짜 및 시간을 값으로 사용하는 필드  \n",
    "- DateField를 상속받는 클래스   \n",
    "- 선택인자  \n",
    "    - auto_now_add : `최초 생성 일자`. 데이터가 만들어질때 현재 날짜와 시간을 `자동으로 초기화'    \n",
    "    - auto_now : `최종 수정 일자`. 데이터가 수정될 때마다 현재 날짜와 시간을 `자동으로 갱신`"
   ]
  },
  {
   "cell_type": "markdown",
   "metadata": {},
   "source": [
    "---"
   ]
  },
  {
   "cell_type": "markdown",
   "metadata": {},
   "source": [
    "### 💡ORM  \n",
    "\n",
    "- 객체지향 프로그래밍 언어를 사용하여 호환되지 않는 유형의 시스템 간에(Django <-> DB)데이터를 변환하는 프로그래밍 기슬  \n",
    "- Django는 내장 Django ORM을 사용  \n",
    "- => sql을 사용하지 않고 데이터베이스를 조작할 수 있게 해주는 매개체  \n",
    "\n",
    "장점  \n",
    "- sql을 알지 못해도 조작 가능  \n",
    "- 객체 지향적 접근으로 인한 높은 `생산성`  \n",
    "\n",
    "단점  \n",
    "- ORM만으로 세밀한 데이터베이스 조작을 구현하기 어려운 경우가 있음"
   ]
  },
  {
   "cell_type": "markdown",
   "metadata": {},
   "source": [
    "✔️ pip install ipython django-extensions 설치했음!\n",
    "\n",
    "✔️ 그리고 프로젝트 settings.py의 installed_app에 'django_extensions',추가해줌  \n",
    "\n",
    "✔️ pip freeze > requirements.txt로 설치 확인"
   ]
  },
  {
   "cell_type": "markdown",
   "metadata": {},
   "source": [
    "### 💡Django shell  \n",
    "- ORM 관련 구문 연습을 위해 파이썬 쉘 환경을 사용  \n",
    "- 다만 일반 파이썬 쉘을 통해서는 장고 프로젝트에 영향을 줄 수 없으므로 Django shell 사용  \n",
    "- 우리가 설치한 django-extension이 제공하는 shell_plus로 진행  \n",
    "- 명령 : python manage.py shell_plus"
   ]
  },
  {
   "cell_type": "markdown",
   "metadata": {},
   "source": [
    "### 💡 ORM 사용  \n",
    "\n",
    "사전 준비  \n",
    "- Article.objects.all() : 작성된 데이터 출력\n",
    "\n",
    "Database API 구문  \n",
    "- Article.objects.all() == Modelclass.Manager.Queryset API\n",
    "\n",
    "objects manager  \n",
    "- 장고는 기본적으로 모든 클래스에 대해 objects라는 manager 객체를 자동으로 추가함  \n",
    "\n",
    "Query  \n",
    "- 데이터베이스에 특정한 데이터를 보여 달라는 요청  \n",
    "- 이 때, `파이썬으로 작성한 코드가 ORM에 의해 SQL로 변환`되어 데이터베이스에 전달되며, 데이터베이스의 `응답 데이터를 ORM이 QuerySet이라는 자료 형태로 변환`하여 우리에게 전달"
   ]
  },
  {
   "cell_type": "markdown",
   "metadata": {},
   "source": [
    "### 💡CRUD  \n",
    "Create / Read / Update / Delete  "
   ]
  },
  {
   "cell_type": "markdown",
   "metadata": {},
   "source": [
    "### 💡Create 생성  \n",
    "\n",
    "데이터 객체를 만드는 3가지 방법\n",
    "1. 첫번째 방법\n",
    "    - article = Article() # 클래스를 통한 인스턴스 생성  \n",
    "    - article.title = \"~~\" # 클래스 변수명과 같은 이름의 인스턴스 변수를 생성 후 값 할당  \n",
    "    - article.save() # 인스턴스로 save메서드 호출  \n",
    "    - 위 과정을 통해 하나의 레코드를 생성할 수 있음!\n",
    "\n",
    "2. 두번째 방법  \n",
    "    - article = Article(title=\"second\", content=\"django!\")  \n",
    "    - 한번에 바로 생성!  \n",
    "    - article.save() 해줘야 함  \n",
    "    - 💥save를 안해주면 데이터베이스에 저장이 안됨(id가 없음)\n",
    "\n",
    "3. 세번째 방법  \n",
    "    - Article.objects.create(title=\"third\", content=\"django!\")  \n",
    "    - create메서드를 활용  \n",
    "    - `create메서드가 save()를 포함하기때문에 따로해주지 않아도 저장`이되며 리턴값까지 바로 출력해서 보여줌  \n"
   ]
  },
  {
   "cell_type": "markdown",
   "metadata": {},
   "source": [
    "### 💡Read  \n",
    "\n",
    "- all() : 전체 데이터 조회  \n",
    "\n",
    "- get() : 단일 데이터 조회  \n",
    "    - 객체를 찾을 수 없으면 DosetNotExist 에러 발생.\n",
    "    - 둘 이상의 객체를 찾으면 에러 발생  \n",
    "    - 고유성을 보장하는 조회에서 사용해야 함  \n",
    "<br>\n",
    "\n",
    "- filter() : 저장된 조회 매개 변수와 일치하는 객체를 포함하는 새 QuertSet을 반환  \n",
    "    - 조회된 데이터가 없어도 빈 쿼리 셋  \n",
    "    - 하나여도 쿼리 셋으로 반환함  \n",
    "    - 💥pk를 조회하는 것에는 적합하지 않음(가능은하지만 filter는 없어도 빈 쿼리셋을 출력해버리므로 `pk는 get만 사용하기!!`)💥  \n",
    "<br>\n",
    "\n",
    "- Field lookups : 특정 레코드에 대한 조건을 설정하는 방법  \n",
    "    - Article.objects.filter(content__contains=\"ja\") : content에 ja를 포함하는 데이터들 출력!!  \n",
    "    - 이 외에도 다양한 lookup이 있음\n"
   ]
  },
  {
   "cell_type": "markdown",
   "metadata": {},
   "source": [
    "### 💡Update  \n",
    "\n",
    "update의 과정  \n",
    "1. 수정하고자하는 article 인스턴스 객체를 조회 후 반환값을 저장 \n",
    "- article = Article.objects.get(pk=1)  \n",
    "- pk는 꼭 get함수로 부르기!  \n",
    "- article이라는 변수에 수정하고자하는 값을 저장 \n",
    "\n",
    "2. article 인스턴스 객체의 인스턴스 변수 값을 새로운 값으로 할당  \n",
    "- article.title = \"byebye\"  \n",
    "- 원하는 내용으로 수정\n",
    "\n",
    "3. `save()를 통해 DB에 반영`"
   ]
  },
  {
   "cell_type": "markdown",
   "metadata": {},
   "source": [
    "### 💡Delete  \n",
    " \n",
    "Delete 과정  \n",
    "1. 삭제하고자 하는 article 인스턴스 객체를 조회 후 반환 값을 저장  \n",
    "- article.delete()  \n",
    "\n",
    "2. delete() 인스턴스 메서드 호출   \n",
    "- Article.objects.get(pk=1)  \n",
    "- 이제 pk==1인 데이터는 조회할 수 없음  \n",
    "- 다음 데이터를 삽입하면 4번으로 들어감!  \n",
    "- `delete()메서드를 사용했으므로 save를 안해도 바로 DB에 반영이 됨`\n",
    "\n"
   ]
  },
  {
   "cell_type": "markdown",
   "metadata": {},
   "source": [
    "### 💡참고  \n",
    "\n",
    "아래 함수를 models.py의 클래스 내부에 생성하면 shell에서 바로 title값을 출력 받을 수 있음  \n",
    "\n",
    "```\n",
    "def __str__(self):  \n",
    "        return self.title\n",
    "```\n",
    "![str](__str__.jpg)\n",
    "\n",
    "\n",
    "__str__() 작성 후 반드시 shell을 재시작해야 적용 됨!"
   ]
  },
  {
   "cell_type": "markdown",
   "metadata": {},
   "source": [
    "### 💡create 로직  \n",
    "\n",
    "2개의 view함수가 필요함  \n",
    "- 사용자의 입력을 받을 페이지를 렌더링 하는 함수  \n",
    "- \"new\" view function  \n",
    "\n",
    "- 사용자가 입력한 데이터를 전송 받아 DB에 저장하는 함수  \n",
    "- \"create\" view function"
   ]
  },
  {
   "cell_type": "markdown",
   "metadata": {},
   "source": []
  }
 ],
 "metadata": {
  "kernelspec": {
   "display_name": "Python 3.10.5 64-bit",
   "language": "python",
   "name": "python3"
  },
  "language_info": {
   "name": "python",
   "version": "3.10.5"
  },
  "orig_nbformat": 4,
  "vscode": {
   "interpreter": {
    "hash": "fb4569285eef3a3450cb62085a5b1e0da4bce0af555edc33dcf29baf3acc1368"
   }
  }
 },
 "nbformat": 4,
 "nbformat_minor": 2
}
