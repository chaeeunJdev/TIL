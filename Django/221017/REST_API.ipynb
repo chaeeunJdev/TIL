{
 "cells": [
  {
   "cell_type": "markdown",
   "metadata": {},
   "source": [
    "# Today I Learned  "
   ]
  },
  {
   "cell_type": "markdown",
   "metadata": {},
   "source": [
    "### 💡HTTP  \n",
    "- HTML 문서와 같은 리소스 ㄷ르을 가져올 수 있도록 하는 프로토콜  \n",
    "- 특징 : 무상태   \n",
    "\n"
   ]
  },
  {
   "cell_type": "markdown",
   "metadata": {},
   "source": [
    "### 💡HTTP Request Methods  \n",
    "\n",
    "GET  \n",
    "- 서버에 리소스의 표현을 요청  \n",
    "- GET을 사용하는 요청은 데이터만 검색해야 함  \n",
    "\n",
    "POST  \n",
    "- 데이터를 지정된 리소스에 제출  \n",
    "- 서버의 상태를 변경  \n",
    "\n",
    "PUT  \n",
    "- 요청한 주소의 리소스를 수정  \n",
    "\n",
    "DELETE  \n",
    "- 지정된 리소스를 삭제  "
   ]
  },
  {
   "cell_type": "markdown",
   "metadata": {},
   "source": [
    "### 💡URI  \n",
    "- Uniform Resource Identifier (통합 자원 식별자)  \n",
    "- 인터넷에서 하나의 리소스를 가리키는 문자열  \n",
    "- 가장 일반적인 URI는 웹 주소로 알려진 URL  \n",
    "- 특정 이름공간에서 이름으로 리소스를 식별하는 URI는 URN  \n",
    "- 💥자원의 식별자는 URI이며 그 중에서도 `경로로 자원을 식별하는 것은 URL, 이름으로 식별하는 것은 URN!!`  "
   ]
  },
  {
   "cell_type": "markdown",
   "metadata": {},
   "source": [
    "### 💡URL  \n",
    "Authority (https:// `www.example.com:80` )  \n",
    "- Domain Name은 유니크할수록 비싸다.  \n",
    "- :80은 Port이며 생략이 가능하다.  \n",
    "\n",
    "Path (https:// www.example.com:80 `/path/to.myfile.html` )  \n",
    "- 웹 서버의 리소스 경로  \n",
    "- 오늘날은 실제 위치가 아닌 추상화된 형태의 구조를 표현  \n",
    "- 예를들어 /articles/create/가 실제 articles 폴더안에 create 폴더안을 나타내는 것은 아님   \n",
    "\n"
   ]
  },
  {
   "cell_type": "markdown",
   "metadata": {},
   "source": [
    "### 💡API  \n",
    "- Application Programming Interface  \n",
    "- 애플리케이션과 프로그래밍적(프로그래밍 언어)으로 소통하는 방법  \n",
    "- 개발자가 복잡한 기능들을 보다 쉽게 만들 수 있도록 프로그래밍 언어로 제공되는 구성  \n",
    "\n",
    "\n",
    "Web API  \n",
    "- 웹 서버 또는 웹 브라우저를 위한 API  \n",
    "- 현재 웹 개발은 모든 것을 하나부터 열까지 개발하기보다 여러 Open API를 활용하는 추세  \n",
    "- API은 다양한 타입의 데이터를 응답(HTML, XML, JSON)  \n",
    "\n",
    "Open API  \n",
    "- 개발자라면 누구나 사용할 수 있도록 공개된 API  \n"
   ]
  },
  {
   "cell_type": "markdown",
   "metadata": {},
   "source": [
    "### 💡REST  \n",
    "\n",
    "- Representational State Transfer  \n",
    "- API Server를 개발하기 위한 일종의 소프트웨어 설계 방법론  \n",
    "- REST 원리를 따르는 시스템을 RESTful하다고 부름  \n",
    "- REST의 기본 아이디어는 리소스 즉 자원  \n",
    "- `자원을 정의하고 자원에 대한 주소를 지정하는 전반적인 방법을 서술`   \n",
    "\n",
    "REST에서 자원을 정의하고 주소를 지정하는 방법  \n",
    "1. 자원의 식별 : URI  \n",
    "2. 자원의 행위 : HTTP Method  \n",
    "3. 자원의 표현 : JSON으로 표현된 데이터를 제공  "
   ]
  },
  {
   "cell_type": "markdown",
   "metadata": {},
   "source": [
    "### 💡JSON  \n",
    "- JavaScript의 표기법을 따른 단순 `문자열`  \n",
    "- 파이썬의 딕셔너리, 자바스크립트의 object처럼 C계열의 언어가 갖고 있는 자료구조로 쉽게 변환할 수 있는 key-value 형태의 구조를 갖고 있음  "
   ]
  },
  {
   "cell_type": "markdown",
   "metadata": {},
   "source": [
    "### 💡Serialize  \n",
    "\n",
    "- 복잡한 데이터를 JSON, XML 등의 유형으로 쉽게 변환할 수 있는 Python 데이터 타입으로 만들어 줌  \n"
   ]
  },
  {
   "cell_type": "markdown",
   "metadata": {},
   "source": []
  }
 ],
 "metadata": {
  "kernelspec": {
   "display_name": "Python 3.10.5 64-bit",
   "language": "python",
   "name": "python3"
  },
  "language_info": {
   "name": "python",
   "version": "3.10.5"
  },
  "orig_nbformat": 4,
  "vscode": {
   "interpreter": {
    "hash": "fb4569285eef3a3450cb62085a5b1e0da4bce0af555edc33dcf29baf3acc1368"
   }
  }
 },
 "nbformat": 4,
 "nbformat_minor": 2
}
