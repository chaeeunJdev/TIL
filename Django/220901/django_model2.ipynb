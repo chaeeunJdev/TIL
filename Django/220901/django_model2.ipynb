{
 "cells": [
  {
   "cell_type": "markdown",
   "metadata": {},
   "source": [
    "### 💡Redirect  \n",
    "\n",
    "- 페이지에서 데이터를 받은 후 그 정보를 포함한 다른 페이지로 돌아가고 싶다면   \n",
    "- 그리고 db에서 데이터를 찾아서 다시 반환해야 하는 경우( 이 부분에서 데이터를 db를 안거치고 출력하는 throw, catch와는 차이가 있음!!)  \n",
    "- redirect를 통해서 다시 요청을 보내야 함  \n",
    "\n",
    "\n",
    "게시글 작성 후 터미널 로그 확인할 때  \n",
    "요청을 보내는게 성공적으로 되었으면 `302`,  \n",
    "그리고 잘 받아졌으면 `200`이 뜸"
   ]
  },
  {
   "cell_type": "markdown",
   "metadata": {},
   "source": [
    "### 💡GET과 POST  \n",
    "\n",
    "GET  \n",
    "- 특정 리소스를 가져오도록 요청할 때 사용  \n",
    "- 반드시 데이터를 가져올 때만 사용  \n",
    "- DB에 변화를 주지 않음  \n",
    "- CRUD에서 R 역할을 담당\n",
    "- 특정 페이지를 조회하는 요청을 보내는 HTML의 a tag 또한 GET을 사용\n",
    "\n",
    "POST  \n",
    "- 서버로 데이터를 전송할 때 사용  \n",
    "- 서버에 변경사항을 만듦  \n",
    "- GET의 쿼리 스트링 파라미터와 다르게 URL로 보내지지 않음\n",
    "- CRUD에서 C/U/D 역할을 담당\n",
    "- url에서 스트링 파라미터가 사라짐!!\n",
    "\n"
   ]
  },
  {
   "cell_type": "markdown",
   "metadata": {},
   "source": [
    "### 💡 CSRF 공격 방어  \n",
    "\n",
    "CSRF \n",
    "- 사이트간 요청 위조  \n",
    "- 사용자가 자신의 의지와 무관하게 공격자가 의도한 행동을 하여 특정 웹페이지를 보안에 취약하게 하거나 수정, 삭제 등의 작업을 하게 만드는 공격 방법\n",
    "\n",
    "\n",
    "Security Token 사용 방식  \n",
    "- 사용자의 데이터에 임의의 난수 값(Token)을 부여해 매 요청마다 해당 난수 값을 포함하여 전송 시키도록 함  \n",
    "- 이후 서버에서 요청을 받을 때마다 전달된 token값이 유효한지 검증  \n",
    "- {% csrf_token %} 이 태그가 없다면 Django 서버는 요청에 대해 403 forbidden으로 응답  \n",
    "- 템플릿 내부 URL로 향하는 Post form을 사용하는 경우에 사용\n",
    "\n",
    "csrf_token  \n",
    "- 해당 POST 요청이 내가 보낸 것 인지를 검정하는 것"
   ]
  },
  {
   "cell_type": "markdown",
   "metadata": {},
   "source": [
    "### 💡 이외\n",
    "✔ urls.py에 path경로 적을 때 주소가 같은 곳이 있다면 위에 있는 곳으로 들어가버림!!\n"
   ]
  },
  {
   "cell_type": "markdown",
   "metadata": {},
   "source": [
    "### 💡관리자 계정\n",
    "\n",
    "1. 계정 생성  \n",
    "python manage.py createsuperuser  \n",
    "을 통해 username과 password 입력  \n",
    "\n",
    "2. admin.py 내용 수정  \n",
    "from django.contrib import admin  \n",
    "from .models import Article  \n",
    "\n",
    "admin.site.register(Article)  \n",
    "\n",
    "이제 주소창에 /admin쳐서 들어가보기!\n",
    "\n",
    "삭제\n",
    "1.python manage.py shell_plus\n",
    "from django.contrib.auth.models import User\n",
    "User.objects.get(username=\"admin\", is_superuser=True).delete()"
   ]
  },
  {
   "cell_type": "markdown",
   "metadata": {},
   "source": [
    "### 💡 온라인 실습실 올리기\n",
    "\n",
    "1. 새폴더 생성  \n",
    "2. 깃배쉬 켜서 실습실 주소 복사 뒤 클론. 뒤에 ./ 꼭 붙여야함!!\n",
    "    git clone 주소 ./\n",
    "3. 로그인하라하면 로그인  \n",
    "4. 클론이 잘 되었으면 과제폴더를 새폴더에 넣기\n",
    "4. gitignore 구글에서 들어가서 python, django 생성해서 나오는 글 모두 복사\n",
    "5. 1번에서 생성한 폴더에 txt파일 생성 후 .gitignore로 이름 변경! 이름 없는 확장자 자체로 변경  \n",
    "6. 배쉬창에서 add, commit, push 하면 실습실에 올라옴. 마지막으로 실습실에서 제출하면 끝!"
   ]
  },
  {
   "cell_type": "markdown",
   "metadata": {},
   "source": [
    "내림차순 출력.\n",
    "id 앞에 마이너스를 붙이면 내림차순\n",
    "Article.objects.all().order_by(-\"id\")\n",
    "\n",
    "filter\n",
    "Article.objects.all().filter(title = \"first\")\n",
    "\n",
    "d로 끝나는 데이터 출력\n",
    "Article.objects.all().filter(title_endswith=\"d\")"
   ]
  },
  {
   "cell_type": "markdown",
   "metadata": {},
   "source": [
    "이전페이지 다음페이지  \n",
    " <a href=\"{% url 'articles:detail' article.pk|add:-1 %}\">[이전 페이지]</a>"
   ]
  },
  {
   "cell_type": "markdown",
   "metadata": {},
   "source": []
  }
 ],
 "metadata": {
  "kernelspec": {
   "display_name": "Python 3.10.5 64-bit",
   "language": "python",
   "name": "python3"
  },
  "language_info": {
   "name": "python",
   "version": "3.10.5"
  },
  "orig_nbformat": 4,
  "vscode": {
   "interpreter": {
    "hash": "532495251832655a21937a21001951ca5af10b96cf74b7e5ccae16eda7fb05d7"
   }
  }
 },
 "nbformat": 4,
 "nbformat_minor": 2
}
