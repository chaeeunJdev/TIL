{
 "cells": [
  {
   "cell_type": "markdown",
   "metadata": {},
   "source": [
    "## Today I Learned  \n",
    "\n",
    "---\n",
    "## The Django authentication system\n",
    "\n"
   ]
  },
  {
   "cell_type": "markdown",
   "metadata": {},
   "source": [
    "### 💡authentication system  \n",
    "- Django는 인증 Authentication과 권한 Authorization 부여를 함께 제공하며, 이러한 기능을 일반적으로 인증 시스템이라고 함.  \n",
    "\n",
    "인증  \n",
    "- 신원 확인  \n",
    "\n",
    "권한  \n",
    "- 권한 부여  \n",
    "- 인증된 사용자가 수행할 수 있는 작업을 결정\n"
   ]
  },
  {
   "cell_type": "markdown",
   "metadata": {},
   "source": [
    "### 💡Substituting a custom User model  \n",
    "- 기본 User model을 Custom User Model로 대체하기  \n",
    "- Django는 AUTH_USER_MODEL 설정 값으로 Default User Model을 재정의(override) 할 수 있도록 함\n",
    "\n",
    "AUTH_USER_MODEL\n",
    "- 프로젝트에서 User를 나타낼 때 사용하는 모델  \n",
    "- `프로젝트가 진행되는 동안 (모델을 만들고 마이그레이션한 후) 변경할 수 없음`  \n",
    "- 💥프로젝트 처음에 진행하는것을 권장!!!!!!!💥\n",
    "\n",
    "데이터베이스 초기화(프로젝트 중간일 경우)  \n",
    "1. migrations 파일 삭제\n",
    "    - migrations 폴더 및 `__init__.py`는 삭제하지 않음 \n",
    "    - 번호가 붙은 파일만 삭제  \n",
    "\n",
    "2. db.sqlite3 삭제  \n",
    "3. migrations 진행  \n",
    "    - makemigrations  \n",
    "    - migrate\n",
    "\n"
   ]
  },
  {
   "cell_type": "markdown",
   "metadata": {},
   "source": [
    "---\n",
    "## HTTP Cookies"
   ]
  },
  {
   "cell_type": "markdown",
   "metadata": {},
   "source": [
    "### 💡HTTP  \n",
    "- Hyper Text Transfer Protocol  \n",
    "- HTML 문서와 같은 리소스들을 가져올 수 있도록 해주는 규약  \n",
    "- 클라이언트 - 서버 프로토콜 이라고도 부름  \n",
    "\n",
    "요청  \n",
    "- 클라이언트에 의해 전송되는 메시지  \n",
    "\n",
    "응답  \n",
    "- 서버에서 응답으로 전송되는 메시지  \n",
    "\n",
    "HTTP 특징  \n",
    "- 비 연결 지향. 서버는 요청에 대한 응답을 보낸 후 연결을 끊음  \n",
    "- 무상태. 연결을 끊는 순간 클라이언트와 서버간의 통신이 끝나며 상태 정보가 유지되지 않음    \n",
    "\n",
    "\n",
    "- 여기서 서버와 클라이언트의 지속적인 상태 유지를 위해 `쿠키와 세션`이 존재(ex. 로그인을 하고 페이지를 이동해도 로그인 상태가 유지되는 것처럼!!)  "
   ]
  },
  {
   "cell_type": "markdown",
   "metadata": {},
   "source": [
    "### 💡쿠키  \n",
    "- HTTP 쿠키는 상태가 있는 세션을 만들도록 해줌  \n",
    "- 상태를 유지시켜주는 쿠키 == 세션  \n",
    "\n",
    "- 서버가 사용자의 웹 브라우저에 전송하는 작은 데이터 조각  \n",
    "- 브라우저는 쿠키를 로컬에 데이터 형식으로 저장 -> 이렇게 저장해놨다가, `동일한 서버에 재요청 시 저장된 쿠키를 함께 전송`  \n",
    "- 쿠키는 두 요청이 동일한 브라우저에서 들어왔는지 아닌지를 판단할 때 주로 사용됨.  \n",
    "- 이를 이용해 사용자의 로그인 상태를 유지할 수 있음   \n",
    "\n",
    "\n",
    "쿠키 사용 목적  \n",
    "- 세션 관리(로그인, 아이디 자동완성, 장바구니 등)  \n",
    "- 개인화(사용자 서호, 테마 등의 설정)  \n",
    "- 트래킹(사용자 행동을 기록 및 분석)"
   ]
  },
  {
   "cell_type": "markdown",
   "metadata": {},
   "source": [
    "### 💡세션  \n",
    "- 사이트와 특정 브라우저 사이의 상태를 유지시키는 것  \n",
    "- 클라이언트가 서버에 접속하면 서버가 특정 session id를 발급하고, 클라이언트는 session id를 쿠키에 저장  \n",
    "- 클라이언트가 다시 동일한 서버에 접속하면 요청과 함께 쿠키를 서버에 전달  \n",
    "\n",
    "쿠키수명  \n",
    "- session cookie : 현재 세션이 종료되면 삭제됨. 브라우저 종료와 함께 세션이 삭제됨  \n",
    "- Persistent cookies : Expires 속성에 지정된 날짜 혹은 Max-Age 속성에 지정된 기간이 지나면 삭제됨  \n",
    "\n",
    "Session in Django  \n",
    "- 장고에서는 이 모든 원리를 알아서 다 수행해줌!!"
   ]
  },
  {
   "cell_type": "markdown",
   "metadata": {},
   "source": [
    "--- \n",
    "## Authentication in Web requests"
   ]
  },
  {
   "cell_type": "markdown",
   "metadata": {},
   "source": [
    "### 💡Login  \n",
    "\n",
    "- 로그인은 `Session을 Create`하는 과정  \n",
    "- 로그인도 CRUD에 포함되는 것!!\n",
    "\n",
    "\n",
    "AuthenticationForm  \n",
    "- 로그인을 위한 built-in form\n",
    "    - 로그인 하고자하는 사용자 정보를 입력받음  \n",
    "    - 기본적으로 username과 password를 받아 데이터가 유효한지 검증  \n",
    "\n",
    "어제 create와 new를 합친것처럼 사실 login도 두개의 함수가 필요하지만 이걸 method를 통해 합쳐줄것임!\n",
    "\n",
    "django의 login 함수  \n",
    "- 인증된 사용자를 로그인 시키는 로직  \n",
    "- 현재 세션에 연결하려는 인증 된 사용자가 있는 경우 사용  \n",
    "- Http Request 객체와 User 객체가 필요  \n",
    "\n",
    "get_user()  \n",
    "- AuthenticationForm의 인스턴스 메서드  \n",
    "- 유효성 검사를 통과했을 경우 로그인 한 사용자 객체를 반환  \n",
    "\n",
    "`admin계정으로 로그인해본 후 개발자도구를 열어보면 sessionid가 생성된 것을 확인할 수 있음/ 혹은 database django_session에도 생성된 것을 확인할 수 있음(값이 같음)`"
   ]
  },
  {
   "cell_type": "markdown",
   "metadata": {},
   "source": [
    "### 💡로그아웃  \n",
    "\n",
    "- 로그아웃은 Session을 Delete하는 과정\n",
    "\n",
    "logout()  \n",
    "- httprequest 객체를 인자로 받고 반환 값이 없음  \n",
    "- 사용자가 로그인하지 않은 경우 오류를 발생시키지 않음  \n",
    "- `현재 요청에 대한 session data를 DB에서 삭제하고, 클라이언트의 쿠키에서도 sessionid를 삭제`   \n",
    "- 이는 다른 사람이 동일한 웹 브라우저를 사용하여 로그인하고, 이전 사용자의 세션 데이터에 액세스 하는 것을 방지하기 위함"
   ]
  },
  {
   "cell_type": "markdown",
   "metadata": {},
   "source": [
    "---\n",
    "## Authentication with User"
   ]
  },
  {
   "cell_type": "markdown",
   "metadata": {},
   "source": [
    "### 💡회원가입과 탈퇴\n",
    "- 회원가입은 User를 Create하는 것이며 UserCreationForm built-in form을 사용  \n",
    "- 탈퇴는 User를 Delete하는 것  \n"
   ]
  },
  {
   "cell_type": "markdown",
   "metadata": {},
   "source": [
    "### 💡비밀번호 변경  \n",
    "- 비밀번호 변경 시 세션이 무효화된다.  \n",
    "- 비밀번호 변경은 잘 되었으나 기존 세션과의 회원 인증 정보가 일치하지 않게되고 그래서 로그아웃처리가 된다.\n",
    "\n",
    "\n",
    "update_session_auth_hash()로 비밀번호 변경 후 로그아웃을 막을 수 있음"
   ]
  },
  {
   "cell_type": "markdown",
   "metadata": {},
   "source": [
    "---\n",
    "## Limiting access to logged-in users  "
   ]
  },
  {
   "cell_type": "markdown",
   "metadata": {},
   "source": [
    "### 💡Limiting access to logged-in users  \n",
    "\n",
    "- 로그인 사용자에 대한 접근 제한하기  \n",
    "- 로그인을 하였으면 로그인페이지나, 회원가입이 보이지 않아야함! \n",
    "\n",
    "- 이를 제한하는 2가지 방법  \n",
    "1. The raw way  \n",
    "- is_authenticated attribute => base.html에서 if문을 사용하여 수정  \n",
    "- 모든 User 인스턴스에 대해 항상 True인 읽기 전용 속성  \n",
    "- AnoymousUser에 대해서는 항상 False   \n",
    "- `권한과는 관련이없으며, 사용자가 활성화상태 이거나 유효한세션을 가지고 있는지도 확인하지 않음`\n",
    "\n",
    "- 하지만 이건 url을 알고있다면 들어갈 수 있음. 로직을 막은게 아님.  \n",
    "- 그래서 login함수에 아래 코드를 추가하여 막을 수 있음  \n",
    "```\n",
    "if request.user.is_authenticated: # 인증된 사용자라면\n",
    "        # 로그인 뷰함수로 오면 안됨\n",
    "        return redirect('articles:index')\n",
    "```\n",
    "\n",
    "2. The login_required decorator"
   ]
  },
  {
   "cell_type": "markdown",
   "metadata": {},
   "source": []
  }
 ],
 "metadata": {
  "language_info": {
   "name": "python"
  },
  "orig_nbformat": 4
 },
 "nbformat": 4,
 "nbformat_minor": 2
}
