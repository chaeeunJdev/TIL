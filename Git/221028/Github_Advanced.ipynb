{
 "cells": [
  {
   "cell_type": "markdown",
   "metadata": {},
   "source": [
    "# Today I Learned  \n"
   ]
  },
  {
   "cell_type": "markdown",
   "metadata": {},
   "source": [
    "### 💡 Git undoing  \n",
    "- Git 작업 되돌리기 (Undoing)  \n",
    "- Git에서 되돌리기는 작업 상태에 따라 크게 세 가지로 분류  \n",
    "  - Working Directory 작업 단계  \n",
    "  - Staging Area 작업 단계\n",
    "  - Repository 작업 단계  \n",
    "\n",
    "Working Directory 작업 단계  \n",
    "- Working Directory에서 수정한 파일 내용을 이전 커밋 상태로 되돌기기  \n",
    "- git resotre\n",
    "  \n",
    "Staging Area 작업 단계  \n",
    "- Staging Area에 반영된 파일을 Working Directory로 되돌리기\n",
    "- git rm --cached\n",
    "- git restore --staged  \n",
    "\n",
    "Repository 작업 단계  \n",
    "- 커밋을 완료한 파일을 Stagin Area로 되돌리기\n",
    "- git commit --amend"
   ]
  },
  {
   "cell_type": "markdown",
   "metadata": {},
   "source": [
    "### 💡Working Directory 작업 단계 되돌리기 (add 하지않은 수정사항)\n",
    "\n",
    "git restore\n",
    "- Working Directory에서 수정한 파일을 수정 전(직전 커밋)으로 되돌리기  \n",
    "- 이미 버전 관리가 되고 있는 파일만 되돌리기 가능  \n",
    "- `git resotre를 통해 되돌리면, 해당 내용을 복원할 수 없으니 주의해야 함`\n",
    "- git restore{파일 이름}\n",
    "- [참고] git 2.23.0버전 이전에는 git checkout --{파일이름}  \n",
    "  - git버전 확인 : git -v\n",
    "- (staging Area에 올라오지 않은)add가 되지 않은 파일도 되돋리기 가능\n",
    "\n",
    "\n",
    "실습 (빈폴더 생성)\n",
    "```python\n",
    "git init # git으로 버전관리 시작\n",
    "touch test.md # test.md 파일 생성\n",
    "git add test.md # add\n",
    "git commit -m 'commit message' # commit\n",
    "test.md 파일 수정 후 git restore test.md #수정 사항이 삭제됨 (`수정한 부분을 add하면 staging area에 올라가기 때문에 restore해도 이전 커밋으로 돌아가지 않음`)\n",
    "```\n"
   ]
  },
  {
   "cell_type": "markdown",
   "metadata": {},
   "source": [
    "### 💡 Staging Area 작업 단계 되돌리기 (add를 완료한 수정사항)\n",
    "\n",
    "- Stagin Area에 반영된 파일을 Working Directory로 되돌리기(Unstage)\n",
    "- root-commit 여부에 따라 두 가지 명령어로 나뉨\n",
    "  - root-commit이 없는 경우 : git rm --cached\n",
    "  - root-commit이 있는 경우 : git restore --staged\n",
    "\n",
    "\n",
    "git rm --cached\n",
    "- 깃 저장소가 만들어지고 한 번도 커밋을 안 한 경우(root- commit이 없는 경우)\n",
    "\n",
    "실습\n",
    "```python\n",
    "git init \n",
    "touch test.md \n",
    "git add test.md # add. VScode 소스제어 창에서도 add 가능\n",
    "git rm --cached test.md # add가 완료된 test.md파일을 add전으로 되돌림(Stagin Area에서 사라진다)\n",
    "\n",
    "## 커밋한 경우\n",
    "git init\n",
    "touch test.md\n",
    "git add test.md\n",
    "gi commit -m 'commit message'\n",
    "git restore --staged test.md # commit된 파일을 되돌림\n",
    "```"
   ]
  },
  {
   "cell_type": "markdown",
   "metadata": {},
   "source": [
    "\n",
    "<img src = 'add.png'>\n",
    "\n",
    "저기 추적되지 않음으로 표시 => add 되지 않은 상황  \n",
    "'+ 버튼 누르면 add 됨"
   ]
  },
  {
   "cell_type": "markdown",
   "metadata": {},
   "source": [
    "### 💡Repository 작업 단계 되돌리기  \n",
    "\n",
    "git commit --amend  \n",
    "- 커밋을 완료한 파일을 Staging Area로 되돌리기\n",
    "  - Staging Area에 새로 올라온 내용이 없다면, 직전 커밋의 메시지만 수정\n",
    "  - Staging Area에 새로 올라온 내용이 있다면, 직전 커밋을 덮어쓰기 \n",
    "- 이전 커밋을 완전히 고쳐서 새 커밋으로변경하므로, 이전 커밋은 일어나지 않은 일이 되며 `히스토리에도 남지 않음`을 주의 할 것!\n",
    "- `✔ amend를 안쓰면 버전이 늘어나지만 amend를 통해 버전을 늘리지 않고 이전의 버전을 새로운 내용으로 수정이 되는 것이다!`\n",
    "\n",
    "\n",
    "실습 \n",
    "```python\n",
    "git init\n",
    "touch test.md\n",
    "git add test.md\n",
    "git commit -m 'commit'\n",
    "# test.md 내용 수정  \n",
    "git commit --amend # 들어가서 커밋 메시지 수정하면 직전 커밋을 덮어쓴다. 이전의 기록은 아예 사라짐\n",
    "```\n",
    "\n",
    "Vim 명령어\n",
    "i : 문서 편집 시작\n",
    "esc : 문서 편집 종료\n",
    ":wq : 저장 및 종료\n",
    ":ql : 강제 종료\n"
   ]
  },
  {
   "cell_type": "markdown",
   "metadata": {},
   "source": [
    "### 💡Git reset  \n",
    "- 프로젝트를 특정 커밋(버전) 상태로 되돌림  \n",
    "- 특정 커밋으로 되돌아 갔을 때, `해당 커밋 이후로 쌓았던 커밋들은 전부 사라짐`\n",
    "- git reset[옵션]{커밋 ID}  \n",
    "  - 옵션은 soft, mixed, hard 중 하나를 작성  \n",
    "  - 커밋 ID는 되돌아가고 싶은 시점의 커밋 ID를 작성\n",
    "\n",
    "--soft \n",
    "- 해당 커밋로 되돌아가고\n",
    "- 되돌아간 커밋 이후의 파일들은 Staging Area로 돌려놓음  \n",
    "\n",
    "--mixed\n",
    "- 해당 커밋으로 되돌아가고\n",
    "- 되돌아간 커밋 이후의 파일들은 Working Directory로 돌려놓음\n",
    "- git reset 옵션의 기본값\n",
    "\n",
    "--hard \n",
    "- 해당 커밋으로 되돌아가고\n",
    "- 되돌아간 커밋 이후의 파일들은 모두 Working Directory에서 삭제 => `따라서 사용 시 주의해야 함`\n",
    "- 기존의 Untracked 파일은 사라지지 않고 Untracked로 남아있음\n",
    "\n",
    "\n",
    "실습(파일 따로 있음)\n",
    "```python \n",
    "git reflog # 커밋내역과 ID확인\n",
    "git reset --soft {ID} # 커밋 이후의 파일들을 Staging Area로 돌려놓음\n",
    "```"
   ]
  },
  {
   "cell_type": "markdown",
   "metadata": {},
   "source": [
    "### 💡git reflog\n",
    "- git reset의 hard 옵션은 Working Directory 내용까지 삭제하므로 위험할 수 있음  \n",
    "- git reflog 명령어를 이용하면 reset하기 전의 과거 커밋 내역을 모두 조회 가능\n",
    "- 이후 해당 커밋으로 reset하면 hard 옵션으로 삭제된 파일도 복구 가능"
   ]
  },
  {
   "cell_type": "markdown",
   "metadata": {},
   "source": [
    "### 💡Git revert \n",
    "\n",
    "- 과거를 없었던 일로 만드는 행위로, `이전 커밋을 취소한다는 새로운 커밋을 생성` \n",
    "- reset과는 달리 과거 기록을 보존할 수 있음!! \n",
    "- git revert {커밋ID}\n",
    "  - 커밋 ID는 취소하고 싶은 커밋 ID를 작성\n",
    "\n",
    "\n",
    "git reset과의 차이점 \n",
    "- reset은 커밋 내역을 삭제, revert는 새로운 커밋 생성  \n",
    "- revert는 깃허브를 이용해 협업할 때, 커밋 내역의 차이로 인한 충돌 방지 가능  \n",
    "\n",
    "- git reset 5sd2f42 : 5sd2f42라는 커밋으로 되돌린다는 뜻  \n",
    "- git revert 5sd2f42 : 5sd2f42라는 커밋 한 개를 취소한다는 뜻(5sd2f42라는 커밋이 취소되었다는 내용의 새로운 커밋을 생성함)\n",
    "\n",
    "\n",
    "실습(파일 따로 있음)\n",
    "```python \n",
    "git reflog # 커밋내역과 ID확인\n",
    "git revert 1eb059e # 커밋을 취소한다라는 내용의 새로운 커밋을 생성하므로 커밋 메시지를 작성하라는 Vim창이 뜸\n",
    "```"
   ]
  },
  {
   "cell_type": "markdown",
   "metadata": {},
   "source": [
    "### 💡Git branch  \n",
    "- 브랜치는 나뭇가지라는 뜻으로, 여러 갈래로작업 공간을 나누어 독립적으로 작업할 수 있도록 도와주는 Git 도구  \n",
    "\n",
    "장점\n",
    "- 브랜치는 독립 공간을 형성하기 때문에 원본(master)에 대해 안전함\n",
    "- 하나의 작업은 하나의 브랜치로 나누어 진행되므로 체계적인 개발이 가능함\n",
    "- Git은 브랜치를 만드는 속도가 굉장히 빠르고, 적은 용량을 소모함\n",
    "\n",
    "조회 명령어\n",
    "- git branch : 로컬 저장소의 브랜치목록 확인\n",
    "- git branch -r : 원격 저장소의 브랜치 목록 확인\n",
    "  \n",
    "생성 명령어\n",
    "- git branch {브랜치 이름} : 새로운 브랜치 생성\n",
    "- git branch {브랜치 이름} {커밋 ID} : 특정 커밋을 기준으로 브랜치 생성\n",
    "\n",
    "삭제 명령어\n",
    "- git branch -d {브랜치 이름} : 병합된 브랜치만 삭제 가능\n",
    "- git branch -D {브랜치 이름} : 강제 삭제"
   ]
  },
  {
   "cell_type": "markdown",
   "metadata": {},
   "source": [
    "### 💡Git switch\n",
    "\n",
    "- 현재 브랜치에서 다른 브랜치로 이동하는 명령어\n",
    "- git switch {브랜치 이름} : 다른 브랜치로 이동\n",
    "- git switch -c {브랜치 이름} : 브랜치를 새로 생성 및 이동\n",
    "- git switch -c {브랜치 이름} {커밋 ID} : 특정 커밋 기준으로 브랜치 생성 및 이동\n",
    "- `switch하기 전에, 해당 브랜치의 변경 사항을 반드시 커밋 해야함을 주의 할 것!`\n",
    "  - 다른 브랜치에서 파일을 만들고 커밋 하지 않은 상태에서 switch를 하면 브랜치를 이동했음에도 불구하고 해당 파일이 그대로 남아있게 됨\n",
    "\n",
    "`브랜치를 바꾸면 수정한 파일의 내용 또한 해당 브랜치에서 커밋된 기록을 기준으로 바뀌게 됨`"
   ]
  },
  {
   "cell_type": "markdown",
   "metadata": {},
   "source": [
    "[참고] HEAD  \n",
    "- HEAD는 현재 브랜치를 가리키고, 각 브랜치는 자신의 최신 커밋을 가리키므로 결국 HEAD가 현재 브랜치의 최신 커밋을 가리킨다고 할 수 있음\n",
    "- git log 혹은 cat .git/HEAD를 통해 현재 HEAD가 어떤 브랜치를 가리키는지 알 수 있음"
   ]
  },
  {
   "cell_type": "markdown",
   "metadata": {},
   "source": [
    "### 💡 Git merge\n",
    "\n",
    "- 분기된 브랜치들을 하나로 합치는 명령어\n",
    "- master 브랜치가 상용이므로, 주로 master 브랜치에 병합\n",
    "- git marge {합칠 브랜치 이름}\n",
    "  - 병합하기 전에 브랜치를 합치려고 하는 즉, 메인 브랜치로 switch해야함\n",
    "  - 병합의 3가지 종류\n",
    "    - Fast-Forward\n",
    "    - 3-way Merge\n",
    "    - Merge Conflict\n",
    "\n",
    "\n",
    "Fast-Forward  \n",
    "- 마치 빨리감기처럼 브랜치가 가리키는 커밋을 앞으로 이동시키는 방법\n",
    "- (master) $ git merge hotfix # 현재 master 브랜치에 있는 상태에서 hotfix를 병합\n",
    "\n",
    "3-way Merge\n",
    "- 각 브랜치의 커밋 두 개와 공통 조상 하나를 사용하여 병합하는 방법\n",
    "- (master) $ git merge hotfix\n",
    "\n",
    "Merge Conflict\n",
    "- 두 브랜치에서 같은 부분을 수정한 경우, Git이 어느 브랜치의 내용으로 작성해야 하는지 판단하지 못하여 충돌이 발생했을 때 이를 해결하며 병합하는 방법\n",
    "- 보통 같은 파일의 같은 부분을 수정했을 때 자주 발생함\n",
    "- 충돌이 발생한 부분은 작성자가 직접 해결해야 함\n",
    "- 충돌 해결 후 병합된 내욕을 기록한 Merge Commit 생성"
   ]
  },
  {
   "cell_type": "markdown",
   "metadata": {},
   "source": [
    "### 💡Git wrokflow  \n",
    "\n",
    "Branch와 원격 저장소를 이용해 협업을 하는 두 가지 바업\n",
    "- 원격 저장소 소유권이 있는 경우 -> Shared repository model\n",
    "- 원격 저장소 소유권이 없는 경우 -> Fork & Pull model\n",
    "\n",
    "Shared repository model  \n",
    "- 원격 저장소가 자신의 소유이거나 Collaborator로 등록되어 있는 경우\n",
    "- master qm랜치에 직접 개발하는 것이 아니라, 기능별로 브랜치를 따로 만들어 개발\n",
    "- Pull Request를 사용하여 팀원 간 변경 내용에 대한 소통 진행  \n",
    "\n",
    "Fork & Pull model\n",
    "- 오픈소스 프로젝트와 같이, 자신의 소유가 아닌 원격 저장소인 경우\n",
    "- 원본 원격 저장소를 그대로 내 원격 저장소에 복제 (이러한 행위를 Fork라고 함)\n",
    "- 기능 완성 후 복제한 내 원격 저장소에 Push\n",
    "- 이후 Pull Request를 통해 원본 원격 저장소에 반영될 수 있도록 요청함"
   ]
  },
  {
   "cell_type": "markdown",
   "metadata": {},
   "source": [
    "### 💡 Pull Request  \n",
    "\n",
    "- 각자의 브랜치로 작업한 파일을 github에 push하면 master브랜치에 Pull Request를 통해 병합할 수 있음. \n",
    "- 기능을 완성한 브랜치는 수정할 부분이 있는게 아니면 브랜치 삭제하는게 좋음\n",
    "- pull request 후 사이트에서 브랜치 삭제를 하면 원격저장소에서는 삭제가 되지만 로컬 저장소에서는 삭제된 것은 아님\n",
    "- 로컬 저장소의 master 브랜치에서 git pull을 통해 로컬과 원격을 동기화 해야함"
   ]
  },
  {
   "cell_type": "markdown",
   "metadata": {},
   "source": []
  }
 ],
 "metadata": {
  "language_info": {
   "name": "python"
  },
  "orig_nbformat": 4
 },
 "nbformat": 4,
 "nbformat_minor": 2
}
