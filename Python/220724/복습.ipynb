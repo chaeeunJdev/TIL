{
 "cells": [
  {
   "cell_type": "markdown",
   "metadata": {},
   "source": [
    "## 파이썬 기초 및 7월 넷째 주 주요 내용 복습"
   ]
  },
  {
   "cell_type": "markdown",
   "metadata": {},
   "source": [
    "### 💡if문\n",
    "\n",
    "* if문 조건표현식  \n",
    "true인 경우 값 if 조건 else false인 경우 값\n"
   ]
  },
  {
   "cell_type": "markdown",
   "metadata": {},
   "source": [
    "---"
   ]
  },
  {
   "cell_type": "markdown",
   "metadata": {},
   "source": [
    "### 💡List\n",
    "* enumerate를 활용하면 index와 값을 동시에 순회할 수 있음  \n",
    "* 생성된 list에 값을 추가하려면 .append('값')  \n",
    "* list comprehension을 통해 특정한 값을 가진 리스트를 간결하게 생성할 수 있음  \n",
    "[code for 변수 in range범위] or [code for 변수 in 범위 if ]\n"
   ]
  },
  {
   "cell_type": "code",
   "execution_count": 9,
   "metadata": {},
   "outputs": [
    {
     "name": "stdout",
     "output_type": "stream",
     "text": [
      "0 민수\n",
      "1 영희\n",
      "2 철수\n"
     ]
    }
   ],
   "source": [
    "# enumerate를 리스트에 사용하는 경우 인덱스와 값 출력\n",
    "members = ['민수', '영희', '철수']\n",
    "for index, member in enumerate(members):\n",
    "    print(index, member)"
   ]
  },
  {
   "cell_type": "code",
   "execution_count": 14,
   "metadata": {},
   "outputs": [
    {
     "name": "stdout",
     "output_type": "stream",
     "text": [
      "[1, 8, 27]\n"
     ]
    }
   ],
   "source": [
    "# list comprehension_ range 활용\n",
    "a_list = [num ** 3 for num in range(1,4)]\n",
    "print(a_list)"
   ]
  },
  {
   "cell_type": "code",
   "execution_count": 15,
   "metadata": {},
   "outputs": [
    {
     "name": "stdout",
     "output_type": "stream",
     "text": [
      "[8]\n"
     ]
    }
   ],
   "source": [
    "# list comprehension_ if문 활용\n",
    "b = [1,2,3]\n",
    "b_list = [num ** 3 for num in b if num % 2 == 0]\n",
    "print(b_list)"
   ]
  },
  {
   "cell_type": "markdown",
   "metadata": {},
   "source": [
    "---"
   ]
  },
  {
   "cell_type": "markdown",
   "metadata": {},
   "source": [
    "### 💡Dictionary  \n",
    "* enumerate를 사용하면 인덱스와 key를 출력할 수 있음  \n",
    "* items()를 활용하여 key와 value 동시 출력 가능  \n",
    "* 딕셔너리도 comprehension을 통해 간결하게 생성 가능  \n",
    "{key:val for val in range} or {key:val for key,val in dict if 조건}"
   ]
  },
  {
   "cell_type": "code",
   "execution_count": 4,
   "metadata": {},
   "outputs": [
    {
     "name": "stdout",
     "output_type": "stream",
     "text": [
      "0 이름\n",
      "1 나이\n"
     ]
    }
   ],
   "source": [
    "# enumberate를 딕셔너리에 사용하는 경우 인덱스와 key 출력\n",
    "members = {'이름' : '민수', '나이' : 24}\n",
    "for index, member in enumerate(members):\n",
    "    print(index, member)"
   ]
  },
  {
   "cell_type": "code",
   "execution_count": 5,
   "metadata": {},
   "outputs": [
    {
     "name": "stdout",
     "output_type": "stream",
     "text": [
      "dict_items([('이름', '민수'), ('나이', 24)])\n"
     ]
    }
   ],
   "source": [
    "# 딕셔너리에서 items를 활용하여 key와 value 동시 출력\n",
    "members = {'이름' : '민수', '나이' : 24}\n",
    "print(members.items())"
   ]
  },
  {
   "cell_type": "code",
   "execution_count": 8,
   "metadata": {},
   "outputs": [
    {
     "name": "stdout",
     "output_type": "stream",
     "text": [
      "민수\n",
      "24\n"
     ]
    }
   ],
   "source": [
    "# 딕셔너리에서 값을 출력하는 방법 2가지\n",
    "members = {'이름' : '민수', '나이' : 24}\n",
    "print(members['이름']) # 딕셔너리이름['key']\n",
    "print(members.get('나이')) # 딕셔너리이름.get('key')"
   ]
  },
  {
   "cell_type": "code",
   "execution_count": 12,
   "metadata": {},
   "outputs": [
    {
     "name": "stdout",
     "output_type": "stream",
     "text": [
      "{'이름': '철수', '나이': 24}\n",
      "{'이름': '철수', '나이': 24, '학교': '대학교'}\n"
     ]
    }
   ],
   "source": [
    "# 딕셔너리에서 값을 변경하는 방법, 새로운 key와 value를 추가하는 방법\n",
    "members = {'이름' : '민수', '나이' : 24}\n",
    "members['이름'] = '철수'\n",
    "print(members)\n",
    "members['학교'] = '대학교'\n",
    "print(members)"
   ]
  },
  {
   "cell_type": "code",
   "execution_count": 18,
   "metadata": {},
   "outputs": [
    {
     "name": "stdout",
     "output_type": "stream",
     "text": [
      "{1: 1, 2: 4, 3: 9, 4: 16}\n"
     ]
    }
   ],
   "source": [
    "# Dictionary comprehension_ 기본 활용법\n",
    "a_dict = {number : number**2 for number in range(1,5)}\n",
    "print(a_dict) "
   ]
  },
  {
   "cell_type": "code",
   "execution_count": 20,
   "metadata": {},
   "outputs": [
    {
     "name": "stdout",
     "output_type": "stream",
     "text": [
      "{'apple': '500', 'banana': '600'}\n"
     ]
    }
   ],
   "source": [
    "# Dictionary comprehension_ key와 value를 동시에 변수로 활용 + if문\n",
    "a_d = {\"apple\" : \"500\", \"banana\" : \"600\", \"orange\" : \"700\"}\n",
    "a_dict = {key:val for key,val in a_d.items() if val != \"700\"} \n",
    "#꼭 .items()를 붙여야 에러가 안 뜸!\n",
    "print(a_dict) "
   ]
  },
  {
   "cell_type": "code",
   "execution_count": 21,
   "metadata": {},
   "outputs": [
    {
     "name": "stdout",
     "output_type": "stream",
     "text": [
      "{'apple': '500', 'banana': '600', 'orange': '700'}\n",
      "dict_items([('apple', '500'), ('banana', '600'), ('orange', '700')])\n"
     ]
    }
   ],
   "source": [
    "# 딕셔너리 그냥 print와 .items()의 차이\n",
    "a_d = {\"apple\" : \"500\", \"banana\" : \"600\", \"orange\" : \"700\"}\n",
    "print(a_d)\n",
    "print(a_d.items()) # key와 value가 콤마와 함께 나옴"
   ]
  },
  {
   "cell_type": "markdown",
   "metadata": {},
   "source": [
    "---"
   ]
  },
  {
   "cell_type": "markdown",
   "metadata": {},
   "source": [
    "### 💡사용자 함수 정의  \n",
    "* def 함수를 통해 원하는 함수를 생성할 수 있음  \n",
    "* print를 하면 값을 출력하기만 하고 return값을 주면 해당 값을 변수에 대입하여 활용할 수 있음(출력해주진 않으므로 출력하고싶다면 return해주고 +print까지 해야 함)\n",
    "def function_name(parameter) :  \n",
    "    code Block  \n",
    "    return returning_value  "
   ]
  },
  {
   "cell_type": "markdown",
   "metadata": {},
   "source": [
    "---"
   ]
  },
  {
   "cell_type": "markdown",
   "metadata": {},
   "source": [
    "### 💡함수의 입력  \n",
    "* parameter 매개변수  \n",
    "함수를 정의할 때, 함수 내부에서 사용  \n",
    "* argument 인수  \n",
    "함수를 호출할 때 넣어주는 값, parameter를 통해서 전달되는 값  \n",
    "    * Posional Argu  \n",
    "    위치에 따라 함수 내에 전달됨(순서에 상관 있음)  \n",
    "    * Keyword Argu  \n",
    "    직접 변수의 이름으로 argu를 전달함. (순서에 상관이 없으며 키워드인수 뒤에 포지션인수를 줄 수 없음)\n",
    "* *args 가변인자  \n",
    "여러개의 Positional Argu를 하나로 받을때 사용  \n",
    "* \"\"kwargs 키워드가변인자  \n",
    "몇 개의 키워드 가변인자를 받을지 모를때 사용(가변인자와 키워드가변인자는 동시에 사용 가능)"
   ]
  },
  {
   "cell_type": "code",
   "execution_count": 28,
   "metadata": {},
   "outputs": [
    {
     "name": "stdout",
     "output_type": "stream",
     "text": [
      "1 [2, 3, 4] 5\n"
     ]
    }
   ],
   "source": [
    "# 가변인자 언패킹\n",
    "a = (1,2,3,4,5)\n",
    "b, *c, d = a # c를 가변인자로 사용하여 위치에 따라 b에는 1, d에는 5가 들어가고 나머지 2,3,4가 c에 들어감\n",
    "print(b, c, d)"
   ]
  },
  {
   "cell_type": "code",
   "execution_count": 31,
   "metadata": {},
   "outputs": [
    {
     "name": "stdout",
     "output_type": "stream",
     "text": [
      "1 [2, 3, 4] 5\n"
     ]
    }
   ],
   "source": [
    "#가변키워드인자 언패킹\n",
    "e = (1,2,3,4,5)\n",
    "f, *g, h = a\n",
    "print(f, g, h)"
   ]
  },
  {
   "cell_type": "code",
   "execution_count": 37,
   "metadata": {},
   "outputs": [
    {
     "name": "stdout",
     "output_type": "stream",
     "text": [
      "name: 철수\n",
      "age: 24\n"
     ]
    }
   ],
   "source": [
    "def asterist_kw(**kwargs):\n",
    "  for kw, arg in kwargs.items():\n",
    "    print(kw, ': ', arg)\n",
    "\n",
    "a = {'name':'철수', 'age':24}\n",
    "personal_info(**a)\n"
   ]
  },
  {
   "cell_type": "markdown",
   "metadata": {},
   "source": [
    "---"
   ]
  },
  {
   "cell_type": "markdown",
   "metadata": {},
   "source": [
    "### 💡파이썬 Scope  \n",
    "* 이름검색규칙  LEGB Rule  \n",
    "    Local Scope : 지역 범위(현재 작업 중인 범위)  \n",
    "    Enclosed Scope : 지역 범위 한 단계 위 범위  \n",
    "    Global Scope : 최상단에 위치한 범위  \n",
    "    Built-in Scope : 정의하지 않고 사용할 수 있는 모든 것  \n",
    "    \n",
    "* 하위 공간에서 상위 공간으로 접근은 가능하지만 수정할 수는 없지만 global과 nonlocal문을 사용하여 상위 변수의 값을 동시에 수정할 수 있음(되도록 사용하지 않는 것을 추천)  \n",
    "* 함수에서 선언된 변수는 기본적으로 local scope이다.  \n",
    "* global과 nonlocal대신 return, argument를 이용해서 함수 바깥의 변수와 연동하는 것을 추천"
   ]
  },
  {
   "cell_type": "markdown",
   "metadata": {},
   "source": []
  },
  {
   "cell_type": "code",
   "execution_count": 40,
   "metadata": {},
   "outputs": [
    {
     "name": "stdout",
     "output_type": "stream",
     "text": [
      "10\n",
      "10\n"
     ]
    }
   ],
   "source": [
    "# Global문을 활용하여 상위 num 값 수정하기\n",
    "num = 0\n",
    "\n",
    "def new_num():\n",
    "    global num # 이 코드가 없었다면 결과는 100 / 0이 나왔을 것\n",
    "    # 하지만 global로 상위 num값을 연결하였으니 100 / 100이 나옴\n",
    "    num = 10\n",
    "    print(num)\n",
    "\n",
    "new_num()\n",
    "\n",
    "print(num)"
   ]
  },
  {
   "cell_type": "code",
   "execution_count": 41,
   "metadata": {},
   "outputs": [
    {
     "name": "stdout",
     "output_type": "stream",
     "text": [
      "10\n",
      "10\n"
     ]
    }
   ],
   "source": [
    "# nonlocal문을 활용하여 상위 num값 수정하기\n",
    "def new_nums():\n",
    "    num = 0\n",
    "\n",
    "    def new():\n",
    "        nonlocal num\n",
    "        num = 10\n",
    "        print(num)\n",
    "\n",
    "    new()\n",
    "\n",
    "    print(num)\n",
    "\n",
    "new_nums()"
   ]
  },
  {
   "cell_type": "code",
   "execution_count": null,
   "metadata": {},
   "outputs": [],
   "source": []
  }
 ],
 "metadata": {
  "kernelspec": {
   "display_name": "Python 3.10.5 64-bit",
   "language": "python",
   "name": "python3"
  },
  "language_info": {
   "codemirror_mode": {
    "name": "ipython",
    "version": 3
   },
   "file_extension": ".py",
   "mimetype": "text/x-python",
   "name": "python",
   "nbconvert_exporter": "python",
   "pygments_lexer": "ipython3",
   "version": "3.10.5"
  },
  "orig_nbformat": 4,
  "vscode": {
   "interpreter": {
    "hash": "fb4569285eef3a3450cb62085a5b1e0da4bce0af555edc33dcf29baf3acc1368"
   }
  }
 },
 "nbformat": 4,
 "nbformat_minor": 2
}
