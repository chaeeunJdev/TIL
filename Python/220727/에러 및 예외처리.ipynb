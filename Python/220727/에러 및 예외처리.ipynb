{
 "cells": [
  {
   "cell_type": "markdown",
   "metadata": {},
   "source": [
    "# Today I Learned\n",
    "\n",
    "### 에러 및 예외처리"
   ]
  },
  {
   "cell_type": "markdown",
   "metadata": {},
   "source": [
    "### 💡버그  \n",
    "* 최초의 버그는 1945년 프로그래밍 언어의 일종인 코볼 발명자 그레이스 호퍼가 발견  \n",
    "* 역사상 최초의 컴퓨터 버그는 Mark 2라는 컴퓨터 회로에 벌레인 나방이 들어가 합선을 일으켜 비정상적으로 동작  \n",
    "* 이때부터 소프트웨어에서 발생하는 문제를 버그라고 부름  \n"
   ]
  },
  {
   "cell_type": "markdown",
   "metadata": {},
   "source": [
    "### 💡 디버깅  \n",
    "* 잘못된 프로그램을 수정한느 것을 디버깅이라함 de(없앤다) + bugging(버그)  \n",
    "\n",
    "* 에러 메시지가 발생하는 경우  \n",
    "해당 하는 위치를 찾아 메시지를 해결  \n",
    "\n",
    "* 로직 에러가 발생하는 경우  \n",
    "명시적인 에러 메시지 없이 예상과 다른 결과가 나온 경우  \n",
    "    * 정상적으로 동작하였던 코드 이후 작성된 코드르 생각해봄  \n",
    "    * 전체 코드를 살펴봄  \n",
    "    * 휴식을 가져봄  \n",
    "    * 누군가에게 설명해봄    \n",
    "\n",
    "* print 함수 활용  \n",
    "특정 함수 결과, 반복/조건 결과 등 나눠서 생각, 코드를 bisection으로 나눠서 생각  \n",
    "\n",
    "* 개발환경(text editor, IDE) 등에서 제공하는 기능 활용  \n",
    "breakpoint, 변수 조회 등  \n",
    "\n",
    "* PYthon tutor 활용 (단순 파이썬 코드인 경우)  \n",
    "\n",
    "* 뇌컴파일, 눈디버깅"
   ]
  },
  {
   "cell_type": "markdown",
   "metadata": {},
   "source": [
    "### 💡 문법 에러(Syntax Error)  \n",
    "\n",
    "* Syntaz Error가 발생하면, 파이썬 프로그램은 실행이 되지 않음  \n",
    "\n",
    "* 파일이름, 줄번호, ^문자를 통해 파이썬이 코드를 읽어 나갈 때 문제가 발생한 위치를 표현해줌  \n",
    "\n",
    "* 줄에서 에러가 감지된 가장 앞의 위치를 가리키는 캐럿(caret) 기호(^)를 표시\n",
    "\n",
    "* Invalid syntax : 문법오류  \n",
    "* assign to iteral : 잘못된 할당"
   ]
  },
  {
   "cell_type": "markdown",
   "metadata": {},
   "source": [
    "### 💡예외\n",
    "* 실행 도중 예상치 못한 상황을 맞이하면, 프로그램 실행을 멈춤  \n",
    "    문장이나 표현식이 문법적으로 올바르더라도 발생하는 에러  \n",
    "* 실행 중에 감지되는 에러들을 예외(Exception)라고 부름  \n",
    "\n",
    "* 예외는 여러 타입(type)으로 나타나고 타입이 메시지의 일부로 출력됨  \n",
    "    NameError, TypeError 등은 발생한 예외 타입의 종류(이름)  \n",
    "\n",
    "* 모든 내장 예외는 Exception Class를 상속받아 이루어짐  \n",
    "\n",
    "* 사용자 정의 예외를 만들어 관리할 수 있음  \n",
    "\n",
    "* ZeroDivisionError : 0으로 나누고자 하면 발생  \n",
    "\n",
    "* NameError : namespace 상에 이름이 없는 경우(정의되지 않은 경우)  \n",
    "\n",
    "* TypeError : 타입 불일치 / argument 누락 / argument 개수 초과 / argument type  불일치  \n",
    "\n",
    "* ValueError :  타입은 올바르나 값이 적절하지 않거나 없는 경우 ex.) index()  \n",
    "\n",
    "* IndexError : 인덱스가 존재하지 않거나 범위를 벗어나는 경우  \n",
    "\n",
    "* KeyError : 해당 키가 존재하지 않는경우 -> 그래서 보통 ['키이름'] 보다는 .get('키이름')을 써서 에러를 안 뜨게 함  \n",
    "\n",
    "* ModuleNotFoundError : 모듈을 못 찾는 경우\n",
    "\n",
    "* ImportError : 모듈은 있으나 존재하지 않는 클래스/함수를 가져오는 경우  \n",
    "\n",
    "* KeyboardInterrupt : 임의로 프로그램을 종료하였을 때  \n",
    "\n",
    "* IndentationError : Indentation이 적절하지 않는 경우"
   ]
  },
  {
   "cell_type": "markdown",
   "metadata": {},
   "source": [
    " ### 💡 파이썬 내장 예외 (built-in-exceptions)\n",
    "..?\n",
    "검색해보기!"
   ]
  },
  {
   "cell_type": "markdown",
   "metadata": {},
   "source": [
    "### 💡예외 처리  \n",
    "\n",
    "* try문(statement) / except 절(clause)을 이용하여 예외 처리를 할 수 있음 \n",
    "\n",
    "* try문\n",
    "    * 오류가 발생할 가능성이 있는 코드를 실행\n",
    "    * 예외가 발생되지 않으면, except 없이 실행 종료  \n",
    "    * `반드시 한 개 이상의 except문이 필요`\n",
    "\n",
    "* except문  \n",
    "    * 예외가 발생하면, except문이 실행  \n",
    "    * 예외 상황을 처리하는 코드를 받아서 적절한 조치를 취함  \n",
    "\n"
   ]
  },
  {
   "cell_type": "code",
   "execution_count": 1,
   "metadata": {},
   "outputs": [
    {
     "data": {
      "text/plain": [
       "\"\\ntry : \\n    num = input('숫자입력 : ')\\n    print(int(num))\\nexcept ValueError : \\n    print('숫자가 입력되지 않았습니다.')\\n\""
      ]
     },
     "execution_count": 1,
     "metadata": {},
     "output_type": "execute_result"
    }
   ],
   "source": [
    "'''\n",
    "try : \n",
    "    num = input('숫자입력 : ')\n",
    "    print(int(num))\n",
    "except ValueError : \n",
    "    print('숫자가 입력되지 않았습니다.')\n",
    "'''"
   ]
  },
  {
   "cell_type": "markdown",
   "metadata": {},
   "source": [
    "### 💡 에러 미시지 처리 (as)  \n",
    "* as 키워드를 활용하여 원본 에러 미시지를 사용할 수 있음  \n",
    "    * 예외를 다른 이름에 대입"
   ]
  },
  {
   "cell_type": "code",
   "execution_count": null,
   "metadata": {},
   "outputs": [],
   "source": [
    "# 복수의 예외 처리 실습 \n",
    "\n",
    "num = input('100으로 나눌 값을 입력하시오 : ')\n",
    "print(100/int(num))\n",
    "\n",
    "# 에러나는 경우\n",
    "# 문자열을 입력 ValueError\n",
    "# 0을 입력 ZeroDivisionError\n",
    "\n",
    "try :\n",
    "    num = input('100으로 나눌 값을 입력하시오 : ')\n",
    "    100/int(num)\n",
    "except (ValueError, ZeroDivisionError):\n",
    "    print('제대로 입력해줘.')"
   ]
  },
  {
   "cell_type": "markdown",
   "metadata": {},
   "source": [
    "### 💡예외 처리 종합  \n",
    "\n",
    "* try : 코드를 실행합 \n",
    "\n",
    "* except : try문에서 예외가 발생 시 실행함  \n",
    "\n",
    "* else : try문에서 예외가 발생하지 않으면 실행함  \n",
    "\n",
    "* finally : 예외 발생 여부와 관계없이 항상 실행함\n",
    "\n",
    "예시\n",
    "파일을 열고 읽는 코드를 작성하는 경우  \n",
    "* 파일 열기 시도  \n",
    "    * 파일 없는 경우 -> '해당 파일이 없습니다.' 출력 (except)  \n",
    "    * 파일 있는 경우 -> 파일 내용을 출력 (else)  \n",
    "* 해당 파일 읽기 작업 종료 메시지 출력 (finally)\n",
    "\n",
    "💥에러의 종류를 정확히 알고 각각의 에러별로 처리를 할 경우에는 if문을 쓰는게 더욱 효율적일 수 있음"
   ]
  },
  {
   "cell_type": "markdown",
   "metadata": {},
   "source": []
  }
 ],
 "metadata": {
  "kernelspec": {
   "display_name": "Python 3.10.5 64-bit",
   "language": "python",
   "name": "python3"
  },
  "language_info": {
   "codemirror_mode": {
    "name": "ipython",
    "version": 3
   },
   "file_extension": ".py",
   "mimetype": "text/x-python",
   "name": "python",
   "nbconvert_exporter": "python",
   "pygments_lexer": "ipython3",
   "version": "3.10.5"
  },
  "orig_nbformat": 4,
  "vscode": {
   "interpreter": {
    "hash": "fb4569285eef3a3450cb62085a5b1e0da4bce0af555edc33dcf29baf3acc1368"
   }
  }
 },
 "nbformat": 4,
 "nbformat_minor": 2
}
