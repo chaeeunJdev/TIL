{
 "cells": [
  {
   "cell_type": "markdown",
   "metadata": {},
   "source": [
    "## Today I Learned  \n",
    "### 객체지향 프로그래밍(OOP)"
   ]
  },
  {
   "cell_type": "markdown",
   "metadata": {},
   "source": [
    "### 💡 객체 지향 프로그래밍(Object-Oriented Programming, OOP)  \n",
    "OOP는 컴퓨터 프로그래밍의 패러다임(방법론) 중 하나이다.  \n",
    "\n",
    "객체 지향 프로그래밍은 컴퓨터 프로그램을 명령어의 목록으로 보는 시각에서 벗어나 여러 개의 독립된 단위, 즉 `'객체'`들의 모임으로 파악하고자 하는 것이다. 각각의 객체는 메시지를 주고받고, 데이터를 처리할 수 있다.  \n",
    "\n",
    "그럼 객체란 ?  \n",
    "객체 = 정보 + 행동   \n",
    "\n",
    "기존의 절차지향 프로그래밍은 하나의 데이터에 여러 가지의 함수가 있어서 함수 하나를 변경하려면 다른 것도 변경해야했음  \n",
    "객체지향 프로그래밍은 데이터와 기능을 분리하여 `추상화`(복잡한건 숨기고 필요한건 드러냄)된 구조를 가짐!  \n",
    "\n",
    "파이썬은 모든 것이 객체  =  파이썬의 모든 것엔 속성과 행동이 존재  "
   ]
  },
  {
   "cell_type": "markdown",
   "metadata": {},
   "source": [
    "### 💡 객체지향의 장단점  \n",
    "장점\n",
    "* 클래스 단위로 모듈화시켜(= 각자의 영역을 구분하여) 개발할 수 있으므로 많은 인원이 참여하는 대규모 소프트웨어 개발에 적합  \n",
    "* 필요한 부분만 수정하기 쉽기 때문에 프로그램의 유지보수가 쉬움(= 영역이 구분되어있으므로! 전체를 수정할 필요가 없음!)  \n",
    "\n",
    "단점  \n",
    "* 설계 시 많은 노력과 시간이 필요함  \n",
    "* 실행 속도가 상대적으로 느림(사람이 편하기때문에 컴퓨터가 힘들다!)  \n",
    "절차지향 프로그래밍이 컴퓨터의 처리구조와 비슷해서 실행 속도가 빠름 "
   ]
  },
  {
   "cell_type": "markdown",
   "metadata": {},
   "source": [
    "### 💡 객체(컴퓨터 과학)  \n",
    "컴퓨터 과학에서 객체 또는 오브젝트는 클래스에서 정의한 것을 토대로 메모리(실제 저장공간)에 할당된 것으로 프로그램에서 사용되는 데이터 또는 식별자에 의해 참조되는 공간을 의미하며, 변수, 자료구조, 함수 또는 메서드가 될 수 있다  \n",
    "\n",
    "= 속성과 행동으로 구성된 모든 것  \n",
    "\n",
    "* 객체 예시  \n",
    "가수 이찬혁  \n",
    "속성(정보, 변수) = {직업 : 가수}, {생년월일 : 96.9.12}  \n",
    "행동(함수, 메서드) =  {랩하기 : 어느새부터 힙합은 안 멋져~}, {댄스 : 두둠칫}  \n",
    "\n",
    "    이찬혁.직업() = 가수  \n",
    "    이찬혁.랩하기() = 어느새부터 힙합은 안 멋져~  \n",
    "\n",
    "    여기서 객체(실제 사례)는 `이찬혁`이고, 클래스(설계도)는 `가수`이다  \n",
    "    이 세상에 '가수'라는 것은 개념만 있을뿐 실존하는 것이 아니다..!\n"
   ]
  },
  {
   "cell_type": "markdown",
   "metadata": {},
   "source": [
    "### 💡 객체와 인스턴스  \n",
    "클래스로 만든 객체를 인스턴스 라고도 함  \n",
    "\n",
    "객체와 인스턴스의 차이점?  \n",
    "이찬혁은 객체다 = o  \n",
    "이찬혁은 인스턴스다 = x  \n",
    "이찬혁은 가수의 인스턴스다 = o #특정 클래스의 객체를 인스턴스라 부르므로 `'가수의'`라는 말이 붙어야 함  \n"
   ]
  },
  {
   "cell_type": "markdown",
   "metadata": {},
   "source": [
    "### 💡클래스와 객체의 예시\n",
    "\n",
    "클래스(가수)와 객체(실제 사례)  \n",
    "클래스를 만든다 = 타입을 만든다\n",
    "\n",
    "[3,2,1].sort()  \n",
    "리스트.정렬()  \n",
    "객체.행동()  \n",
    "\n",
    "\"banana\".upper()  \n",
    "문자열.대문자로()  \n",
    "`객체.행동() == 문자열타입의 인스턴스.행동()`  \n",
    "#문자열은 immutable이니까 값을 수정할 수 없어 => 객체의 정보  \n",
    "\n",
    "[1,2,3], [1], [], ['hi'] => 모두 리스트 타입(클래스)의 객체  \n",
    "'', 'hi', '파이썬' => 모두 문자열 타입(클래스)의 객체  \n",
    "\n",
    "=> 객체는 특정 타입의 인스턴스다.  \n",
    "* 1, 25, 900은 모두 int의 인스턴스  \n",
    "* 'hello', 'python'은 모두 string의 인스턴스"
   ]
  },
  {
   "cell_type": "markdown",
   "metadata": {},
   "source": [
    "### 💡객체 개념 정리  \n",
    "객체의 특징  \n",
    "* 타입 : 어떤 연산자와 조작이 가능한가?  \n",
    "* 속성 : 어떤 상태(데이터)를 가지는가?  \n",
    "* 조작법 : 어떤 행위(함수)를 할 수 있는가?"
   ]
  },
  {
   "cell_type": "markdown",
   "metadata": {},
   "source": [
    "---"
   ]
  },
  {
   "cell_type": "markdown",
   "metadata": {},
   "source": [
    "### 💡 객체와 클래스 기본 문법  \n",
    "\n",
    "* 클래스 정의      class MyClass: (클래스의 앞글자는 꼭 대문자여야함)  \n",
    "* 인스턴스 생성    my_instance = MyClass()  \n",
    "* 메서드 호출      my_instance.my_method()  \n",
    "* 속성             my_instance.my_attribute"
   ]
  },
  {
   "cell_type": "markdown",
   "metadata": {},
   "source": [
    "### 💡객체 비교하기  \n",
    "==  \n",
    "* 동등한  \n",
    "* 변수가 참조하는 객체가 동등한(내용이 같은) 경우 True  \n",
    "* 두 객체가 같아 보이지만 실제로 동일한 대상을 가리키고 있다고 확인해 준 것은 아님 \n",
    "\n",
    "is  \n",
    "* 동일한  \n",
    "* 두 변수가 동일한 객체를 가르키는 경우 True (무조건 주소까지 같아야 True)"
   ]
  },
  {
   "cell_type": "code",
   "execution_count": 1,
   "metadata": {},
   "outputs": [
    {
     "name": "stdout",
     "output_type": "stream",
     "text": [
      "True False\n",
      "True True\n"
     ]
    }
   ],
   "source": [
    "# 객체 비교 실습\n",
    "a = [1,2,3]\n",
    "b = [1,2,3]\n",
    "print(a==b, a is b) # True False\n",
    "\n",
    "a = [1,2.3]\n",
    "b = a # 주소를 같이 쓴다\n",
    "print(a == b, a is b) # True True"
   ]
  },
  {
   "cell_type": "markdown",
   "metadata": {},
   "source": [
    "### 💡속성(객체의 정보)  \n",
    "특정 데이터 타입/클래스의 객체들이 가지게 될 상태/데이터를 의미  \n",
    "객체는 정보와 행동으로 이루어졌으며, 정보에는 클래스변수와 인스턴스 변수가 있음  \n",
    "\n",
    "`클래스 변수(같이 씀) / 인스턴스 변수(각자 씀)`\n",
    "\n",
    "* 인스턴스 변수란 ?  \n",
    "  인스턴스가 개인적으로 가지고 있는 속성  \n",
    "  각 인스턴스들의 고유한 변수  \n",
    "\n",
    "  생성자 메서드(__init__)에서 self.<name>으로 정의  \n",
    "  인스턴스로도 클래스변수를 조회 가능\n",
    "\n",
    "\n"
   ]
  },
  {
   "cell_type": "code",
   "execution_count": 11,
   "metadata": {},
   "outputs": [
    {
     "name": "stdout",
     "output_type": "stream",
     "text": [
      "야옹\n",
      "white\n"
     ]
    }
   ],
   "source": [
    "class Myclass : # 클래스 생성\n",
    "    color = \"white\"\n",
    "\n",
    "    def make_sound(self) : # 메서드 생성\n",
    "        print(\"야옹\")\n",
    "\n",
    "my_instance = Myclass() # 인스턴스 생성\n",
    "my_instance.make_sound() # 메소드 실행\n",
    "\n",
    "print(Myclass.color) #cat 클래스의 속성을 사용한다"
   ]
  },
  {
   "cell_type": "code",
   "execution_count": null,
   "metadata": {},
   "outputs": [],
   "source": [
    "# 인스턴스 변수\n",
    "class Person : \n",
    "    \n",
    "    def __init__(self, name) : #인스턴스 변수 정의\n",
    "        # 첫번째 파라미터는 무조건 self\n",
    "        # 여러개의 파라미터를 넣을 경우 (self, name, mbti 등등) 넣으면 됨\n",
    "        # 그리고 밑에도 slef.mbti = mbti 적어주기\n",
    "        self.name = name\n",
    "\n",
    "#인스턴스 객체 생성. 인스턴스 이름 = 클래스이름()\n",
    "john = Person('john') #인스턴스 변수 접근 및 할당\n",
    "# 현재 파라미터가 self, name 두개인데 slef는 자동 생략되므로 name만 넣어준 것임\n",
    "print(john.name) # john 출력\n",
    "john.name = 'john kim'  #인스턴스 변수 접근 및 할당\n",
    "print(john.name) # john kim 출력"
   ]
  },
  {
   "cell_type": "code",
   "execution_count": 8,
   "metadata": {},
   "outputs": [
    {
     "name": "stdout",
     "output_type": "stream",
     "text": [
      "3.14\n",
      "3.14\n",
      "3.14\n",
      "5\n",
      "5\n",
      "5\n",
      "5\n",
      "5\n",
      "6\n"
     ]
    }
   ],
   "source": [
    "# 클래스 변수\n",
    "class Circle() :\n",
    "    pi = 3.14 # 클래스 변수 정의   \n",
    "\n",
    "    def __init__(self, r) :\n",
    "        self.r = r # 인스턴스 변수\n",
    "\n",
    "c1 = Circle(5)\n",
    "c2 = Circle(10)\n",
    "\n",
    "print(Circle.pi) # 3.14\n",
    "print(c1.pi) # 3.14 # 현재 인스턴스에는 pi가 없기때문에 클래스변수로 올라가서 조회를 함\n",
    "print(c2.pi) # 3.14 # LEGB룰처럼!!\n",
    "# 문법상 인스턴스변수와 클래스변수는 다르지만 인스턴스에 찾는 변수가 없다면 클래스로 올라가서 조회\n",
    "\n",
    "Circle.pi = 5 # 💥여기서 클래스 변수를 변경 \n",
    "# => 공용변수가 변경되었기때문에 아래의 값들도 다 바뀜  \n",
    "# 클래스 변수를 변경할 때는 항상 클래스.클래스변수 형식으로 변경\n",
    "print(Circle.pi) # 5\n",
    "print(c1.pi) # 5  # 인스턴스.클래스변수 가 된다!\n",
    "print(c2.pi) # 5\n",
    "\n",
    "c2.pi = 6 #인스턴스 변수 변경\n",
    "print(Circle.pi) #클래스 변수\n",
    "print(c1.pi) # 클래스 변수\n",
    "print(c2.pi) #새로운 인스턴스 변수가 생성됨"
   ]
  },
  {
   "cell_type": "code",
   "execution_count": 15,
   "metadata": {},
   "outputs": [
    {
     "name": "stdout",
     "output_type": "stream",
     "text": [
      "소나타이름을 가진 Car 인스턴스가 생성됨\n",
      "4\n",
      "소나타\n"
     ]
    }
   ],
   "source": [
    "class Car :\n",
    "    tire = 4 #모든 차가 바퀴는 4개이므로 공통변수인 클래스 변수로 생성\n",
    "\n",
    "    def __init__(self, name) : # self => 자기자신을 뜻하는 파라미터\n",
    "        # __init__ 함수는 객체(인스턴스)가 생성될 때 반드시 실행되는 함수  \n",
    "        print(f\"{name}이름을 가진 Car 인스턴스가 생성됨\")\n",
    "        self.name = name # 인스턴스 변수를 할당\n",
    "\n",
    "\n",
    "my_car = Car(\"소나타\")\n",
    "print(my_car.tire)\n",
    "print(my_car.name)"
   ]
  },
  {
   "cell_type": "markdown",
   "metadata": {},
   "source": [
    "### 💥 변수 변경  \n",
    "클래스 변수를 변경하고 싶으면 클래스.클래스변수  \n",
    "인스턴스 변수를 변경하고 싶으면 인스턴스.인스턴스변수"
   ]
  },
  {
   "cell_type": "markdown",
   "metadata": {},
   "source": [
    "### 💥 사용자가 몇 명인지확인하고 싶다면?  \n",
    " = 인스턴스가 생성 될 때마다 클래스 변수가 늘어나도로 설정하면 됨!!  \n",
    " 인스턴스 변수 정의 내부에 count += 1"
   ]
  },
  {
   "cell_type": "code",
   "execution_count": 4,
   "metadata": {},
   "outputs": [],
   "source": []
  },
  {
   "cell_type": "markdown",
   "metadata": {},
   "source": [
    "### 💡 메서드\n",
    "클래스 안에 있는 함수 메서드라 부름  \n",
    "\n",
    "\n",
    "메서드의 종류  \n",
    "* 인스턴스 메서드 : 인스턴스 변수 처리  \n",
    "\n",
    "    클래스 내부에 정의되는 메서드의 기본  \n",
    "    호출 시, 첫번째 인자로 인스턴스 자기자신(self)이 자동으로 전달됨  \n",
    "    == (self가 있으면 인스턴스 메서드!)  \n",
    "\n",
    "    \n",
    "\n",
    "* 클래스 메서드 : 클래스 변수 처리  \n",
    "\n",
    "* 정적 메서드 : 나머지  \n"
   ]
  },
  {
   "cell_type": "markdown",
   "metadata": {},
   "source": [
    "### 💡 인스턴스 메서드  \n",
    "\n",
    "생성자 메서드  \n",
    "* 인스턴스 생성. __int__메서드 자동 호출\n",
    "\n",
    "매직 메서드  \n",
    "* Double underscore(__)가 있는 메서드는 특수한 동작을 위해 만들어진 메서드로, 스페셜메서드 라고도 불림  \n",
    "* 특정 상황에 자동으로 불리는 메서드  \n",
    "* 객체의 특수 조작 행위를 지정(함수, 연산자 등)  \n",
    "\n",
    "매직 메서드 예시  \n",
    "* __str__ : 해당 객체의 출력 형태를 지정  \n",
    "프린트 함수를 호출할 때, 자동으로 호출  \n",
    "어떤 인스턴스를 출력하면 __str__의 return 값이 출력  \n",
    "\n",
    "소멸 메서드  \n",
    "* 인스턴스 객체가 소멸되기 직전에 호출되는 메서드"
   ]
  },
  {
   "cell_type": "markdown",
   "metadata": {},
   "source": [
    "### 💡 클래스 메서드  \n",
    "\n",
    "* 클래스가 사용할 메서드  \n",
    "* @classmethod 데코레이터를 사용하여 정의  \n",
    "* 호출 시 첫번째 인자로 클래스(cls)가 전달됨  \n",
    "\n",
    "데코레이터  \n",
    "* 함수를 어떤 함수로 꾸며서 새로운 기능을 부여  \n",
    "* @함수명 으로 사용"
   ]
  },
  {
   "cell_type": "code",
   "execution_count": 3,
   "metadata": {},
   "outputs": [
    {
     "name": "stdout",
     "output_type": "stream",
     "text": [
      "함수 시작\n",
      "hello\n",
      "함수 종료\n",
      "함수 시작\n",
      "bye\n",
      "함수 종료\n"
     ]
    }
   ],
   "source": [
    "# 함수를 꾸미는 함수 만들기 (데코레이터)\n",
    "def add_print(original) : # original : 꾸며줄 대상이 되는 함수\n",
    "    def wrapper() : # 함수 내에서 새로운 함수를 선언한다.\n",
    "        print(\"함수 시작\") # 추가기능 : 함수 시작 전에 출력\n",
    "        original()\n",
    "        print(\"함수 종료\") # 추가기능 :  함수 종료 시 출력\n",
    "    return wrapper    # 새로 만든 함수를 리턴한다 . \n",
    "\n",
    "# 꾸미고 싶은 함수\n",
    "@add_print # 이 문장을 넣어주면 아래 print_hello가 original로 들어가서 add_print와 함께 나옴\n",
    "def print_hello() :\n",
    "    print(\"hello\")\n",
    "\n",
    "@add_print\n",
    "def print_bye():\n",
    "    print('bye')\n",
    "\n",
    "print_hello()\n",
    "print_bye()"
   ]
  },
  {
   "cell_type": "markdown",
   "metadata": {},
   "source": [
    "### 💡 클래스 메서드와 인스턴스 메서드의 차이  \n",
    "\n",
    "클래스 메서드 -> 클래스 변수 사용  \n",
    "인스턴스 메서드 -> 인스턴스 변수와 클래스 변수 모두 사용 가능\n",
    "\n",
    "그렇다면 인스턴스 변수, 클래스 변수 모두 사용하고 싶다면?  \n",
    "* 클래스는 인스턴스 변수 사용이 불가능   \n",
    "* `두 변수를 모두 고치고 싶다면 인스턴스 메서드를 사용해야 함`"
   ]
  },
  {
   "cell_type": "markdown",
   "metadata": {},
   "source": [
    "### 💡 스태틱 메서드  \n",
    "인스턴스 변수, 클래스 변수를 전혀 다루지 않는 메서드  \n",
    "객체의 상태를 수정할 수 없음  \n",
    "\n",
    "언제 사용하는가?  \n",
    "* 속성을 다루지 않고 단지 기능만을 하는 메서드를 정의하고 싶을 때 사용  \n",
    "* @staticmethod 를 붙이고 사용  \n",
    "* 스태틱은 cls, self 사용 x"
   ]
  },
  {
   "cell_type": "code",
   "execution_count": 8,
   "metadata": {},
   "outputs": [
    {
     "name": "stdout",
     "output_type": "stream",
     "text": [
      "2\n",
      "True\n",
      "True\n"
     ]
    }
   ],
   "source": [
    "# static method 실습\n",
    "class Person:\n",
    "    count = 0 #클래스 변수\n",
    "\n",
    "    def __init__(self) :\n",
    "        Person.count += 1\n",
    "    \n",
    "    @staticmethod\n",
    "    def check_rich(money) : # 스태틱 메서드는 cls, self 사용 불가\n",
    "        return money > 10000\n",
    "    \n",
    "person1 = Person()\n",
    "person2 = Person()\n",
    "\n",
    "print(Person.count)\n",
    "print(person1.check_rich(20000))\n",
    "print(person2.check_rich(30000))\n"
   ]
  },
  {
   "cell_type": "markdown",
   "metadata": {},
   "source": [
    "### 💡 인스턴스와 클래스 간의 이름 공간(namespace)  \n",
    "* 클래스를 정의하면, 클래스와 해당하는 이름 공간 생성  \n",
    "* 인스턴스를 만들면, 인스턴스 객체가 생성되고 이름 공간 생성  \n",
    "* 인스턴스에서 특정 속성에 접근하면, 인스턴스-클래스 순으로 탐색"
   ]
  },
  {
   "cell_type": "code",
   "execution_count": 10,
   "metadata": {},
   "outputs": [
    {
     "name": "stdout",
     "output_type": "stream",
     "text": [
      "unknown\n",
      "unknown\n",
      "kim\n",
      "unknown\n",
      "unknown\n",
      "kim\n"
     ]
    }
   ],
   "source": [
    "# 이름공간 실습\n",
    "class Person :\n",
    "    name = 'unknown'\n",
    "\n",
    "    def talk(self) : \n",
    "        print(self.name)\n",
    "\n",
    "p1 = Person()\n",
    "p1.talk() # unknown\n",
    "#p1은 인스턴스 변수가 정의되지 않아 클래스 변수 unknown가 출력됨\n",
    "\n",
    "p2 = Person()\n",
    "p2.talk()\n",
    "p2.name = 'kim' \n",
    "p2.talk() # kim\n",
    "# p2는 인스턴스 변수가 정의되어 인스턴스 변수 kim이 출력됨\n",
    "\n",
    "print(Person.name) # unknown\n",
    "print(p1.name) # unknown\n",
    "print(p2.name) # kim\n",
    "# Person 클래스의 값이 kim으로 변경된 것이 아닌 p2인스턴스의 이름공간에 \n",
    "# name이 kim으로 저장된 것"
   ]
  },
  {
   "cell_type": "markdown",
   "metadata": {},
   "source": [
    "---"
   ]
  },
  {
   "cell_type": "markdown",
   "metadata": {},
   "source": [
    "### 💡 객체지향의 핵심 4가지 - 상추캐다\n",
    "\n",
    "추상화  \n",
    "* 현실 세계를 프로그램 설계에 반영  \n",
    "* 복잡한 것은 숨기고, 필요한 것만 보여주기\n"
   ]
  },
  {
   "cell_type": "markdown",
   "metadata": {},
   "source": [
    "### 💡 객체지향의 핵심 4가지 - 상추캐다\n",
    "\n",
    "\n",
    "상속  \n",
    "* 두 클래스 사이 부모-자식 관계를 정립하는 것  \n",
    "\n",
    "* 모든 파이썬 클래스는 object를 상속 받음  \n",
    "\n",
    "* 하위 클래스는 상위 클래스에 정의된 속성, 행동, 관계 및 제약 조건을 모두 상속 받음  \n",
    "\n",
    "* 부모 클래스의 속성, 메서드가 자식 클래스에 상속되므로, 코드 재사용성이 높아짐 \n",
    "\n",
    "* 메서드 오버라이딩을 통해 자식 클래스에서 재정의가 가능함  \n",
    "    자식 클래스에서 부모의 메서드를 재정의하는 기능  \n",
    "    부모의 메서드를 호출하는데, 자식이 재정의 해버리면  \n",
    "    재정의 한대로 실행이 된다. (부모에서 작성된 기능으로는 동작하지 않는다.)\n",
    "    \n",
    "* `상속관계에서 이름 공간은 인스턴스, 자식 클래스, 부모 클래스 순으로 탐색 `  \n",
    "\n",
    "💥 정리  \n",
    "    부모 클래스의 모든 요소(속성, 메소드)가 상속된다.  \n",
    "    == 자식클래스는 부모클래스의 속성, 메소드를 사용할 수 있다.  \n",
    "    == super()를 통해 부모클래스의 요소를 호출 할 수 있다.  \n",
    "\n",
    "* 다중 상속  \n",
    "    * 두 개 이상의 클래스를 상속 받는 경우  \n",
    "    * 상속 받은 모든 클래스의 요소를 활용 할 수 있음  \n",
    "    * 중복된 속성이나 메서드가 있는 경우 상속 순서에 의해 결정됨\n"
   ]
  },
  {
   "cell_type": "code",
   "execution_count": null,
   "metadata": {},
   "outputs": [],
   "source": [
    "# 상속 실습\n",
    "class Person : \n",
    "    def __init__(self, name, age):\n",
    "        self.name = name\n",
    "        self.age = age\n",
    "    \n",
    "    def talk(self):\n",
    "        print(f\"반갑습니다. {self.name}입니다.\")\n",
    "\n",
    "class Professor(Person) : # Person 클래스 안에 있는 기능을 사용한다 => 상속받는다\n",
    "    def __init__(self, name, age, department) : \n",
    "        self.name = name\n",
    "        self.age = age\n",
    "        self.department = department\n",
    "\n",
    "class Student(Person) : # Person 클래스 안에 있는 기능을 사용한다 => 상속받는다\n",
    "    def __init__(self, name, age, gpa) : \n",
    "        self.name = name\n",
    "        self.age = age\n",
    "        self.gpa = gpa\n",
    "\n",
    "p1 = Professor('박교수', 49 '컴퓨터공학과')\n",
    "s1 = Student('김학생', 20, 3.5)\n",
    "\n",
    "# 부모 Person 클래스의 talk 메서드를 활용\n",
    "p1.talk() # 반갑습니다. 박교수입니다.\n",
    "\n",
    "# 부모 Person 클래스의 talk 메서드 활용  \n",
    "s1.talk() # 반갑습니다. 김학생입니다"
   ]
  },
  {
   "cell_type": "code",
   "execution_count": 9,
   "metadata": {},
   "outputs": [
    {
     "name": "stdout",
     "output_type": "stream",
     "text": [
      "1\n"
     ]
    }
   ],
   "source": [
    "#super() 실습\n",
    "# 자식클래스에서 부모클래스를 사용하고 싶은 경우  \n",
    "\n",
    "class Person :\n",
    "    def __init__(self, name) :\n",
    "        self.name = name\n",
    "\n",
    "class Student(Person) :\n",
    "    def __init__(self, name, grade) :\n",
    "        super().__init__(name) # 부모 클래스의 init을 불러와서 name을 입력\n",
    "        self.grade = grade\n",
    "\n",
    "person1 = Person(\"김싸피\")\n",
    "student1 = Student(\"박싸피\", 1)\n",
    "\n",
    "print(student1.grade)"
   ]
  },
  {
   "cell_type": "code",
   "execution_count": 18,
   "metadata": {},
   "outputs": [
    {
     "name": "stdout",
     "output_type": "stream",
     "text": [
      "첫째가 응애\n",
      "첫째가 수영\n",
      "아빠가 걷기\n",
      "XY\n"
     ]
    }
   ],
   "source": [
    "# 다중 상속 실습\n",
    "class Person :\n",
    "    def __init__(self, name) :\n",
    "        self.name = name\n",
    "    def greeting(self):\n",
    "        return f'안녕, {self.name}'\n",
    "\n",
    "class Mom(Person) :\n",
    "    gene = 'XX'\n",
    "\n",
    "    def Swim(self):\n",
    "        return '엄마가 수영'\n",
    "\n",
    "class Dad(Person) :\n",
    "    gene = 'XY'\n",
    "\n",
    "    def walk(self):\n",
    "        return '아빠가 걷기' \n",
    "\n",
    "class FirstChild(Dad, Mom) :\n",
    "    def swim(self):\n",
    "        return '첫째가 수영' \n",
    "\n",
    "    def cry(self):\n",
    "        return '첫째가 응애'  \n",
    "\n",
    "baby1 = FirstChild('아가')\n",
    "print(baby1.cry()) # 첫째가 응애\n",
    "print(baby1.swim()) # 첫째가 수영\n",
    "print(baby1.walk()) # 아빠가 걷기\n",
    "print(baby1.gene) # XY  -> 위에 class FirstChild에서 Dad, Mom 순서이므로 아빠의 유전자가 나옴\n"
   ]
  },
  {
   "cell_type": "markdown",
   "metadata": {},
   "source": [
    "### 💡 상속 관련 함수와 메서드  \n",
    "isinstance(object, classinfo) # object가 classinfo에서 만들어졌는가  \n",
    "* classinfo의 instance거나 subclass*인 경우 True  \n",
    "\n",
    "issuvclass(class, classinfo)  \n",
    "* class가 classinfo의 subclass면 True  \n",
    "\n",
    "super()  \n",
    "* 자식클래스에서 부모클래스를 사용하고 싶은 경우  \n",
    "\n",
    "mro 메서드 (Method Resolution Order)  \n",
    "* 해당 인스턴스의 클래스가 어떤 부모 클래스를 가지는지 확인하는 메서드  \n",
    "* 기존의 인스턴스 -> 클래스 순으로 이름 공간을 탐색하는 과정에서 상속 관계에 있으면 인스턴스 -> 자식클래스 -> 부모클래스로 확장"
   ]
  },
  {
   "cell_type": "markdown",
   "metadata": {},
   "source": [
    "### 💡 객체지향의 핵심 4가지 - 상추캐다\n",
    "\n",
    "\n",
    "다형성  \n",
    "* 여러 모양을 뜻하는 그리스어  \n",
    "* 다형성 : `이름은 같은데, 동작이 다름` -> 이 다형성을 오버라이딩을 통해 구현 가능 -> 자식이 그대로 상속받지 않고 변경함  \n",
    "* 동일한 메서드가 클래스에 따라 다르게 행동할 수 있음을 의미  \n",
    "* 즉, 서로 다른 클래스에 속해있는 객체들이 동일한 메시지에 대해 다른 방식으로 응답할 수 있음  \n",
    "\n",
    "메서드 오버라이딩 : 상속받은 메서드를 재정의  \n",
    "* 클래스 상속 시, 부모 클래스에서 정의한 메서드를 자식 클래스에서 변경  \n",
    "* 부모 클래스의 메서드 이름과 기본 기능은 그대로 사용하지만, 특정 기능을 바꾸고 싶을 때 사용  \n",
    "* `부모 클래스의 메서드를 실행시키고 싶은 경우 super를 활용`"
   ]
  },
  {
   "cell_type": "code",
   "execution_count": 19,
   "metadata": {},
   "outputs": [
    {
     "name": "stdout",
     "output_type": "stream",
     "text": [
      "김교수일세.\n",
      "반갑습니다. 이학생입니다.\n",
      "저는 학생입니다.\n"
     ]
    }
   ],
   "source": [
    "# 다형성 오버라이딩 실습\n",
    "class Person :\n",
    "    def __init__(self, name) :\n",
    "        self.name = name\n",
    "    \n",
    "    def talk(self) :\n",
    "        print(f\"반갑습니다. {self.name}입니다.\")\n",
    "\n",
    "# 자식 클래스 - Professor\n",
    "class Professor(Person) :\n",
    "    def talk(self) :  # 똑같은 이름의 함수를 정의함 => 부모클래스의 talk가 아닌 Professor클래스의 talk를 사용하게 됨\n",
    "        print(f\"{self.name}일세.\") #부모 클래스의 talk메서드를 실행하지 않고 수정하여 사용\n",
    "\n",
    "# 자식 클래스 - Student\n",
    "class Student(Person) :\n",
    "    def talk(self) :\n",
    "        super().talk() # 부모 클래스의 메서드를 실행시키고\n",
    "        print(f\"저는 학생입니다.\") # 자식에서도 하나 출력\n",
    "\n",
    "p1 = Professor('김교수') # 오버라이딩 => 자식클래스의 talk 실행\n",
    "p1.talk() # 김교수일세\n",
    "\n",
    "s1 = Student('이학생')\n",
    "s1.talk() \n",
    "# 반갑습니다. 이학생입니다. #부모 클래스의 talk메서드 실행\n",
    "# 저는 학생입니다."
   ]
  },
  {
   "cell_type": "markdown",
   "metadata": {},
   "source": [
    "### 💡 객체지향의 핵심 4가지 - 상추캐다\n",
    "\n",
    "캡슐화  \n",
    "* `민감한 정보를 숨기는 것`\n",
    "* 객체의 일부 구현 내용에 대해 외부로부터의 직접적인 액세스를 차단 => 객체 내부에 숨기고 싶은 정보가 있을 때 사용.  예시) 주민등록번호  \n",
    "* 파이썬에서 암묵적으로 존재하지만, 언어적으로는 존재하지 않음  \n",
    "\n",
    "\n",
    "접근 제어자 3가지  \n",
    "\n",
    "=> 접근할 수 있는 범위를 지정한다.\n",
    "\n",
    "Public Member  \n",
    "* 언더바 없이 시작하는 메서드나 속성   \n",
    "* 어디서나 호출이 가능. 누구나 사용 가능. 하위 클래스 override 허용  \n",
    "* 일반적으로 작성되는 메서드와 속성의 대다수를 차지  \n",
    "\n",
    "Protected Member  \n",
    "* 언더바 1개로 시작하는 메서드나 속성  \n",
    "* 암묵적 규칙에 의해 `부모 클래스 내부와 자식 클래스에서만 호출 가능`  \n",
    "* 하위 클래스 override 허용\n",
    "\n",
    "Private Member  \n",
    "* 언더바 2개로 시작하는 메서드나 속성  \n",
    "* 본 클래스 내부에서만 사용이 가능  \n",
    "* 하위클래스 상속 및 호출 불가능 (오류)  \n",
    "* 외부 호출 불가능 (오류)  \n",
    "\n",
    "getter 메서드와 setter 메서드  \n",
    "* 변수에 접근할 수 있는 메서드를 별도로 생성  \n",
    "    * getter 메서드 : 변수의 값을 읽는 메서드  \n",
    "    @property 데코레이터 사용  \n",
    "    \n",
    "    * setter 메서드 : 변수의 값을 설정하는 성격의 메서드  \n",
    "    @변수.setter 사용"
   ]
  },
  {
   "cell_type": "code",
   "execution_count": 3,
   "metadata": {},
   "outputs": [
    {
     "name": "stdout",
     "output_type": "stream",
     "text": [
      "21\n",
      "33\n",
      "33\n"
     ]
    }
   ],
   "source": [
    "class Person :\n",
    "    def __init__(self, age) : \n",
    "        self.age = age\n",
    "\n",
    "    @property\n",
    "    def age(self) : # age라는 변수를 getter 메서드를 통해 접근할 수 있도록 한다.\n",
    "        return self._age\n",
    "\n",
    "    @age.setter\n",
    "    def age(self, new_age) : # age라는 변수를 setter 메서드를 통해 수정할 수 있도록 한다.\n",
    "        if new_age > 100 or new_age < 20: # 올바른 나이를 입력하지 않는 경우\n",
    "            return # 새로운 age값을 받지 않고 그냥 return\n",
    "        self._age = new_age\n",
    "\n",
    "person1 = Person(21)\n",
    "print(person1.age)\n",
    "person1.age = 33 #setter를 통해 변수의 값을 수정할 수 있었음\n",
    "print(person1.age)\n",
    "\n",
    "person1.age = 19 # 20살 미만은 안되도록 설정해놨기 때문에 변수의 값이 바뀌지 않음\n",
    "print(person1.age)\n"
   ]
  },
  {
   "cell_type": "markdown",
   "metadata": {},
   "source": []
  }
 ],
 "metadata": {
  "kernelspec": {
   "display_name": "Python 3.10.5 64-bit",
   "language": "python",
   "name": "python3"
  },
  "language_info": {
   "codemirror_mode": {
    "name": "ipython",
    "version": 3
   },
   "file_extension": ".py",
   "mimetype": "text/x-python",
   "name": "python",
   "nbconvert_exporter": "python",
   "pygments_lexer": "ipython3",
   "version": "3.10.5"
  },
  "orig_nbformat": 4,
  "vscode": {
   "interpreter": {
    "hash": "fb4569285eef3a3450cb62085a5b1e0da4bce0af555edc33dcf29baf3acc1368"
   }
  }
 },
 "nbformat": 4,
 "nbformat_minor": 2
}
