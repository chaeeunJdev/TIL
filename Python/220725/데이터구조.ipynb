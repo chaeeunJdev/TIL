{
 "cells": [
  {
   "cell_type": "markdown",
   "metadata": {},
   "source": [
    "# Today I Learned\n",
    "### 데이터 구조 / 자료구조별 메서드 / 얕은복사와 깊은복사"
   ]
  },
  {
   "cell_type": "markdown",
   "metadata": {},
   "source": [
    "### 💡데이터 구조  \n",
    "데이터 구조를 활용하기 위해서는 메서드를 활용  \n",
    "메서드는 클래스 내부에 정의한 함수, 사실상 함수 동일  \n",
    "쉽게 설명하면 객체의 기능  \n",
    "* 데이터구조.메서드() 형태로 활용!"
   ]
  },
  {
   "cell_type": "markdown",
   "metadata": {},
   "source": [
    "### 💡파이썬 공식 문서 표기법 \n",
    "파이썬 구문이 아니며, 문법을 표기하기 위한 것임  \n",
    "ex) str.replace(ole,new [,count])  \n",
    "* 여기서 old와 new는 필수이고 [,count]는 선택적 인자를 말함"
   ]
  },
  {
   "cell_type": "code",
   "execution_count": 5,
   "metadata": {},
   "outputs": [
    {
     "name": "stdout",
     "output_type": "stream",
     "text": [
      "ssafy\n",
      "1607837853808\n",
      "test\n",
      "1607766169904\n"
     ]
    }
   ],
   "source": [
    "# 메서드 예제\n",
    "word = 'ssafy'\n",
    "print(word)\n",
    "print(id(word)) # 메모리 주소를 확인\n",
    "word = 'test'\n",
    "print(word)\n",
    "print(id(word)) # 변수이름은 같지만 word라는 새로운 변수를 만든거기때문에 주소가 다름"
   ]
  },
  {
   "cell_type": "markdown",
   "metadata": {},
   "source": [
    "### 💡 문자열  \n",
    "모든 문자들은 변경불가능한 str!(immutable)   \n",
    "* 문자열 조회/ 탐색 및 검증 메서드  \n",
    "    s.find(x) : x의 첫 번째 위치를 반환. 없으면 -1(__오류가 발생하지 않음__)   \n",
    "    s.index(x) : x의 첫 번째 위치를 반환. 없으면 오류 발생  \n",
    "\n",
    "    s.isalpha() : 알파벳 문자 여부  \n",
    "    s.isupper() : 대문자 여부  \n",
    "    s.islower() : 소문자 여부  \n",
    "    s.istitle() : 첫 글자만 대문자인지  \n",
    "    \n",
    "    isdecimal() < .isdigit() < .isnumeric() (<는 포함관계 표시..!)  \n",
    "    \n",
    "    s.replace(old, new[,count]) : 바꿀 대상 글자를 새로운 글자로 바꿔서 변환(count를 지정하면 해당 갯수만큼 진행)   \n",
    "    s.strip([chars]) : 공백이나 특정 문자를 제거(lstrip, rsrip로 왼쪽 오른쪽에 활용 가능)  \n",
    "    s.split(sep=None, maxsplit=-1) : 공백이나 특정 문자를 기준으로 분리  \n",
    "    'separator'.join([iterable]) : 구분자로 iterable을 합침. 문자열 사이에 sep가 들어감  \n",
    "    s.capitalize() : 가장 첫 번째 글자를 대문자로 변경  \n",
    "    s.title() : 문자열 내 띄어쓰기를 기준으로 각 단어의 첫글자는 대문자로 나머지는 소문자로 변경  \n",
    "    s.swapcase() : 대소문자 서로 변경  \n"
   ]
  },
  {
   "cell_type": "markdown",
   "metadata": {},
   "source": []
  },
  {
   "cell_type": "code",
   "execution_count": 23,
   "metadata": {},
   "outputs": [
    {
     "name": "stdout",
     "output_type": "stream",
     "text": [
      "1\n",
      "-1\n",
      "1\n",
      "------------isalpha-------------\n",
      "True\n",
      "True\n",
      "------------isupper-------------\n",
      "False\n",
      "------------split---------------\n",
      "['a', 'b', 'c']\n",
      "['a', 'b', 'c']\n",
      "['서울시 강남구 ', '', '동']\n",
      "['010', '1234', '0497']\n",
      "------------capitalize---------------\n",
      "Hi! everyone, i\\m ssafy\n",
      "HI! eVERYONE, i\\M SSAFY\n"
     ]
    }
   ],
   "source": [
    "# 문자열 조회/탐색 메서드 실습\n",
    "print('apple'.find('p'))\n",
    "print('apple'.find('k')) #없으므로 -1반환\n",
    "\n",
    "print('apple'.index('p'))\n",
    "#print('apple'.index('k')) #없으니까 오류 발생\n",
    "\n",
    "print('------------isalpha-------------')\n",
    "\n",
    "print('abc'.isalpha()) # True\n",
    "print('ㄱㄴㅇ'.isalpha())\n",
    "\n",
    "print('------------isupper-------------')\n",
    "print('Ab'.isupper())\n",
    "\n",
    "print('------------split---------------')\n",
    "print('a,b,c'.split(',')) #쉼표를 기준으로 나눔\n",
    "print('a b c'.split()) #기본값은 공백. 공백을 기준으로 나눔\n",
    "print('서울시 강남구 00동'.split('0'))\n",
    "print('010-1234-0497'.split('-'))\n",
    "\n",
    "print('------------capitalize---------------')\n",
    "msg = 'hi! Everyone, I\\m ssafy'\n",
    "print(msg.capitalize())\n",
    "print(msg.swapcase())\n"
   ]
  },
  {
   "cell_type": "markdown",
   "metadata": {},
   "source": []
  },
  {
   "cell_type": "code",
   "execution_count": 27,
   "metadata": {},
   "outputs": [
    {
     "name": "stdout",
     "output_type": "stream",
     "text": [
      "s*s*a*f*y\n",
      "3 5 8\n"
     ]
    }
   ],
   "source": [
    "#.join메서드 실습\n",
    "print('*'.join('ssafy'))\n",
    "print(' '.join(['3','5','8']))"
   ]
  },
  {
   "cell_type": "markdown",
   "metadata": {},
   "source": [
    "### 💡리스트 메서드  \n",
    "l.append(X) : 리스트 마지막 항목에 x를 추가  \n",
    "l.insert(i, x) : 리스트 인덱스 i에 항목 x를 추가  \n",
    "l.remove(x) : 리스트의 가장 왼쪽에 있는 항목 x를 제거(항목이 존재하지 않을 경우, ValueError)  \n",
    "l.pop() : 리스트 가장 오른쪾에 있는 항목을 반환 후에 제거  \n",
    "l.pop(i) : 인덱스 i에 있는 항목을 반환 후 제거  \n",
    "l.clear() : 모든 항목 삭제  \n",
    "l.extend(m) : 순회형 m의 모든 항목들의 리스트 끝에 추가(리스트 두개를 합침)  \n",
    "l.index(x, start, end) : 리스트에 있는 항목 중 가장 왼쪾에 있는 항목 x의 인덱스를 반환  \n",
    "l.reverse() 원본 리스트를 거꾸로 뒤집음, 정렬하는 건 아님!!!  \n",
    "l.sort() : 원본 리스트를 정렬함. None반환 / sorted는 복사본을 정렬함  \n",
    "l.count(x) : 리스트에서 항목 x가 몇 개 존재하는지 갯수를 반환 "
   ]
  },
  {
   "cell_type": "code",
   "execution_count": 37,
   "metadata": {},
   "outputs": [
    {
     "name": "stdout",
     "output_type": "stream",
     "text": [
      "['starbucks', 'tomntoms', 'hollys'] 1607867972288\n",
      "['starbucks', 'tomntoms', 'hollys', 'banapresso'] 1607867972288\n",
      "['start', 'starbucks', 'tomntoms', 'hollys', 'banapresso']\n",
      "['start', 'starbucks', 'tomntoms', 'hollys', 'banapresso', 'end']\n",
      "-------------extend------------\n",
      "['start', 'starbucks', 'tomntoms', 'hollys', 'banapresso', 'end', 'coffee']\n",
      "['start', 'starbucks', 'tomntoms', 'hollys', 'banapresso', 'end', 'coffee', 'c', 'u', 'p']\n"
     ]
    }
   ],
   "source": [
    "# 리스트 메서드 실습1\n",
    "cafe = ['starbucks', 'tomntoms', 'hollys']\n",
    "print(cafe, id(cafe))\n",
    "cafe.append('banapresso')\n",
    "print(cafe, id(cafe)) #r기존의 cafe에 값을 추가한 것이기 때문에 주소는 그대로임\n",
    "\n",
    "#insert\n",
    "cafe.insert(0, 'start')\n",
    "print(cafe)\n",
    "cafe.insert(10000, 'end') #값이 리스트의 범위보다 크면 그냥 맨 마지막에 들어감\n",
    "print(cafe)\n",
    "\n",
    "print('-------------extend------------')\n",
    "cafe.extend(['coffee'])\n",
    "print(cafe)\n",
    "cafe.extend('cup') #리스트를 사용안하면 한 글자씩 들어감\n",
    "print(cafe)"
   ]
  },
  {
   "cell_type": "code",
   "execution_count": 46,
   "metadata": {},
   "outputs": [
    {
     "name": "stdout",
     "output_type": "stream",
     "text": [
      "[1, 2, 3, 'hi']\n",
      "[1, 2, 3]\n",
      "hi\n",
      "[1, 2, 3]\n",
      "[]\n",
      "4\n",
      "0\n"
     ]
    }
   ],
   "source": [
    "# 리스트 메서드 실습2\n",
    "numbers = [1,2,3,'hi']\n",
    "print(numbers)\n",
    "numbers.remove('hi')\n",
    "print(numbers)\n",
    "#numbers.remove('없는거 삭제') #없는 값을 삭제하려고 하면 Error발생\n",
    "#print(numbers)\n",
    "\n",
    "numbers = [1,2,3,'hi']\n",
    "word = numbers.pop() #마지막값을 word에 대입하고 numbers에서는 삭제\n",
    "print(word)\n",
    "print(numbers)\n",
    "\n",
    "numbers.clear() # 모든 항목 삭제\n",
    "print(numbers) \n",
    "\n",
    "\n",
    "numbers = [1,2,3,1,1,1,2,2]\n",
    "print(numbers.count(1)) #1이 numbers안에 몇개 있는가\n",
    "print(numbers.count(100)) #100이 numbers안에 몇개 있는가"
   ]
  },
  {
   "cell_type": "code",
   "execution_count": 50,
   "metadata": {},
   "outputs": [
    {
     "name": "stdout",
     "output_type": "stream",
     "text": [
      "[2, 3, 5, 7] None\n",
      "[3, 2, 6, 8] [2, 3, 6, 8]\n",
      "[1, 5, 2, 3] None\n"
     ]
    }
   ],
   "source": [
    "# 리스트 메서드 실습 3\n",
    "# sort와 sorted의 차이 잘 구분할 것\n",
    "# 원본을 바꾼다 = sort / 복사본을 바꾼다 => sorted\n",
    "\n",
    "numbers = [3,2,5,7]\n",
    "result = numbers.sort()\n",
    "print(numbers, result) #원본이 정렬되고 반환값은 None이 나옴\n",
    "\n",
    "numbers = [3,2,6,8]\n",
    "#result = numbers.sorted() # 문법이 잘못된 표현. sorted는 아랫줄처럼 해야 함\n",
    "result = sorted(numbers)\n",
    "print(numbers, result) #원본은 바뀌지 않음\n",
    "\n",
    "\n",
    "numbers = [3,2,5,1]\n",
    "result = numbers.reverse() #얘도 원본을 바꾸기때문에 result는 None이 나옴\n",
    "print(numbers, result)"
   ]
  },
  {
   "cell_type": "markdown",
   "metadata": {},
   "source": [
    "### 💡 튜플 메서드  \n",
    "튜플은 변경할 수 없기 때문에 값에 영향을 미치지 않는 메서드만 지원\n"
   ]
  },
  {
   "cell_type": "code",
   "execution_count": 58,
   "metadata": {},
   "outputs": [
    {
     "name": "stdout",
     "output_type": "stream",
     "text": [
      "<class 'tuple'>\n",
      "수\n",
      "('월', '화', '수', '목', '금', '월', '화', '수', '목', '금')\n",
      "1607868531872\n",
      "('월', '화', '수', '목', '금', False, True)\n",
      "1607868765600\n"
     ]
    }
   ],
   "source": [
    "# 튜플 메서드 실습\n",
    "a = (1,2,3,5,1) \n",
    "#a[0] = 5 # 튜플은 순서는 있지만 값을 변경할 수 없음\n",
    "\n",
    "day_name = ('월','화','수','목','금')\n",
    "print(type(day_name))\n",
    "\n",
    "print(day_name[-3]) #순서는 있음\n",
    "print(day_name * 2) #곱하기 가능\n",
    "print(id(day_name))\n",
    "\n",
    "day_name += False, True #더하기도 가능\n",
    "print(day_name)\n",
    "print(id(day_name)) #새로운 값을 더하면서 주소가 바뀜"
   ]
  },
  {
   "cell_type": "code",
   "execution_count": 61,
   "metadata": {},
   "outputs": [
    {
     "name": "stdout",
     "output_type": "stream",
     "text": [
      "False\n",
      "True\n",
      "True\n"
     ]
    }
   ],
   "source": [
    "# 멤버십 연산자 in, not in\n",
    "print('apple' in 'a') # 거꾸로 썼기 때문에 False\n",
    "print('a' in 'apple') # True\n",
    "print('hi' in 'highlight')"
   ]
  },
  {
   "cell_type": "markdown",
   "metadata": {},
   "source": [
    "### 💡셋 메서드\n",
    "s.copy() : 셋의 얕은 복사본을 반환  \n",
    "s.add(x) : 항목 x가 셋 s에 없다면 추가  \n",
    "s.pop() : 셋 s에서 랜덤하게 항목을 반환하고, 해당항목을 제거 set이 비어있을 경우, KeyError  \n",
    "s.removes(x) : 항목 x를 s에서 삭제  \n",
    "s.discard(x) : 항목 x가 셋s에 있는 경우, 항목 x를 셋 s에서 삭제  \n",
    "s.update(t) : 셋 t에 있는 모든 항목 중 셋 s에 없는 항목을 추가  \n",
    "s.clear()  : 모든 항목을 제거  \n",
    "s.isdisjoint(t) : 셋 s가 셋 t의 서로 같은 항목을 하나라도 갖고 있지 않은 경우 True 반환(서로소)  \n",
    "s.issubset(t) : 셋 s가 셋 t의 하위 셋인 경우 True 반환(s가 t에 포함되는가?)  \n",
    "s.issuperset(t) : 셋 s가 셋 t의 상위 셋일 경우 True 반환"
   ]
  },
  {
   "cell_type": "code",
   "execution_count": 72,
   "metadata": {},
   "outputs": [
    {
     "name": "stdout",
     "output_type": "stream",
     "text": [
      "{'수박', '사과', '바나나'}\n",
      "{'grape', '수박', '사과', '바나나'}\n",
      "grape\n",
      "{'수박', '사과', '바나나'}\n",
      "-----------update---------------\n",
      "{'수박', '사과', '바나나'}\n",
      "{'참외', '바나나', '딸기', '수박', '사과'}\n",
      "-----------remove---------------\n",
      "{'수박', '바나나'}\n",
      "{'수박', '바나나'}\n"
     ]
    }
   ],
   "source": [
    "a = {'사과', '바나나','수박'}\n",
    "print(a)\n",
    "a.add('바나나') #이미 있는 값은 추가되지 않음\n",
    "a.add('grape')\n",
    "print(a)\n",
    "\n",
    "b = a.pop() #랜덤하게 선택한 항목을 b에 넣고 a에서는 삭제\n",
    "print(b) \n",
    "print(a)\n",
    "\n",
    "print('-----------update---------------')\n",
    "a = {'사과', '바나나','수박'}\n",
    "print(a)\n",
    "a.update(['딸기','바나나','참외'])\n",
    "print(a)\n",
    "\n",
    "print('-----------remove---------------')\n",
    "a = {'딸기', '바나나','수박'}\n",
    "a.remove('딸기')\n",
    "print(a)\n",
    "#a.remove('딸기') # remove는 없는 값을 삭제하려 하면 Error\n",
    "#print(a)\n",
    "a.discard('딸기') # discard는 없는 것을 삭제하려 해도 Error가 생기지 않음\n",
    "print(a)"
   ]
  },
  {
   "cell_type": "code",
   "execution_count": 78,
   "metadata": {},
   "outputs": [
    {
     "name": "stdout",
     "output_type": "stream",
     "text": [
      "True\n",
      "False\n",
      "True\n",
      "True\n",
      "True\n"
     ]
    }
   ],
   "source": [
    "a = {'사과','바나나','수박'}\n",
    "b = {'포도', '망고'}\n",
    "c = {'사과', '포도', '망고', '수박', '바나나'}\n",
    "\n",
    "print(a.isdisjoint(b)) # a와 b가 서로소인가 = 겹치는게 없는가\n",
    "print(a.isdisjoint(c))\n",
    "print(a.issubset(c)) #a가 c의 하위 셋인가?\n",
    "print(b.issubset(c)) #b가 C의 하위 셋인가?\n",
    "\n",
    "print(c.issuperset(a)) #c가 b의 상위 셋인가?"
   ]
  },
  {
   "cell_type": "markdown",
   "metadata": {},
   "source": [
    "### 💡딕셔너리 메서드  \n",
    "from pydoc import ErrorDuringImport\n",
    "\n",
    "\n",
    "d.clear() : 모든 항목을 제거  \n",
    "d.copy() : 딕셔너리 d의 얕은 복사본을 반환  \n",
    "d.keys() : 딕셔너리 d의 모든 키를 담은 뷰를 반환  \n",
    "d.values() : 딕셔너리 d의 모든 값을 담은 뷰를 반환  \n",
    "d.items() : 딕셔너리 d의 모든 키-값 쌍을 담은 뷰를 반환  \n",
    "d.get(key[,default]) : default는 설정안해도 됨. key를 통해 value를 가져오며 Error가 발생하지 않음  \n",
    "d.pop(key[,default]) : key가 딕셔너리에 있으면 제거하고 해당 값을 반환. 그렇지 않으면 default를 반환.(key는 문자열형식이 아니라 따옴표 없이 그냥 쓰면 됨!! dafault값이 없으면 Error  \n",
    "d.update([other]) : 딕셔너리 d의 값을 매핑하여 업데이트  \n"
   ]
  },
  {
   "cell_type": "code",
   "execution_count": 85,
   "metadata": {},
   "outputs": [
    {
     "name": "stdout",
     "output_type": "stream",
     "text": [
      "사과 {'banana': '바나나'}\n",
      "{'apple': '사과', 'banana': '바나나'}\n",
      "apple\n",
      "banana\n",
      "사과\n",
      "바나나\n",
      "key : apple, value : 사과\n",
      "key : banana, value : 바나나\n"
     ]
    }
   ],
   "source": [
    "# 딕셔너리 메서드 실습 \n",
    "my_dict = {'apple' : '사과', 'banana' : '바나나'}\n",
    "data = my_dict.pop('apple') #'apple'이라는 키와 대응하는 값을 제거하고 해당 값을 반환\n",
    "print(data, my_dict)\n",
    "\n",
    "my_dict = {'apple':'사', 'banana' : '바나나'}\n",
    "my_dict.update(apple='사과') #.update할 때 key에 따옴표를 붙이면 오히려 Error가 생김!\n",
    "print(my_dict)\n",
    "\n",
    "my_dict = {'apple' : '사과', 'banana' : '바나나'}\n",
    "for key in my_dict : \n",
    "    print(key)  # 딕셔너리에 아무것도 안 붙으면 키를 순회함\n",
    "for value in my_dict.values() :\n",
    "    print(value) #.values()를 통해 값을 순회하게 함\n",
    "for key,value in my_dict.items() :\n",
    "    print(f'key : {key}, value : {value}') #.items()를 통해 키와 값을 동시 순회 가능\n"
   ]
  },
  {
   "cell_type": "markdown",
   "metadata": {},
   "source": [
    "### 💡 얕은 복사와 깊은 복사(Shallow Copy & Deep Copy) import copy\n",
    "복사 방법  \n",
    "* 할당(Assignment) : 대입 연산자 '=' 활용  \n",
    "    대입 연산자를 통한 복사는 해당 객체에 대한 참조를 복사(같은 주소를 씀)  \n",
    "* 얕은 복사(Shallow Copy) : Slice 연산자 활용  \n",
    "    같은 원소를 가진 리스트지만 연산되 결과를 복사(다른 주소)  \n",
    "    주의사항 : 복사하는 리스트의 원소가 주소를 참조하는 경우 복사가 잘못됨(리스트 안에 또 리스트가 있는 경우)\n",
    "* 깊은 복사(Deep Copy)  \n",
    "    얕은 복사의 문제점을 해결하기 위해 깊은 복사를 사용함"
   ]
  },
  {
   "cell_type": "code",
   "execution_count": 87,
   "metadata": {},
   "outputs": [
    {
     "name": "stdout",
     "output_type": "stream",
     "text": [
      "[1, 2, 3] [1, 2, 3]\n",
      "['hello', 2, 3] ['hello', 2, 3]\n",
      "[1, 2, 3] [1, 2, 3]\n",
      "[1, 2, 3] ['hello', 2, 3]\n"
     ]
    }
   ],
   "source": [
    "# 얕은 복사와 할당의 차이 실습\n",
    "original_list = [1,2,3]\n",
    "copy_list = original_list #대입연산자를 통한 할당\n",
    "print(original_list, copy_list)\n",
    "copy_list[0] = 'hello'\n",
    "print(original_list, copy_list) #할당이기 때문에 원본과 복사본이 같이 바뀜!\n",
    "\n",
    "\n",
    "original_list = [1,2,3]\n",
    "copy_list = original_list[:] #슬라이스를 활용한 얕은 복사\n",
    "print(original_list, copy_list)\n",
    "copy_list[0] = 'hello'\n",
    "print(original_list, copy_list) #주소가 다르기때문에 복사본만 바뀜!\n"
   ]
  },
  {
   "cell_type": "code",
   "execution_count": 96,
   "metadata": {},
   "outputs": [
    {
     "name": "stdout",
     "output_type": "stream",
     "text": [
      "[1, 2, ['a', 'b']] [1, 2, ['a', 'b']]\n",
      "[1, 2, ['hello', 'b']] [1, 2, ['hello', 'b']]\n",
      "--------deepcopy---------\n",
      "[1, 2, ['a', 'b']] [1, 2, ['a', 'b']]\n",
      "[1, 2, ['a', 'b']] [1, 2, ['hello', 'b']]\n"
     ]
    }
   ],
   "source": [
    "#얕은 복사과 깊은 복사 차이 실습\n",
    "#오 여기 잘 모르겠다 \n",
    "\n",
    "a = [1,2,['a','b']]\n",
    "b = a[:]\n",
    "print(a,b)\n",
    "b[2][0] = 'hello'\n",
    "print(a,b)\n",
    "\n",
    "print('--------deepcopy---------')\n",
    "import copy\n",
    "a =  [1,2,['a','b']]\n",
    "b = copy.deepcopy(a)\n",
    "print(a,b)\n",
    "b[2][0] = 'hello' #deepcopy를 써야 리스트 속 리스트의 제대로 된 복사 및 수정이 가능함\n",
    "print(a, b)"
   ]
  },
  {
   "cell_type": "code",
   "execution_count": null,
   "metadata": {},
   "outputs": [],
   "source": []
  }
 ],
 "metadata": {
  "kernelspec": {
   "display_name": "Python 3.10.5 64-bit",
   "language": "python",
   "name": "python3"
  },
  "language_info": {
   "codemirror_mode": {
    "name": "ipython",
    "version": 3
   },
   "file_extension": ".py",
   "mimetype": "text/x-python",
   "name": "python",
   "nbconvert_exporter": "python",
   "pygments_lexer": "ipython3",
   "version": "3.10.5"
  },
  "orig_nbformat": 4,
  "vscode": {
   "interpreter": {
    "hash": "fb4569285eef3a3450cb62085a5b1e0da4bce0af555edc33dcf29baf3acc1368"
   }
  }
 },
 "nbformat": 4,
 "nbformat_minor": 2
}
