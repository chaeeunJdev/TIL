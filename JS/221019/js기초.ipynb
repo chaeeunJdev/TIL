{
 "cells": [
  {
   "cell_type": "markdown",
   "metadata": {},
   "source": [
    "# Today I Learned"
   ]
  },
  {
   "cell_type": "markdown",
   "metadata": {},
   "source": [
    "### 💡식별자 정의와 특징  \n",
    "\n",
    "카멜 케이스(camelCase)  \n",
    "- 변수, 객체, 함수에 사용  \n",
    "- 가장 많이 사용 됨\n",
    "\n",
    "파스칼 케이스(PascalCase)  \n",
    "- 클래스, 생성자에 사용  \n",
    "\n",
    "대문자 스네이크 케이스(SNAKE_CASE)  \n",
    "- 상수에 사용  \n",
    "- 상수 : 개발자의 의도와 상관없이 변경될 가능성이 없는 값을 의미"
   ]
  },
  {
   "cell_type": "markdown",
   "metadata": {},
   "source": [
    "### 💡변수 선언 키워드  \n",
    "\n",
    "let  \n",
    "- 블록 스코프(함수의 중괄호 내부) 지역 변수를 선언(추가로 동시에 값을 초기화)  \n",
    "- 재할당 가능 & 재선언 불가능  \n",
    "\n",
    "\n",
    "const  \n",
    "- 블록 스코프 읽기 전용 상수를 선언(추가로 동시에 값을 초기화)  \n",
    "- 재할당 불가능 & 재선언 불가능  \n",
    "- `선언 시 반드시 초기값을 설정`해야 함. 이후 값 변경 불가능\n",
    "\n",
    "var  \n",
    "- 변수를 선언(추가로 동시에 값을 초기화)    \n",
    "- 재할당 가능 & 재선언 가능  \n",
    "- js에서 var는 안씀  \n",
    "- 함수스코프(함수의 중괄호 내부, 함수 바깥에서 접근 불가능)를 가지며, 변수 선언 시 키워드를 선정하지 않으면 자동으로 var로 선정  \n",
    "\n",
    "\n",
    "+ 참고  \n",
    "- 선언 : 변수를 생성하는 행위 또는 시점(undefined로 정의됨)  \n",
    "- 할당 : 선언된 변수에 값을 저장하는 행위 또는 시점  \n",
    "- 초기화 : 선언된 변수에 처음으로 값을 저장하는 행위 또는 시점(선언 + 할당)  \n"
   ]
  },
  {
   "cell_type": "markdown",
   "metadata": {},
   "source": [
    "### 💡데이터 타입  \n",
    "\n",
    "Number  \n",
    "- 정수형 또는 실수형 숫자를 표현하는 자료형  \n",
    "- NaN : Not-A-Number 숫자가 아님을 나타냄  \n",
    "- NaN을 반환하는 경우  \n",
    "\n",
    "String  \n",
    "- 문자열을 표현하는 자료형  \n",
    "- 작은 따옴표 또는 큰 따옴표 모두 가능   \n",
    "- 덧셈을 통해 문자열을 붙일 수 있음  \n",
    "- 템플릿 리터럴 : ``백틱을 이용하며, 여러줄에 걸쳐 문자열을 정의할 수도 있고 JavaScript의 변수를 문자열 안에 바로 연결할 수 있는 이점이 생김  \n",
    "- 파이썬의 f-string처럼 표현하려면 ${age}로 표현 가능  "
   ]
  },
  {
   "cell_type": "markdown",
   "metadata": {},
   "source": [
    "### 💡연산자  \n",
    "\n",
    "일치 연산자 === \n",
    "- 두 피연산자의 값과 타입이 모두 같은 경우 true를 반환  \n",
    "- 1과 '1'은 false  \n",
    "\n",
    "동등 연산자 ==  \n",
    "- 두 피연산자의 값이 같은 값으로 간주되면 true를 반환  \n",
    "- 1과 '1'은 true   \n",
    "\n",
    "삼항 연산자  \n",
    "- 조건식? 참일때 반환할 값 : 거짓일때 반환할 값  "
   ]
  },
  {
   "cell_type": "markdown",
   "metadata": {},
   "source": [
    "### 💡반복문  \n",
    "\n",
    "- 반복 가능한 객체 중 for in 은 배열에서는 안씀.\n",
    "\n",
    "- in은 객체, 나머지는 of  \n",
    "\n",
    "- for in은 속성의 이름을 통해 반복  \n",
    "\n",
    "- for of는 속성의 값을 통해 반복  "
   ]
  },
  {
   "cell_type": "markdown",
   "metadata": {},
   "source": []
  }
 ],
 "metadata": {
  "kernelspec": {
   "display_name": "Python 3.10.5 64-bit",
   "language": "python",
   "name": "python3"
  },
  "language_info": {
   "name": "python",
   "version": "3.10.5"
  },
  "orig_nbformat": 4,
  "vscode": {
   "interpreter": {
    "hash": "fb4569285eef3a3450cb62085a5b1e0da4bce0af555edc33dcf29baf3acc1368"
   }
  }
 },
 "nbformat": 4,
 "nbformat_minor": 2
}
