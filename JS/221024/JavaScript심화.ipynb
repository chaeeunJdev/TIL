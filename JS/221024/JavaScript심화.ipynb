{
 "cells": [
  {
   "cell_type": "markdown",
   "metadata": {},
   "source": [
    "# Today I Learned\n"
   ]
  },
  {
   "cell_type": "markdown",
   "metadata": {},
   "source": [
    "### 💡DOM  \n",
    "- 문서 객체 모델(Document Object Model)  \n",
    "- 문서의 구조화된 표현 제공, 프로그래밍 언어가 DOM 구조에 접근할 수 있는 방법을 제공  \n",
    "- 동적으로 페이지에 스타일을 추가  \n",
    "- HTML 문서를 구조화 하여 각 요소를 객체로 취급  \n",
    "- DOM은 문서를 논리 트리로 표현  \n",
    "  "
   ]
  },
  {
   "cell_type": "markdown",
   "metadata": {},
   "source": [
    "### 💡DOM의 주요 객체  \n",
    "\n",
    "window object  \n",
    "- 가장 최상위 객체(작성 시 생략 가능)  \n",
    "- 탭 기능이 있는 브라우저에서는 각각의 탭을 각각의 window 객체로 나타냄  \n",
    "\n",
    "document object  \n",
    "- 브라우저가 불러온 웹 페이지  \n",
    "- 페이지 컨텐츠의 진입점 역할을 하며, <body> 등과 같은 수많은 다른 요소들을 포함하고 있음"
   ]
  },
  {
   "cell_type": "markdown",
   "metadata": {},
   "source": [
    "### 💡 선택 관련 메서드  \n",
    "document.querySelector(selector)  \n",
    "- 제공한 선택자와 일치하는 element 한 개 선택  \n",
    "- 제공한 CSS selector를 만족하는 첫 번째 element 객체를 반환(없다면 null반환)  \n",
    "\n",
    "document.querySlectorAll(selector)  \n",
    "- 제공한 선택자와 일치하는 `여러 element`를 선택  \n",
    "- 매칭 할 하나 이상의 셀렉터를 포함하는 유효한 CSS selector를 인자로 받음  \n",
    "- 제공한 CSS selector를 만족하는 NodeList를 반환  "
   ]
  },
  {
   "cell_type": "markdown",
   "metadata": {},
   "source": [
    "### 💡 조작 관련 메서드\n",
    "\n",
    "생성  \n",
    "document.createDlement(tagName)  \n",
    "- 작성한 tagName의 HTML 요소를 생성하여 반환  \n",
    "- `(반환을 해줘야 변수에 담아서 사용 가능)`  \n",
    "    \n",
    "\n",
    "입력  \n",
    "Node.innerText(태그 안의 내용!!)  \n",
    "- Node 객체와 그 자손의 텍스트 컨텐츠를 표현  \n",
    "- 사람이 읽을 수 있는 요소만 남김  \n",
    "   \n",
    "\n",
    "추가  \n",
    "Node.appendChild()  \n",
    "- `태그를 만들고 내용을 넣었으니까 이제 자식노드로 삽입해야 함`   \n",
    "- 한 Node를 특정 부모 Node의 자식 NodeList 중 마지막 자식으로 삽입  \n",
    "- `한번에 오직 하나의 Node만 추가`할 수 있음  \n",
    "- 추가된 Node 객체를 반환  \n",
    "\n",
    "\n",
    "삭제  \n",
    "Node.removeChild()  \n",
    "- DOM에서 자식 Node를 제거  \n",
    "- 제거된 Node를 반환  \n",
    "\n",
    "<img src = '캡처.jpg'>"
   ]
  },
  {
   "cell_type": "markdown",
   "metadata": {},
   "source": [
    "### 💡 조작 관련 메서드  \n",
    "속성 조회 및 설정  \n",
    "Element.getAttribute(attributeName)  \n",
    "- 해당 요소의 지정된 값(문자열)을 반환  \n",
    "- 인자(attributeName)는 값을 얻고자 하는 속성의 이름\n",
    "\n",
    "\n",
    "Element.setAttribute(name, value)  \n",
    "- 지정된 요소의 값을 설정  \n",
    "- 속성이 이미 존재하면 값을 갱신, 존재하지 않으면 지정된 이름의 값으로 속성을 추가  "
   ]
  },
  {
   "cell_type": "markdown",
   "metadata": {},
   "source": [
    "---"
   ]
  },
  {
   "cell_type": "markdown",
   "metadata": {},
   "source": [
    "### 💡 Event  \n",
    "\n",
    "Event object  \n",
    "- 네트워크 활동이나 사용자와의 상호작용 같은 사건의 발생을 알리기 위한 객체  \n",
    "- DOM 요소는 Event를 받고 `수신`  \n",
    "- 받은 Event를 `처리` 할 수 있음  \n",
    "    - Event 처리는 주로 addEventListener()라는 Evnet 처리기를 다양한 html 요소에 `부착`해서 처리함    \n",
    "    - DOM.add 이 리스너가 부착되어있던 오브젝트에서 이벤트를 듣고있다가 원하는 이벤트가 발생하면 처리  \n",
    "\n",
    "\n",
    "EventTarget.addEventListener(type, Listener)\n",
    "- 두번째 인자 Listener는 콜백함수(이벤트 발생 시 수행할 행동)   \n",
    "- Event를 지원하는 모든 객체(Element, Document, Window 등)를 대상으로 지정 가능  \n",
    "- type : 반응 할 Event 유형을 나타내는 대소문자 구분 문자열  \n",
    "  - 대표 : input, click, submit  \n",
    "- listener : 지정된 타입의 Event를 수신할 객체로서 발생한 Event의 데이터를 가진 Event 객체를 유일한 매개변수가 받음   \n"
   ]
  },
  {
   "cell_type": "markdown",
   "metadata": {},
   "source": [
    "### 💡this  \n",
    "- 어떠한 object를 가리키는 키워드  \n",
    "- java에서의 this와 python에서의 self는 인스턴스 자기자신을 가리킨  \n",
    "- js의 함수는 호출될 때 this를 암묵적으로 전달 받음 \n",
    "- js는 해당 함수 호출 방식에 따라 this에 바인딩 되는 객체가 달라짐  \n",
    "- 즉, 함수를 선언할 때 this에 객체가 결정되는 것이 아니고, 함수를 호출할 때 함수가 `어떻게 호출 되었는지에 따라 동적으로 결정`  \n",
    "  \n",
    "\n",
    "전역 문맥에서의 this  \n",
    "- 브라우저의 전역 객체인 window를 가리킴  \n",
    "- 전역객체는 모든 객체의 유일한 최상위 객체를 의미  \n",
    "\n",
    "\n",
    "✔ 함수 문맥에서의 this  \n",
    "- this의 값은 함수를 호출한 방법에 의해 결정됨  \n",
    "- 단순 호출  \n",
    "  - 전역 객체를 가리킴  \n",
    "  - 전역은 브라우저에서는 window, Node.js는 global을 의미함  \n",
    "- Method  \n",
    "  - 메서드로 선언하고 호출한다면, `객체의 메서드이므로 해당 객체가 바인딩`  \n",
    "- Nested  \n",
    "  - forEach의 콜백함수에서의 this가 메서드의 객체를 가리키지 못하고 `전역 객체 window를 가리킴`.  \n",
    "  - 단순 호출 방식으로 사용되었기 때문  \n",
    "  - 이를 해결 => `화살표 함수`. 화살표함수로 콜백함수를 사용하면 `다시 메서드의 객체를 잘 가리킴`    \n",
    "  - `화살표 함수는 호출의 위치와 상관없이 상위 스코프를 가리킴!!!`      \n",
    "\n",
    "\n",
    "\n",
    "  \n",
    "this가 호출되는 순간에 결정되는 것(런타임)  \n",
    "장점  \n",
    "- 함수를 하나만 만들어서 여러 객체에서 재사용 할 수 있다. \n",
    "  \n",
    "단점  \n",
    "- 이런 유연함이 실수로 이어질 수 있다\n",
    "\n",
    "=> JS의 this가 좋은지 나쁜지는 우리가 판단하는게 중요한 것이 아니다.  "
   ]
  },
  {
   "cell_type": "markdown",
   "metadata": {},
   "source": []
  }
 ],
 "metadata": {
  "language_info": {
   "name": "python"
  },
  "orig_nbformat": 4
 },
 "nbformat": 4,
 "nbformat_minor": 2
}
