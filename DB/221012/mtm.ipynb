{
 "cells": [
  {
   "cell_type": "markdown",
   "metadata": {},
   "source": [
    "## Today I Learned  \n",
    "\n",
    "오늘 배운 메서드들은 대부분 N:1에서는 타겟 모델 객체만 사용가능하지만, M:N 관계에서는 두 객체에서 모두 사용 가능"
   ]
  },
  {
   "cell_type": "markdown",
   "metadata": {},
   "source": [
    "### 💡중개모델 \n",
    "\n",
    "- 외래키가 두개있는 모델(중개모델)을 이용하여 m:m 관계를 만들 수 있음  \n",
    "\n",
    "- 의사입장에서 자기에게 예약된 모든 환자 조회\n",
    "doctor1.reservation_set.all()  \n",
    "\n",
    "- 환자입장에서 자기가 예약한 모든 환자 조회\n",
    "patient1.reservation_set.all()  "
   ]
  },
  {
   "cell_type": "markdown",
   "metadata": {},
   "source": [
    "### 💡ManyToManyField()\n",
    "\n",
    "- manotomany필드는 어떤 클래스에 쓰던 상관없지만, 참조/역참조에 대해 생각해보고 참조하는게 편한곳에 쓰는게 좋음  \n",
    "\n",
    "- 중개모델을 직접 만들지 않더라도 이 필드를 이용하면 자동으로 중개 모델을 만들어줌  \n",
    "\n",
    "- 환자1이 의사1을 추가하겠다.  \n",
    "patient1.doctors.add(doctor1)  \n",
    "\n",
    "- 환자입장에서 예약 조회(참조)  \n",
    "patient1.doctors.all()\n",
    "\n",
    "- 현재 의사입장에서 예약 조회는 `역참조`이므로 _set 사용\n",
    "doctor1.patient_set.all()  \n",
    "\n",
    "- 의사1이 환자2를 예약  \n",
    "doctor1.patient_Set.add(patient2)  \n",
    "\n",
    "- 의사1이 환자1 예약 삭제(역참조)  \n",
    "doctor1.patient_set.remove(patient1)\n",
    "\n",
    "- 환자가 예약 삭제(참조)  \n",
    "patient2.doctors.remove(doctor1)\n",
    "\n",
    "- ✔️ 중개모델과 mtm필드의 차이점은 중개모델은 예약객체가 생성이 되어버리는것이고 mtm필드는 환자객체가 생성되기 때문에 더욱 자연스럽다는 것이다!"
   ]
  },
  {
   "cell_type": "markdown",
   "metadata": {},
   "source": [
    "### 💡related_name  \n",
    "- 지금까지 역참조를 할때는 _set을 사용해야했는데 이 옵션을 사용하여 역참조의 관계에서도 doctors처럼 복수형 이름을 사용  \n",
    "- N:M 관계에서 많이 사용  \n",
    "\n",
    "- 원래 역참조 방법\n",
    "doctor1.patient_set.all()\n",
    "\n",
    "- related_name='patients' 사용  \n",
    "doctor1.patients.all()  "
   ]
  },
  {
   "cell_type": "markdown",
   "metadata": {},
   "source": [
    "### 💡through argument  \n",
    "\n",
    "- 중개모델에 다른 필드를 추가하고싶을 때 사용  \n",
    "- 직접 만든 중개 테이블에 through옵션을 사용하여 추가 데이터를 사용할 수 있음  \n",
    "- 이처럼 추가 데이터가 필요한 상황에는 직접 중개테이블을 만드는 수 밖에 없음.  \n",
    "- 대신 참조모델의 mtm필드 속성에 through를 설정하게되면 중개테이블을 직접 만드는 경우처럼 되는게 아니고, mtm필드를 사용한 것처럼 예약객체가 아닌 환자객체가 자연스럽게 생성된다.  \n",
    "\n",
    "\n",
    "- 환자2가 예약. 필드가 더 추가된 상황  \n",
    "patient2.doctors.add(doctor1, through_defaults={'symptom':'flu'})  \n"
   ]
  },
  {
   "cell_type": "markdown",
   "metadata": {},
   "source": [
    "### 💡symmetrical(대칭)  \n",
    "\n",
    "- 기본값 : True  \n",
    "- True를 해놓으면 내가 팔로우하면 상대방도 나를 팔로우(대칭)  \n",
    "- False를 해놓으면 내가 팔로우한다고해서 상대방도 나를 팔로우하는 것은 아님(대칭이 아님)"
   ]
  },
  {
   "cell_type": "markdown",
   "metadata": {},
   "source": [
    "### 💡methods  \n",
    "\n",
    "- add()\n",
    "    - 지정된 객체를 관련 객체 집합에 추가  \n",
    "    - 이미 존재하는 관계에 사용하면 관계가 복제되지 않음  \n",
    "\n",
    "- remove()\n",
    "    - 관련 객체집합에서 지정된 모델 객체를 제거  \n",
    "    - 내부적으로 QuerySet.delete()를 사용하여 관계가 삭제됨"
   ]
  },
  {
   "cell_type": "markdown",
   "metadata": {},
   "source": [
    "### 💡tip\n",
    "<b>작성자 : <a href=\"{% url 'accounts:profile' article.user %}\">{{ article.user }}</a></b>  \n",
    "인덱스페이지에서 user.user가 아니라 article.user를 쓰는 이유는 user.user를 쓰면 내가 로그인한 계정의 프로필로 이동함. 하지만 로그인 계정의 프로필 말고 게시글 주인의 프로필로 가고싶으니까 article.user가 되는 것임!!\n",
    "\n",
    "( .username붙여도 되지면 model에서 str return username을 해줬기때문에 user만써도 알아서 username을 반환해줌)"
   ]
  },
  {
   "cell_type": "markdown",
   "metadata": {},
   "source": []
  }
 ],
 "metadata": {
  "language_info": {
   "name": "python"
  },
  "orig_nbformat": 4
 },
 "nbformat": 4,
 "nbformat_minor": 2
}
