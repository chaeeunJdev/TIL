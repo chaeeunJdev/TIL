{
 "cells": [
  {
   "cell_type": "markdown",
   "metadata": {},
   "source": [
    "## Today I Learned"
   ]
  },
  {
   "cell_type": "markdown",
   "metadata": {},
   "source": [
    "---\n",
    "### **웹사이트**\n"
   ]
  },
  {
   "cell_type": "markdown",
   "metadata": {},
   "source": [
    "### 💡웹 사이트 구성 요소  \n",
    "* 웹 사이트란 브라우저를 통해 접속하는 웹 페이지(문서)들의 모음  \n",
    "* 웹 페이지는 글, 그림, 동영상 등 여러가지 정보를 담고 있으며, 마우스로 클릭하면 다른 웹 페이지로 이동하는 '링크'들이 있음. '링크'를 통해 여러 웹 페이지를 연결한 것을 웹 사이트라고 함  \n",
    "\n",
    "\n",
    "    HTML -> 구조  \n",
    "    CSS -> 표현  \n",
    "    Javascript -> 동작  \n",
    "\n",
    "    🏢 건물을 짓는것에 비유해보면  \n",
    "    HTML은 건물의 구조  \n",
    "    CSS는 건물의 인테리어  \n",
    "    Javascript는 엘리베이터 혹은 IOThome과 같은 동작들  \n",
    "\n",
    "\n"
   ]
  },
  {
   "cell_type": "markdown",
   "metadata": {},
   "source": [
    "### 💡웹 사이트와 브라우저  \n",
    "* 웹 사이트는 브라우저를 통해 동작함  \n",
    "* 브라우저마다 동작이 약간씩 달라서 문제가 생기는 경우가 많음(파편화)  \n",
    "* 해결책으로 웹 표준이 등장  \n",
    "웹표준 예시 ) 크롬, edge, 웨일, 사파리 등등  \n",
    "\n",
    "    웹사이트와 브라우저 비유  \n",
    "    브라우저 -> MSword, 한컴  \n",
    "    HTML문서 -> .doc파일, .hwp파일  \n",
    "    \n",
    "\n",
    "웹 표준  \n",
    "* 웹에서 표준적으로 사용되는 기술이나 규칙  \n",
    "* 어떤 브라우저든 웹 페이지가 동일하게 보이도록 함(크로스 브라우징)  \n",
    "* 브라우저별 호환성 체크, 웹 페이지를 개발할 때 다양한 브라우저에서 볼 수 있도록 호환성 체크"
   ]
  },
  {
   "cell_type": "markdown",
   "metadata": {},
   "source": [
    "---\n",
    "### **HTML**\n"
   ]
  },
  {
   "cell_type": "markdown",
   "metadata": {},
   "source": [
    "### 💡HTML(Hyper Text Markup Language)  \n",
    "\n",
    "HTML\n",
    "* 웹페이지를 작성, 구조화 하기 위한 언어로 .html이라는 확장자를 가지고 있음  \n",
    "* 마크업 스타일 가이드는 2칸을 띄움\n",
    "\n",
    "Hyper Text란?  \n",
    "* 참조(하이퍼링크)를 통해 사용자가 한 문서에서 다른 문서로 즉시 접근할 수 있는 텍스트  \n",
    "\n",
    "Markup Language란?  \n",
    "* 태그 등을 이용하여 문서나 데이터의 구조를 명시하는 언어  \n",
    "* 대표적인 예) HTML, Markdown  \n",
    "* `<title>Hello.HTML</title>` 처럼 태그 사용"
   ]
  },
  {
   "cell_type": "markdown",
   "metadata": {},
   "source": [
    "### 💡 HTML의 기본 구조  \n",
    "\n",
    "* html : 문서의 최사우이(root) 요소  \n",
    "* head : 문서 메타데이터 요소(인터넷 들어가면 보이는 맨 위에 주소창!)  \n",
    "    * 문서 제목, 인코딩, 스타일, 외부 파일 로딩 등  \n",
    "    * 일반적으로 브라우저에 나타나지 않는 내용  \n",
    "<br>\n",
    "* body : 문서 본문 요소(인터넷 주소창 아래 본문!)  \n",
    "    * 실제 화면 구성과 관련된 내용  \n",
    "\n",
    "head 예시 (1은 신경x 원래 안들어감!!)  \n",
    "* <1title> : 브라우저 상단 타이들  \n",
    "* <1meta> : 문서 레벨 메타데이터 요소  \n",
    "* <1link> : 외부 리소스 연결 요소(CSS파일, favicon 등)  \n",
    "* <1script> : 스크립트 요소 (JavaScript 파일/코드)  \n",
    "* <1style> : CSS 직접 작성  \n"
   ]
  },
  {
   "cell_type": "markdown",
   "metadata": {},
   "source": [
    "### 💡 요소(element)  \n",
    "* <태그>내용<태그>로 표현  \n",
    "* HTML 요소는 시작 태그와 종료 태그 그리고 태그 사ㅣ에 위치한 내용으로 구성  \n",
    "    * 요소는 태그로 컨텐츠를 감싸는 것으로 그 정보의 성격과 의미를 정의  \n",
    "    * 내용이 없는 태그들도 존재(닫는 태그가 없음)\n",
    "        * br, hr, img, input, link, meta  \n",
    "<br>\n",
    "* 요소는 중첩(nested) 될 수 있음  \n",
    "    * 요소의 중첩을 통해 하나의 문서를 구조화  \n",
    "    * 여는 태그와 닫는 태그의 쌍을 잘 확인해야 함  \n",
    "        * 코드를 잘못 작성하면 오류를 반환하는 것이 아닌 그냥 레이아웃이 깨진 상태로 출력되기 때문에, 디버깅이 힘들 수 있음"
   ]
  },
  {
   "cell_type": "markdown",
   "metadata": {},
   "source": [
    "### 💡속성(attribute)\n",
    "\n",
    "```html\n",
    "<a herf=\"https://google.com\"><1/a> (중간에 1은 신경x) \n",
    "-> href라는 속성이 있으며 속성은 '='을 사용하여 표현한다  \n",
    "-> 태그별로 사용할 수 있는 속성은 다르다  \n",
    "-> href는 다음 주소로 이동하기 위해 사용 되며 쌍따옴표를 사용하고 공백은 없어야한다!  \n",
    "\n",
    "\n",
    "* 속성을 통해 태그의 부가적인 정보를 설정할 수 있음  \n",
    "* 요소는 속성을 가질 수 있으며, 경로나 크기와 같은 추가적인 정보를 제공  \n",
    "* 요소의 시작 태그에 작성하며 보통 이름과 값이 하나의 쌍으로 존재  \n",
    "* 태그와 상관없이 사용 가능한 속성(HTML Global Attribute)들도 있음  \n",
    "\n",
    "주석 : `<!-- 이것은 주석입니다. -->`   \n",
    "\n",
    "HTML Global Attribute  \n",
    "* 모든 HTML 요소가 공통적으로 사용할 수 있는 대표적인 속성(몇몇 요소에는 아무 효과가 없을 수 있음)  \n",
    "    * id : 문서 전체에서 유일한 고유 식별자 지정  \n",
    "    * class : 공백으로 구분된 해당 요소의 클래스의 목록(CSS, JS에서 요소를 선택하거나 접근)  \n",
    "    * data-* : 페이지에 개인 사용자 정의 데이터를 저장하기 위해 사용  \n",
    "    * style : inline 스타일  \n",
    "    * title : 요소에 대한 추가 정보 저장  \n",
    "    * tabindex : 요소의 탭 순서  \n",
    "    "
   ]
  },
  {
   "cell_type": "markdown",
   "metadata": {},
   "source": [
    "### 💡 시맨틱 태그  \n",
    "* HTML 태그가 특정 목적, 역할 및 의미적 가치(semantic value)를 가지는 것  \n",
    "    * 예를 들어 h1태그는 \"이 페이지에서 최상위 제목\"인 텍스트를 감사는 역할을 나타냄  \n",
    "* Non semantic 요소로는 div, span 등이 있으며 a, from, table 태그들도 시맨틱 태그로 볼 수 있음  \n",
    "* HTML5에서는 기존에 단순히 콘텐츠의 구획을 나타내기 위해 사용한 div태그를 대체하여 사용하기 위해 의미론적 요소를 담은 태그들이 추가됨  \n",
    "\n",
    "* 대표적인 태그 목록  \n",
    "    * header : 문서 전체나 섹션의 헤더\n",
    "    * nav : 내비게이션\n",
    "    * aside : 사이드에 위치한 공간, 메인 콘텐츠와 관련성이 적은 콘텐츠\n",
    "    * section : 문서의 일반적인 구분, 컨텐츠의 그룹을 표현\n",
    "    * article : 문서, 페이지, 사이트 안에서 독립적으로 구분되는 영역\n",
    "    * footer : 문서 전체나 섹션의 푸터(마지막 부분)   \n",
    "\n",
    "<br>\n",
    "\n",
    "* 시맨틱 태그를 사용 해야 하는 이유  \n",
    "    의미론적 마크업  \n",
    "    * 개발자 및 사용자 뿐만 아니라 검색엔진 등에 의미 있는 정보의 그룹을 태그로 표현  \n",
    "    * 단순히 구역을 나누는 것 뿐만 아니라 '의미'를 가지는 태그들을 활용하기 위한 노력  \n",
    "    * 요소의 의미기 명확해지기 때문에 코드의 가독성을 높이고 유지보수를 쉽게 함  \n",
    "    * 검색 엔진 최적화(SEO)를 위해서 메타태그, 시맨틱 태그 등을 통한 마크업을 효과적으로 활용해야 함"
   ]
  },
  {
   "cell_type": "markdown",
   "metadata": {},
   "source": [
    "### 💡 랜더링  \n",
    "웹사이트 코드를 사용자가 보게 되는 웹 사이트로 바꾸는 과정  \n",
    "\n",
    "* DOM(Document Object Model) 트리  \n",
    "    텍스트 파일인 HTML문서를 브라우저에서 랜더링 하기 위한 구조  \n",
    "    * HTML 문서에 대한 모델을 구성함  \n",
    "    * HTML 문서 내의 각 요소에 접근 / 수정에 필요한 프로퍼티와 메서드를 제공함"
   ]
  },
  {
   "cell_type": "markdown",
   "metadata": {},
   "source": [
    "### 💡HTML문서 구조화  \n",
    "인라인 / 블록요소  \n",
    "* HTML 요소는 크게 인라인 / 블록 요소로 나눔  \n",
    "* 인라인 요소는 글자처럼 취급  \n",
    "* 블록 요소는 한 줄 모두 사용\n",
    "  \n",
    "  \n",
    "텍스트 요소  \n",
    "```html\n",
    "* <a></a> : herf 속성을 활용하여 다른 UTL로 연결하는 하이퍼링크 생성  \n",
    "* <b></b> 또는 <strong></strong> : 굵은 글씨 요소  \n",
    "* <i></i> 또는 <em></em> : 기울임 글씨 요소  \n",
    "* <br> : 텍스트 내에 줄 바꿈 생성  \n",
    "* <img> : scr 속성을 활용하여 이미지 표현  \n",
    "* <span></span> : 의미없는 인라인 컨테이너  \n",
    "```\n",
    "\n",
    "그룹 컨텐츠  \n",
    "```html\n",
    "* <p></p> : 하나의 문단 (paragraph)  \n",
    "* <hr> : 문단 레벨 요소에서의 주제의 분리를 의미하며 수평선으로 표현됨\n",
    "* <ol></ol> / <ul></ul> : 순서가 있는 리스트 / 순서가 없는 리스트\n",
    "* <pre></pre> : HTML에 작성한 내용을 그대로 표현. 보통 고정폭 글꼴이 사용되고 공백 문자를 유지  \n",
    "* <blockquote></blockquote> : 텍스트가 긴 인용문. 주로 들여쓰기를 한 것으로 표현됨  \n",
    "* <div></div> : 의미 없는 블록 컨테이너  \n",
    "```\n"
   ]
  },
  {
   "cell_type": "markdown",
   "metadata": {},
   "source": [
    "### 💡form  \n",
    "```html\n",
    "* <form>은 정보(데이터)를 서버에 제출하기 위해 사용하는 태그 ex)로그인창  \n",
    "\n",
    "* <form>의 기본 속성 \n",
    "    * action : form을 처리할 서버의 URL(데이터를 보낼 곳)  \n",
    "    * method : form을 제출할 때 사용할 HTTP메서드(GET 혹은 POST)  \n",
    "    * enctype : method가 post인 경우 데이터의 유형  \n",
    "        * application/x-www-form-urlencoded : 기본값  \n",
    "        * multipart/form-data : 파일 전송시 (inout type이 file인 경우)  \n",
    "```\n",
    "\n",
    "input  \n",
    "* 다양한 타입을 가지는 입력 데이터 유형과 위젯이 제공됨  \n",
    "\n",
    "input label  \n",
    "* label을 클릭하여 input 자체의 초점을 맞추거나 활성화 시킬 수 있음  \n",
    "    * 사용자는 선택할 수 있는 영역이 늘어나 웹 / 모바일 환경에서 편하게 사용할 수 있음  \n",
    "    * label과 input 입력의 관계가 시각적 뿐만 아니라 화면리더기에서도 label을 읽어 쉽게 내용을 확인 할 수 있도록 함  \n",
    "* `<input>에 id 속성을, <label>`에는 for 속성을 활용하여 상호 연관을 시킴\n",
    "\n"
   ]
  },
  {
   "cell_type": "markdown",
   "metadata": {},
   "source": [
    "### 💡input 유형  \n",
    "\n",
    "일반   \n",
    "* 일반적으로 입력을 받기 위하여 제공되며 타입별로 HTML 기본 검증 혹은 추가 속성을 활용할 수 있음 \n",
    "    * text : 일반 텍스트 입력\n",
    "    * password : 입력 시 값이 보이지 않고 문자를 특수기호(*)로 표현\n",
    "    * email : 이메일 형식이 아닌 경우 form 제출 불가\n",
    "    * number : min, max, step 속성을 활용하여 숫자 범위 설정 가능\n",
    "    * file : accept 속성을 활용하여 파일 타입 지정 가능\n",
    "\n",
    "항목 중 선택  \n",
    "* 일반적으로 label 태그와 함께 사용하여 선태 ㄱ항목을 작성함  \n",
    "* 동일 항목에 대하여는 name을 지정하고 선택된 항목에 대한 value를 지정해야 함  \n",
    "    * checkbox : 다중 선택  \n",
    "    * radio : 단일 선택\n",
    "\n",
    "기타  \n",
    "* 다양한 종류의 input을 위한 picker를 제공  \n",
    "    * color : color picker  \n",
    "    * date : date picker  \n",
    "* hidden input을 활용하여 사용자 입력을 받지 않고 서버에 전송되어야 하는 값을 설정  \n",
    "    * hidden : 사용자에게 보이지 않는 input  \n",
    "\n",
    "`input 요소의 동작은 type에 따라 달라지므로 각각 내용을 숙지해야 함`"
   ]
  },
  {
   "cell_type": "markdown",
   "metadata": {},
   "source": [
    "---\n",
    "## CSS"
   ]
  },
  {
   "cell_type": "markdown",
   "metadata": {},
   "source": [
    "### 💡CSS(Cascading Style Sheets)  \n",
    "\n",
    "* 스타일을 지정하기 위한 언어  \n",
    "* 선택하고, 스타일을 지정한다.  \n",
    "\n",
    "h1 {  \n",
    "    color : blue;  \n",
    "    font-size: 15px;  \n",
    "}  \n",
    "\n",
    "=> 선택자로 h1을 적용하고 폰트사이즈와 컬러같은 속성에 값을 준다."
   ]
  },
  {
   "cell_type": "markdown",
   "metadata": {},
   "source": [
    "### 💡CSS 정의 방법  \n",
    "```html\n",
    "* 인라인(inline)\n",
    "인라인을 쓰게 되면 실수가 잦아짐(중복도 있고 찾기가 어려워서)   \n",
    "* 내부 참조(embedding)-<style>  \n",
    "코드가 복잡해짐  \n",
    "* 외부 참조(line file) - 분리된 CSS파일 사용  \n",
    "가장 많이 사용하는 방법\n",
    "```\n",
    "\n",
    "선택자의 우선순위에 따라 CSS가 적용됨  \n",
    "\n",
    "CSS with 개발자 도구  \n",
    "* styles : 해당 요소에 선언된 모든 CSS  \n",
    "* computed : 해당 요소에 최종 계산된 CSS"
   ]
  },
  {
   "cell_type": "code",
   "execution_count": null,
   "metadata": {},
   "outputs": [],
   "source": []
  },
  {
   "cell_type": "markdown",
   "metadata": {},
   "source": [
    "### 💡선택자 유형 \n",
    "* 기본 선택자  \n",
    "    * 전체 선택자, 요소 선택자  \n",
    "    * 클래스 선택자, 아이디 선택자, 속성 선택자  \n",
    "    * 요소 > 클래스 > 아이디 순으로 범위가 좁아짐   \n",
    "    <br>\n",
    "    \n",
    "* 결합자(combinators)  \n",
    "    * 자손 결합자, 자식 결합자  \n",
    "    * 일반 형제 결합자, 인접 형제 결합자  \n",
    "    <br>\n",
    "\n",
    "\n",
    "* 의사 클래스/요소(Pseudo Class)  \n",
    "    * 링크, 동적 의사 클래스  \n",
    "    * 구조적 의사 클래스, 기타 의사 클래스, 의사 엘리먼트, 속성 선택자  \n",
    "\n",
    "선택자 with 개발자 도구  \n",
    "-> 선택자도 마찬가지로 개발자 도구에서 활용할 수 있음\n"
   ]
  },
  {
   "cell_type": "markdown",
   "metadata": {},
   "source": [
    "### 💡선택자 정리  \n",
    "* 요소 선택자\n",
    "    * HTML 태그를 직접 선택  \n",
    "    <br>\n",
    "* 클래스 선택자  \n",
    "    * 마침표(.)문자로 시작하며, 해당 클래스가 적용된 항목을 선택  \n",
    "    <br>\n",
    "    \n",
    "* 아이디 선택자\n",
    "    * (#) 문자로시작하며, 해당 아이디가 적용된 항목을 선택  \n",
    "    * 일반적으로 하나의 문서에 1번만 사용  \n",
    "    * 여러번 사용해도 동작하지만, 단일 id를 사용하는 것을 권장"
   ]
  },
  {
   "cell_type": "markdown",
   "metadata": {},
   "source": [
    "### 💡CSS 적용 우선순위 (cascading order)  \n",
    "* CSS 우선순위를 아래와 같이 그룹을 지어볼 수 있다  \n",
    "    * 1. 중요도(Importance) - tkdydwk wndml  \n",
    "        * !Important\n",
    "    * 2. 우선순위 (Specificity)  \n",
    "        * 인라인 > id > class, 속성, pseudo-class > 요소, pseudo-element  \n",
    "    * 3. CSS 파일 로딩 순서"
   ]
  },
  {
   "cell_type": "markdown",
   "metadata": {},
   "source": [
    "### 적용 순서 예시\n",
    "h2 {\n",
    "    color : darkviolet !important;\n",
    "}\n",
    "\n",
    "p {\n",
    "    color: orange;\n",
    "}\n",
    "\n",
    ".blue {\n",
    "    color : blue;\n",
    "}\n",
    "\n",
    ".green {\n",
    "    color: green;\n",
    "}\n",
    "\n",
    "#red {\n",
    "    color : red;\n",
    "}\n",
    "\n",
    "```html\n",
    "<p>1</p> # 아무 클래스나 아이디가 없으므로 orange  \n",
    "<p class=\"blue\">2</p> #클래스가 블루니까 blue  \n",
    "<p class=\"blue green\">3</p> # CSS가 밑에 있는 애가 이김. 블루 그린 이거 순서는 상관이 없음  \n",
    "<p class=\"green blue\">3</p> # CSS가 밑에 있는 애가 이김  \n",
    "<p id=\"red\" class=\"blue\">5</p> # 클래스와 id가 붙으면 id가 이긴다\n",
    "<h2 id=\"red\" class=\"blue\">6</h2> # important가 붙으면 얘가 이김  \n",
    "<p id=\"red\" class=\"blue\" style=\"color:yellow;\">7</h2> # 인라인이 있든말든 important가 붙으면 얘가 이김  \n",
    "<h2 id=\"red\" class=\"blue\" style=\"color: yello;\">8</h2> # 얘도 마찬가지로 important가 있는 h2이므로 darkviolet\n"
   ]
  },
  {
   "cell_type": "markdown",
   "metadata": {},
   "source": [
    "### 💡CSS 상속  \n",
    "* CSS 상속을 통해 부모 요소의 속성을 자식에게 상속한다.  \n",
    "    * 속성(프로퍼티) 중에는 상속이 되는 것과 되지 않는 것들이 있다.  \n",
    "    * 상속 되는 것 예시  \n",
    "    예) Text 관련 요소(font, colot, text-align), opacity, visibility 등  \n",
    "    * 상속 되지 않는 것 예시  \n",
    "    예) Box model 관련 요소(width, height, margin, padding, border, box-sizing, display), position 관련 요소(position, top/right/bottom/left, z-index) 등"
   ]
  },
  {
   "cell_type": "markdown",
   "metadata": {},
   "source": [
    "### 💡크기 단위  \n",
    "* px(픽셀)  \n",
    "    * 모니터 해상도의 한 화소인 '픽셀' 기준  \n",
    "    * 픽셀의 크기는 변하지 않기 때문에 고정적인 단위  \n",
    "\n",
    "* %  \n",
    "    * 백분율 단위  \n",
    "    * 가변적인 레이아웃에서 자주 사용  \n",
    "\n",
    "* em  \n",
    "    * (바로 위, 부모 요소에 대한) 상속의 영향을 받음  \n",
    "    * 배수 단위, 요서에 지정된 사이즈에 상대적인 사이즈를 가짐(ex.부모의 0.5배)  \n",
    "\n",
    "* rem  \n",
    "    * (바로 위, 부모 요소에 대한) 상속의 영향을 받지 않음  \n",
    "    * 최상위 요소(html)의 사이즈를 기준으로 배수 단위를 가짐  \n",
    "\n",
    "* viewport  \n",
    "    * 웹 페이지를 방문한 유저에게 바로 보이게 되는 웹 컨텐츠의 영역(디바이스 화면)  \n",
    "    * 디바이스의 viewport를 기중으로 상대적인 사이즈가 결정됨  \n",
    "    * vw, vh, vmin, vmax"
   ]
  },
  {
   "cell_type": "markdown",
   "metadata": {},
   "source": [
    "### 💡색상 단위  \n",
    "* 색상 키워드  \n",
    "    * 대소문자를 구분하지 않음  \n",
    "    * red, blue, black과 같은 특정 색을 직접 글자로 나타냄  \n",
    "\n",
    "* RGB 색상  \n",
    "    * 16진수 표기법 혹은 함수형 표기법을 사용해서 특정 색을 표현하는 방법  \n",
    "\n",
    "* HSL 색상  \n",
    "    * 색상, 채도, 명도를 통해 특정 색을 표현하는 방식   \n",
    "\n",
    "* a는 alpha 투명도"
   ]
  },
  {
   "cell_type": "markdown",
   "metadata": {},
   "source": [
    "### 💡결합자 (Combinations)  \n",
    "* 자손 결합자(공백)  \n",
    "    * selectorA 하위의 모든 selectorB 요소  \n",
    "\n",
    "* 자식 결합자(>)  \n",
    "    * selectorA 바로 아래의 selectorB 요소  \n",
    "\n",
    "* 일반 형제 결합자(~)  \n",
    "    * selectorA의 형제 요소 중 뒤에 위치하는 selectorB 요소를 모두 선택  \n",
    "    \n",
    "* 인접 형제 결합자(+)  \n",
    "    * selectorA의 형제 요소 중 바로 뒤에 위치하는 selectorB 요소를 선택"
   ]
  },
  {
   "cell_type": "markdown",
   "metadata": {},
   "source": [
    "### 💡CSS 원칙 1  \n",
    "\n",
    "모든 요소는 네모(박스모델)이고, 위에서부터 아래로, 왼쪽에서 오른쪽으로 쌓인다.  \n",
    "(좌측 상단에 배치)  \n",
    "\n",
    "Box model  \n",
    "* 모든 HTML 요소는 box 형태로 되어있음  \n",
    "* 하나의 박스는 네 부분으로 이루어짐  \n",
    "    * margin : 테두리 바깥의 외부 여백. 배경색을 지정할 수 없다\n",
    "    * border : 테두리 영역\n",
    "    * padding : 글이나 이미지 등 요소의 실제 내용\n",
    "    * content : 테두리 안쪽의 내부여백. 요소에 적용된 배경색. 이미지는 padding까지 적용\n",
    "\n",
    "값이 4개면 상우좌하 방향으로 감 / 값이 3개면 상 좌우 하 / 2개면 상하 좌우  \n",
    "\n",
    "box-sizing  \n",
    "* 기본적으로 모든 요소의 box-sizing은 content-box  \n",
    "    * Padding을 제외한 순수 contents 영역만을 box로 지정  \n",
    "* 다만, 우리가 일반적으로 영역을 볼 때는 border까지의 너비를 100px 보는 것을 원함  \n",
    "    * 그 경우 box-sizing을 border-box로 설정"
   ]
  },
  {
   "cell_type": "markdown",
   "metadata": {},
   "source": [
    "### 💡 CSS 원칙 2  \n",
    "\n",
    "모든 요소는 네모(박스모델)이고 좌측 상단에 배치.  \n",
    "`display에 따라 크기와 배치가 달라진다` \n",
    "\n",
    "대표적으로 활용되는 display  \n",
    "* display : block #블록처럼 한줄한줄 차지하며 쌓임  \n",
    "    * 줄 바꿈이 일어나는 요소  \n",
    "    * 화면 크기 전체의 가로 폭을 차지한다.  \n",
    "    * 블록 레벨 요소 안에 레벨 요소가 들어갈 수 있음  \n",
    "\n",
    "* display : inline #글자처럼 취급  \n",
    "    * 줄 바꿈이 일어나지 않는 행의 일부 요소  \n",
    "    * content 너비만큼 가로 폭을 차지한다  \n",
    "    * width, height, margin-top, margin-bottom을 지정할 수 없다.  \n",
    "    * 상하 여백은 line-height로 지정한다.  \n",
    "\n",
    "* none  \n",
    "    * 해당 요소를 화면에 표시하지 않고, 차지할 공간조차 부여하지 않는다.\n",
    "\n",
    "* inline-block\n",
    "\n",
    "블록 레벨 요소와 인라인 레벨 요소 \n",
    "* 블록 레벨 요소와 인라인 레벨 요소 구분(HTML 4.1까지)  \n",
    "* 대표적인 블록 레벨 요소 (div / ul, ol, li / p / hr/ form 등)  \n",
    "* 대표적인 인라인 레벨 요소 (span / a / img / input, label / b em, i, strong 등)"
   ]
  },
  {
   "cell_type": "markdown",
   "metadata": {},
   "source": [
    "### 💡CSS position  \n",
    "* 문서 상에서 요소의 위치를 지정  \n",
    "* static : 모든 태그의 기본 값(기준 위치)  \n",
    "    * 일반적인 요소의 배치 순서에 따름(좌측 상단)  \n",
    "    * 부모 요소 내에서 배치될 때는 부모 요소의 위치를 기준으로 배치 됨  \n",
    "\n",
    "* 아래는 좌표 프로퍼티(top, bottom, left, right)를 사용하여 이동 가능  \n",
    "    1. relative : 상대 위치  \n",
    "    * 자기 자신의 static 위치를 기준으로 이동(normal flow 유지)  \n",
    "    * 레이아웃에서 요소가 차지하는 공간은 static일 때와 같음 (normal position 대비 offset)  \n",
    "    <br>\n",
    "\n",
    "    2. absolute : 절대 위치  \n",
    "    * 요소를 일반적인 문서 흐름에서 제거 후 레이아웃에 공간을 차지하지 않음 (normal flow에서 벗어남)  \n",
    "    * static이 아닌 가장 가까이에 있는 부모/조상 요소를 기준으로 이동 (없는 경우 브라우저 화면 기준으로 이동)  \n",
    "    <br>\n",
    "\n",
    "    3. fixed : 고정위치  \n",
    "    * 요소를 일반적인 문서 흐름에서 제거 후 레이아웃에 공간을 차지하지 않음(normal flow에서 벗어나 Viewport 기준으로 위치)  \n",
    "    * 부모 요소와 관계 없이 viewport를 기준으로 이동  \n",
    "        * 스크롤 시에도 항상 같은 곳에 위치함    \n",
    "        <br>\n",
    "        \n",
    "    4. sticky : 스크롤에 따라 static -> fixed로 변경  \n",
    "    * 속성을 적용한 박스는 평소에 문서 안에서 position: static 상태와 같이 일반적인 흐름에 따르지만 스크롤 위치가 임계점에 이르면 position: fixed와 같이 박스를 화면에 고정할 수 있는 속성"
   ]
  },
  {
   "cell_type": "markdown",
   "metadata": {},
   "source": []
  }
 ],
 "metadata": {
  "kernelspec": {
   "display_name": "Python 3.10.5 64-bit",
   "language": "python",
   "name": "python3"
  },
  "language_info": {
   "name": "python",
   "version": "3.10.5"
  },
  "orig_nbformat": 4,
  "vscode": {
   "interpreter": {
    "hash": "fb4569285eef3a3450cb62085a5b1e0da4bce0af555edc33dcf29baf3acc1368"
   }
  }
 },
 "nbformat": 4,
 "nbformat_minor": 2
}
