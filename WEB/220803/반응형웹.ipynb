{
 "cells": [
  {
   "cell_type": "markdown",
   "metadata": {},
   "source": [
    "## Today I Learned  "
   ]
  },
  {
   "cell_type": "markdown",
   "metadata": {},
   "source": [
    "---\n",
    "### CSS LAYOUT"
   ]
  },
  {
   "cell_type": "markdown",
   "metadata": {},
   "source": [
    "### 💡Float  \n",
    "* 박스를 왼쪽 혹은 오른쪽으로 이동시켜 텍스트를 포함한 인라인 요소들이 주변을 wrapping 하도록 함  \n",
    "* 요소가 Normal flow를 벗어나도록 함  \n",
    "\n",
    "Float 속성  \n",
    "* none : 기본값  \n",
    "* left : 요소를 왼쪽으로 띄움  \n",
    "* right : 요소를 오른쪽으로 띄움"
   ]
  },
  {
   "cell_type": "markdown",
   "metadata": {},
   "source": [
    "### 💡 CSS Flexible Box Layout\n",
    "\n",
    "* 행과 열 형태로 아이템을 배치하는 1차원 레이아웃 모델  \n",
    "* 축  \n",
    "    * main axis(메인 축)\n",
    "    * cross axis(교차 축)  \n",
    "<br>\n",
    "\n",
    "* 구성요소  \n",
    "    * Flex Container(부모 요소) 여기에 flex를 적용시켜야 함\n",
    "    * Flex item(자식 요소)\n",
    "\n",
    "* 부모 요소에 적용 가능한 요소  \n",
    "    * display : flex;(자식 요소들에게 flex 형태로 배치하도록 하는 속성)  \n",
    "    * flex-direction : \n",
    "        * row : 왼쪽에서 오른쪽으로  \n",
    "        * row-reverse : 오른쪽에서 왼쪽으로  \n",
    "        * column : 위에서 아래로  \n",
    "        * column-reverse : 아래에서 위로  \n",
    "    * flex-wrap : 컨테이너(부모요소)가 자식 요소들을 담을 여유공간이 없을때 어떻게 처리할지   \n",
    "        * nowrap : 기본값 (줄바꿈을 하지 않음)\n",
    "        * wrap : 줄바꿈을해서 inline-block 처럼 표현한다.\n",
    "    * justify-content : 메인축 방향으로 아이템 등을 정렬하는 속성\n",
    "    * aligin-content : 교차축 방향 아이템들을 정렬하는 속성"
   ]
  },
  {
   "cell_type": "markdown",
   "metadata": {},
   "source": [
    "### 💡Flex 속성 자세한 설명  \n",
    "* 배치설정  \n",
    "    * flex-direction(row, column 기본값은 row)\n",
    "        * Main axis 기준 방향 설정  \n",
    "        * 역방향의 경우 HTML 태그 선언 순서와 시각적으로 다르니 유의(웹 접근성에 영향)  \n",
    "        <br>\n",
    "    * flex-wrap  \n",
    "        * 아이템이 컨테이너를 벗어나는 경우 해당 영역 내에 배치되도록 설정  \n",
    "        * 즉, 기본적으로 컨테이너 영역을 벗어나지 않도록 함  \n",
    "        * wrap으로하면 설정한 크기대로 하고 줄바꿈을 통해 다 넣음. nowrap으로하면 크기를 줄여서 한 줄 안에 넣음  \n",
    "        * wrap-reverse를 통해 wrap된 아이템들을 뒤집을 수도 있음!\n",
    "    <br>\n",
    "    * flox-flow  \n",
    "        * flex-direction과 flex-wrap의 shorthand  \n",
    "        * flex-direction과 flex-wrap에 대한 설정 값을 차례로 작성  \n",
    "        * 예시) flex-flow : row nowrap;\n",
    "        <br>\n",
    "<br>\n",
    "* 공간 나누기  \n",
    "    * justify-content(main axis)  \n",
    "        * flex-start : 좌측 정렬  \n",
    "        * flex-end : 우측 정렬(row-reverse처럼 뒤집는게 아님!)   \n",
    "        * center : 가운데 정렬   \n",
    "        * space-between : 위쪽 끝, 아래쪽 끝에서 시작해서 아이템들을 공백으로 띄워서 채운다   \n",
    "        * space-around : 아이템을 둘러싸고있는 양쪽의 여백을 같게 함  \n",
    "        1아이템11아이템11아이템1  \n",
    "        * space-evenly : 아이템의 크기와 여백의 크기를 똑같게 함(양끝에서 부터 아이템이 시작하지 않음!)   \n",
    "        1아이템1아이템1아이템1  \n",
    "\n",
    "    * align-content(cross axis) : cross axis 기준으로 위에 내용들과 똑같음!\n",
    "<br>\n",
    "* 정렬  \n",
    "    * align-items(모든 아이템을 cross axis 기준으로)    \n",
    "        * stretch : 세로로 길이를 모두 채움  \n",
    "        * flex-start : 윗줄에 맞춤  \n",
    "        * flex-end : 아래에 맞춤  \n",
    "        * center : 수직 기준 가운데에 맞춤  \n",
    "        * baseline : 아이템 크기가 아닌 글자 선으로 맞춤  \n",
    "<br>\n",
    "    * align-self(개별 아이템이 자기 자신을 어디에 위치시킬지 cross axis 기준으로 정렬. `컨테이너에 적용x 개별아이템에 적용`)  \n",
    "    주의! 해당 속성은 컨테이너에 적용하는 것이 아니라 개발 아이템에 적용    \n",
    "        * stretch : 위와 동일\n",
    "        * flex-start :\n",
    "        * flex-end :\n",
    "        * center :  \n",
    "\n",
    "<br>\n",
    "    * 기타속성  \n",
    "        * flex-grow : 남은 영역을 아이템에 분배  \n",
    "        * order : 배치 순서. -1주면 맨 앞으로 옴..!아마두   \n",
    "        <br>  \n",
    "\n",
    "💥 main축은 justify로 바꾸고 cross축은 align으로 바꾼다.  \n",
    "main이 가로로 고정되어있는게 아니기때문에 시점에 따라 justify도 세로로 움직일 수도 있다! 조심조심!  \n"
   ]
  },
  {
   "cell_type": "markdown",
   "metadata": {},
   "source": [
    "---\n",
    "\n",
    "## Bootstrap"
   ]
  },
  {
   "cell_type": "markdown",
   "metadata": {},
   "source": [
    "### 💡spacing (Margin and padding)\n",
    "\n",
    "CSS를 처음부터 다 설계하고 적용하는게 아니라 미리 정의된 클래스들을 통해서 적용하고싶은 CSS 속성들을 빠르게 사용할 수 있게 해주는 라이브러리  \n",
    "\n",
    "항상 bootstrap의 link와 script 코드를 붙여놔야 사용가능  \n",
    "\n",
    "`{property}{sides}-{size}  ==> mt-3(margin top 3)  `\n",
    "\n",
    "property\n",
    "* margin과 padding 중 하나. m 또는 p\n",
    "\n",
    "sides (CSS : style=\"margin-top:30px\")  \n",
    "* t : top\n",
    "* b : botton \n",
    "* s : left \n",
    "* e : right\n",
    "* x : 가로 left, right  \n",
    "* y : 세로 top bottom  \n",
    "* blank : 4방향 모두\n",
    "\n",
    "size   \n",
    "1rem = 16px  \n",
    "* 0 : margin 혹은 padding을 안줌  \n",
    "* 1 : 0.25rem (4px)  \n",
    "* 2 : 0.5rem (8px)  \n",
    "* 3 : 1rem (16px)  \n",
    "* 4 : 1.5rem (24px)  \n",
    "* 5 : 3rem (48px)  \n",
    "* auto : 양옆에 알아서 채워주는 것  \n",
    "\n",
    "💥 margin 위아래 16px ==>  my-3 이 되는 것!!  \n",
    "💥 mx-0 => 좌우 margin이 0  \n",
    "💥 mx-auto => 가로 가운데 정렬  \n",
    "💥오른쪽정렬을 하고싶으면 ms-auto => 왼쪽에 여백을 줘야하기 때문에 s!  \n",
    "```html\n",
    "=\n",
    "<div class=\"ms-auto box\">ms-auto/오른쪽정렬</div>\n",
    "```   \n",
    "\n",
    "CSS의 적용우선순위를 따지지 않아도되고 선택자를 주지 않아도된다는 장점이 있음!"
   ]
  },
  {
   "cell_type": "markdown",
   "metadata": {},
   "source": [
    "### 💡 다양한 Class 예시\n",
    "```html\n",
    "    <div class=\"bg-danger\">이건 빨강</div> <!--배경색 주기-->\n",
    "    <p class=\"text-success\">이건 초록색</p> <!--글자색 주기-->\n",
    "    <a href=\"#\" class=\"text-decoration-none text-dark\">Non-underline-link</a>\n",
    "    <!--주소에 언더바를 빼고싶을때 사용-->\n",
    "    <p class=\"fw-bold\">Bold text</p> <!--볼드체-->\n",
    "    <p class=\"fw-normal\">Normal weight text</p> <!--보통-->\n",
    "    <p class=\"fw-light\">Light weight</p> <!--얇은글씨-->\n",
    "    <p class=\"fst-italic\">Italic text</p> <!--기울임-->\n",
    "```"
   ]
  },
  {
   "cell_type": "markdown",
   "metadata": {},
   "source": [
    "### 💡Display, Position \n",
    "\n",
    "d-inline  \n",
    "d-block 으로 사용  \n",
    "\n",
    "```html\n",
    "    <h2>Position</h2>\n",
    "    <div class=\"box fixed-top\">fixed-top</div>\n",
    "    <div class=\"box fixed-bottom\">fixed.bottom</div>\n",
    "\n",
    "    <button type=\"button\" class=\"btn btn-primary position-relative\">\n",
    "        Mails <span class=\"position-absolute top-0 start-100 translate-middle badge rounded-pill bg-secondary\">+99 <span class=\"visually-hidden\">unread messages</span></span>\n",
    "    </button>\n",
    "\n",
    "    <div class=\"bigbox position-relative\">\n",
    "        <div class=\"box position-absolute top-0 srart-0\">top0/start0</div>\n",
    "        <div class=\"box position-absolute top-0 end-0\">top0/end0</div>\n",
    "        <div class=\"box position-absolute bottom-0 srart-0\">bottom0/start0</div>\n",
    "        <div class=\"box position-absolute bottom-0 end-0\">bottom0/end0</div>\n",
    "    </div>\n",
    "\n",
    "\n",
    "    <h2>Display</h2>\n",
    "    <div class=\"d-inline p-2 text-bg-primary\">d-inline</div>\n",
    "    <div class=\"d-inline p-2 text-bg-dark\">d-inline</div>\n",
    "    <div class=\"d-noe p-2 text-bg-dark\">d-inline</class=>\n",
    "```"
   ]
  },
  {
   "cell_type": "markdown",
   "metadata": {},
   "source": [
    "### ✔️주의\n",
    "* 팝업과 모달 차이 : 팝업은 x를 눌러야만 꺼지지만 모달은 다른 곳을 눌러도 그냥 꺼짐!  \n",
    "* 모달은 중첩되어있으면 안됨!\n",
    "* 반응형 웹 : grid card의 \"row row-cols-1 row-cols-md-3 g-4\" Class를 사용해서 만들 수 있음!"
   ]
  },
  {
   "cell_type": "markdown",
   "metadata": {},
   "source": [
    "### 💡bootstrap의 breakpoint  \n",
    "\n",
    "\n",
    "사용자가 보고 있는 브라우저의 크기에 따라 다른 모양을 볼 수 있도록 해주는 속성. 반응형 웹을 구현하기 위해 사용된다.  \n",
    "sm  md  lg  "
   ]
  },
  {
   "cell_type": "markdown",
   "metadata": {},
   "source": [
    "### 💡Responsive Wev Design \n",
    "* 다양한 화면 크기를 가진 디바이스들이 등장함에 따라 위 개념이 등장  \n",
    "* 반응형 웹은 별도의 기술 이름이 아닌 웹 디자인에 대한 접근 방식, 반응형 레이아웃 작성에 도움이 되는 사례들의 모듬 등을 기술하는데 사용되는 용어\n"
   ]
  },
  {
   "cell_type": "markdown",
   "metadata": {},
   "source": [
    "### 💡Grid System  \n",
    "* 요소들의 디자인과 배치에 도움을 주는 시스템  \n",
    "* flex를 이용해서 구현된어있다.  \n",
    "\n",
    "* 기본요소  \n",
    "    * Column : 실제 컨텐츠를 포함하는 부분  \n",
    "    * Gutter : 컬럼과 컬럼 사이의 공간(사이 간격)  \n",
    "    * Container : Column들을 담고 있는 공간으로 div에 만ㄷ르어준다.  \n",
    "<br>\n",
    "\n",
    "* 한 줄은 12개의 column으로 구성된다. => 한줄을 12등분 했다.\n"
   ]
  },
  {
   "cell_type": "markdown",
   "metadata": {},
   "source": []
  }
 ],
 "metadata": {
  "kernelspec": {
   "display_name": "Python 3.10.5 64-bit",
   "language": "python",
   "name": "python3"
  },
  "language_info": {
   "name": "python",
   "version": "3.10.5"
  },
  "orig_nbformat": 4,
  "vscode": {
   "interpreter": {
    "hash": "fb4569285eef3a3450cb62085a5b1e0da4bce0af555edc33dcf29baf3acc1368"
   }
  }
 },
 "nbformat": 4,
 "nbformat_minor": 2
}
