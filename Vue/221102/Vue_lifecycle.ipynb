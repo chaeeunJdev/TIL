{
 "cells": [
  {
   "cell_type": "markdown",
   "metadata": {},
   "source": [
    "## 뷰 라이프 사이클\n",
    "\n",
    "1. created : 뷰 인스턴스 초기화\n",
    "   - 뷰의 컴포넌트에는 접근이 불가능한 단계, 화면에 필요한 데이터만 초기화한다.\n",
    "   - 실행 순서 : 상위 컴포넌트 => 하위 컴포넌트\n",
    "\n",
    "\n",
    "2. mounted : 컴포넌트를 렌더링하는 단계 \n",
    "   - 컴포넌트에 접근이 가능해진다.\n",
    "   - 실행 순서 : 하위 컴포넌트 => 상위컴포넌트\n",
    "\n",
    "\n",
    "3. updated : 컴포넌트의 속성들에서 변경이 일어났다거나 또는 어떤 이유로 컴포넌트의 재 렌더링이 일어난 경우에 실행\n",
    "\n",
    "\n",
    "4. distroyed : 뷰 인스턴스가 제거되는 단계"
   ]
  }
 ],
 "metadata": {
  "language_info": {
   "name": "python"
  },
  "orig_nbformat": 4
 },
 "nbformat": 4,
 "nbformat_minor": 2
}
