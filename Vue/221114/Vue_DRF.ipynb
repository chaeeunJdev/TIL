{
 "cells": [
  {
   "cell_type": "markdown",
   "metadata": {},
   "source": [
    "# Today I Learned"
   ]
  },
  {
   "cell_type": "markdown",
   "metadata": {},
   "source": [
    "### 💡Server & Client\n",
    "\n",
    "Server\n",
    "- 클라이언트에게 정보와 서비스를 제공하는 컴퓨터 시스템\n",
    "- 서비스 전체를 제공 ==> Django Web Service\n",
    "  - Django를 통해 전달받은 HTML에는 하나의 웹 페에지를 구성할 수 있는 모든 데이터가 포함\n",
    "- 정보를 제공 ==> DRF API Service\n",
    "\n",
    "Client\n",
    "- Server가 제공하는 서비스에 적절한 요청을 통해 Server로부터 반환 받은 응답을 사용자에게 표현하는 기능을 가진 프로그램 혹은 시스템\n"
   ]
  },
  {
   "cell_type": "markdown",
   "metadata": {},
   "source": [
    "### 💡CORS(Cross-Orogin Resource Sharing)\n",
    "\n",
    "발생이유\n",
    "- 브라우저가 요청을 보내고 서버의 응답이 브라우저에 도착\n",
    "  - server의 log는 200 반환\n",
    "  - 즉 서버는 정상적으로 응답했지만 브라우저가 막은 것\n",
    "- 보안상의 이유로 브라우저는 동일 출처 정책(SOP)에 의해 다른 출처의 리소스와 상호작용 하는 것을 제한 함\n",
    "\n",
    "\n",
    "SOP(Same-Origin Policy)\n",
    "- 동일 출처 정책\n",
    "- 불러온 문서나 스크립트가 다른 출처에서 가져온 리소스와 상호작용 하는 것을 제한하는 보안 방식\n",
    "- 잠재적으로 해로울 수 있는 문서를 분리함으로써 공격받을 수 있는 경로를 줄임\n",
    "\n",
    "\n",
    "Origin-출처\n",
    "- URL의 Protocol, Host, Port를 모두 포함하여 출처라고 부름\n",
    "\n",
    "\n",
    "CORS - 교차 출처 리소스 공유\n",
    "- 추가 HTTP Header를 사용하여, 특정 출처에서 실행 중인 웹 어플리케이션이 다른 출처의 자원에 접근할 수 있는 권한을 부여하도록 브라우저에 알려주는 체제\n",
    "  - 어떤 출처에서 자신의 컨텐츠를 불러갈 수 있는지 서버에 지정할 수 있는 방법\n",
    "- 리소스가 자신의 출처와 다른 때 교차 출처 HTTP 요청을 실행\n",
    "  - 만약 다른 출처의 리소스를 가져오기 위해서는 이를 제공하는 서버가 브라우저에게 다른 출처지만 접근해도 된다는 사실을 알려야 함\n",
    "- CORS 표준에 의해 추가된 HTTP Response Header를 통해 이를 통제 가능"
   ]
  },
  {
   "cell_type": "markdown",
   "metadata": {},
   "source": [
    "### 💡 인증 여부 확인 방법\n",
    "\n",
    "- 우리가 사용할 방법은 DRF가 기본으로 제공해주는 인증 방식 중 하나인 TokenAuthentication\n",
    "- 모든 상황에 대한 인증 방식을 정의 하는 것이므로, 각 요청에 따라 다른 인증 방식을 거치고자 한다면 다른 방식이 필요\n",
    "\n",
    "\n",
    "TokenAuthentication\n",
    "- 매우 간단하게 구현할 수 있음\n",
    "- 기본적인 보안 기능 제공\n",
    "- 다양한 외부 패키지가 있음\n",
    "- 중요! settings.py에서 DEFAULT_AUTHENTICATIOM_CLASSES를 정의\n",
    "  - TokenAuthentication 인증방식을 사용하겠음을 명시\n",
    "- 생성한 Token을 각 User에게 발급 및 이 Token을 통해 User의 인증 및 권한 확인\n",
    "- User는 발급 받은 Token을 headers에 담아 요청과 함께 전송\n",
    "  - 단 반드시 Token 문자열 함께 삽입\n",
    "  - 삽입해야 할 문자열은 각 인증 방식마다 다름\n",
    "- 주의) Token 문자열과 발급받은 실제 token 사이를 ' '(공백)으로 구분"
   ]
  },
  {
   "cell_type": "markdown",
   "metadata": {},
   "source": [
    "### 💡Dj-Rest-Auth\n",
    "\n",
    "- 회원가입, 인증, 비밀번호 재설정 등을 위한 REST API end point 제공\n",
    "- 주의!) `django-rest-auth는 더 이상 업데이트를 지원하지 않으므로 꼭 dj-rest-auth사용`"
   ]
  },
  {
   "cell_type": "markdown",
   "metadata": {},
   "source": []
  }
 ],
 "metadata": {
  "language_info": {
   "name": "python"
  },
  "orig_nbformat": 4
 },
 "nbformat": 4,
 "nbformat_minor": 2
}
