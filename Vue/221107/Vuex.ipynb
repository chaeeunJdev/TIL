{
 "cells": [
  {
   "cell_type": "markdown",
   "metadata": {},
   "source": [
    "# Today I Learned  "
   ]
  },
  {
   "cell_type": "markdown",
   "metadata": {},
   "source": [
    "### 💡 State Management  \n",
    "- 상태 : 현재에 대한 정보 => 현재 App이 가지고 있는 Data로 표현할 수 있음\n",
    "- 각 component는 독립적이기 때문에 각각의 상태(data)를 가짐\n",
    "- 이러한 component들이 모여서 하나의 App을 구성할 예정 => 여러 개의 component가 같은 상태를 유지할 필요가 있음 => `상태관리 필요`\n",
    "\n",
    "\n",
    "기존의 상태관리 Props & Emit\n",
    "- 지금까지는 props와 emit을 이용해서 상태 관리를 하고 있음\n",
    "- 데이터를 직관적으로 파악할 수 있음\n",
    "- 하지만 component 깊이가 깊어지면 데이터 전달이 쉽지 않음\n",
    "\n",
    "\n",
    "Centralized Store \n",
    "- 중앙 저장소에 데이터를 모아서 상태 관리\n",
    "- 각 component는 중앙 저장소의 데이터를 사용\n",
    "- component의 `계층에 상관없이 중앙 저장소에 접근`해서 데이터를 얻거나 변경할 수 있음\n",
    "\n",
    "\n",
    "Vuex\n",
    "- 상태관리 패턴 + 라이브러리\n",
    "- 중앙 저장소를 통해 상태 관리를 할 수 있도록 하는 라이브러리\n",
    "- 데이터가 예측 가능한 방식으로만 변경 될 수 있도록 하는 규칙을 설정하며, vue의 반응성을 효율적으로 사용하는 상태 관리 기능을 제공\n",
    "\n",
    "```python\n",
    "vue create vuex-app\n",
    "cd vuex-app\n",
    "vue add vuex  # vue CLI를 통해 vuex plugin 적용\n",
    "```"
   ]
  },
  {
   "cell_type": "markdown",
   "metadata": {},
   "source": [
    "### 💡Vuex\n",
    "\n",
    "State \n",
    "- Vue 인스턴스의 data에 해당\n",
    "- 중앙에서 관리하는 모든 상태 정보\n",
    "- 개벌 component는 state에서 데이터를 가져와서 사용\n",
    "  - 개별 component가 관리하던 data를 중앙 저장소 (Vuex Store의 state)에서 관리하게 됨\n",
    "- state의 데이터가 변화하면 해당 데잉터를 사용하는 component도 자동으로 다시 렌더링\n",
    "- $store.state로 state에 접근\n",
    "- $store.state로 바로 접근하기 보다 computed에 정의하고 접근하는 것을 권장\n",
    "\n",
    "\n",
    "Mutations\n",
    "- `실제로 state를 변경하는 유일한 방법`\n",
    "- vue 인스턴스의 methods에 해당하지만 Mutations에서 호출되는 핸들러 함수는 반드시 동기적이어야 함\n",
    "  - 비동기 로직으로 mutations를 사용해서 state를 변경하는 경우, state의 변화의 시기를 특정할 수 없기 때문\n",
    "- 첫 번째 인자로 state를 받으며, component 혹은 Actions에서 commit() 메서드로 호출됨\n",
    "\n",
    "Actions\n",
    "- mutations와 비슷하지만 `비동기 작업을 포함할 수 있다는 차이`가 있음\n",
    "- `state를 지접 변경하지 않고` commit()메서드로 mutations를 호출해서 state를 변경함\n",
    "- context 객체를 인자로 받으며, 이 객체를 통해 store.js의 `모든 요소와 메서드에 접근할 수 있음`(== 즉 state를 직접 변경할 수 있지만 하지 않아야 함)\n",
    "- component에서 dispatch()메서드에 의해 호출됨\n",
    "\n",
    "\n",
    "Getters\n",
    "- vue 인스턴스의 computed에 해당\n",
    "- state를 활용하여 계산된 값을 얻고자 할 때 사용\n",
    "- 원본 데이터는 건들지 않음\n",
    "- computed와 마찬가지로 getter의 결과는 캐시(cache) 되며, 종속된 값이 변경된 경우에만 재계산 됨\n",
    "- getters에서 계산된 값은 state에 영향을 미치지 않음\n",
    "- 첫 번째 인자로 state, 두번째 인자로 getter를 받음\n",
    "\n",
    "\n",
    "모든 데이터를 Vuex에서 관리해야 할까?\n",
    "- Vuex를 사용한다고 해서 모든 데이터를 state에 넣어야 하는 것은 아님\n",
    "- Vuex에서도 여전히 pass props, emit event를 사용하여 상태를 관리할 수 있음\n",
    "- 개발 환경에 따라 적절하게 사용하는 것이 필요함\n",
    "\n",
    "\n",
    "\n",
    "🔥 데이터 흐름\n",
    "- component에서 데이터를 조작하기 위한 데이터의 흐름\n",
    "  - component => (actions) => mutations => state\n",
    "- component에서 데이터를 사용하기 위한 데이터의 흐름\n",
    "  - state => (getters) => component"
   ]
  },
  {
   "cell_type": "markdown",
   "metadata": {},
   "source": [
    "---"
   ]
  },
  {
   "cell_type": "markdown",
   "metadata": {},
   "source": [
    "### 💡Lifecycle Hooks\n",
    "\n",
    "- 각 Vue 인스턴스는 생성과 소멸의 과정 중 단계별 초기화 과정을 거침\n",
    "  - Vue 인스턴스가 생성된 경우, 인스턴스를 DOM에 마운트하는 경우, 데이터가 변경되어 DOM을 업데이트하는 경우 등\n",
    "- 각 단계가 트리거가 되어 특정 로직을 실행할 수 있음\n",
    "- 이를 Lifecycle Hooks이라고 함\n",
    "\n",
    "\n",
    "created\n",
    "- Vue instance가 생성된 후 호출됨\n",
    "- data, computed 등의 설정이 완료된 상태\n",
    "- 서버에서 받은 데이터를 vue instance의 data에 할당하는 로직을 구현하기 적합\n",
    "- 단, mount되지 않아 요소에 접근할 수 없음\n",
    "\n",
    "\n",
    "mounted\n",
    "- Vue instance가 요소에 mount된 후 호출됨\n",
    "- mount된 요소를 조작할 수 있음\n",
    "- created의 경우, mount 되기 전이기 때문에 DOM에 접근할 수 없으므로 동작하지 않음\n",
    "\n",
    "\n",
    "updated\n",
    "- 데이터가 변경되어 DOM에 변화를 줄 때 출력됨\n",
    "\n",
    "\n",
    "Lifecycle Hooks 특징\n",
    "- instance마다 각각의 Lifecycle을 가지고 있음\n",
    "- Lifecycle Hooks는 컴포넌트별로 정의할 수 있음\n",
    "- 부모 컴포넌트의 mounted hook이 실행 되었다고 해서 자식이 mount 된 것이 아니고, 부모 컴포넌트가 updated hook이 실행 되었다고 해서 자식이 updated 된 것이 아님\n",
    "  - 부착 여부가 부모-자식 관계에 따라 순서를 가지고 있지 않은 것\n",
    "- instance 마다 각각의 Lifecycle을 가지고 있기 때문"
   ]
  },
  {
   "cell_type": "markdown",
   "metadata": {},
   "source": [
    "---"
   ]
  },
  {
   "cell_type": "markdown",
   "metadata": {},
   "source": [
    "### 💡 정리\n",
    "- Vue 컴포넌트의 method에서 dispatch()를 사용해 actions 메서드를 호출\n",
    "- Actions에 정의된 함수는 commit()을 사용해 mutations를 호출\n",
    "- Mutations에 정의된 함수가 최종적으로 state를 변경"
   ]
  },
  {
   "cell_type": "markdown",
   "metadata": {},
   "source": [
    "### 💡Local Storage  \n",
    "- 브라우저의 Local Storage에 데이터를 저장하여 브라우저를 종료하고 다시 실행해도 데이터가 보존될 수 있도록 하기\n",
    "\n",
    "\n",
    "window.localStorage\n",
    "- 브라우저에서 제공하는 저장공간 중 하나인 Local Storage에 관련된 속성\n",
    "- 만료되지 않고 브라우저를 종료하고 다시 실행해도 데이터가 보존됨\n",
    "- 데이터가 문자열 형태로 저장됨\n",
    "- 관련 메서드\n",
    "  - setItem(key, value) => key, value 형태로 데이터 저장\n",
    "  - getItem(key) => key에 해당하는 데이터 조회\n"
   ]
  }
 ],
 "metadata": {
  "language_info": {
   "name": "python"
  },
  "orig_nbformat": 4
 },
 "nbformat": 4,
 "nbformat_minor": 2
}
